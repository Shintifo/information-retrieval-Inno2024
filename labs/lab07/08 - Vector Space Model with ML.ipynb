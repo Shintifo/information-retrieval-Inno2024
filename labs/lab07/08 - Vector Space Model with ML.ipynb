{
 "cells": [
  {
   "cell_type": "markdown",
   "metadata": {},
   "source": [
    "# Homework\n",
    "This part will be devoted to the use of ML model for the needs of information retrieval and text classification.  \n",
    "\n",
    "### **Searching in the curious facts database**\n",
    "\n",
    "The facts dataset is given [here](https://raw.githubusercontent.com/IUCVLab/information-retrieval/main/datasets/facts.txt), take a look. We want you to retrieve facts **relevant to the query** (whatever it means), for example, you type \"good mood\", and get to know that Cherophobia is the fear of fun. For this, the idea is to utilize document vectors. However, instead of forming vectors with tf-idf and reducing dimensions, this time we want to obtain fixed-size vectors for documents using ML model."
   ]
  },
  {
   "cell_type": "markdown",
   "metadata": {},
   "source": [
    "## 1.1. [15] Use neural networks to embed sentences\n",
    "\n",
    "Make use of any, starting from doc2vec up to Transformers, etc. Provide all code, dependencies, installation requirements.\n",
    "\n",
    "\n",
    "- [UCE in spacy 2](https://spacy.io/universe/project/spacy-universal-sentence-encoder) (`!pip install spacy-universal-sentence-encoder`)\n",
    "- [Sentence BERT in spacy 2](https://spacy.io/universe/project/spacy-sentence-bert) (`!pip install spacy-sentence-bert`)\n",
    "- [Pretrained 🤗 Transformers](https://huggingface.co/transformers/pretrained_models.html)\n",
    "- [Spacy 3 transformers](https://spacy.io/usage/embeddings-transformers#transformers-installation)\n",
    "- [doc2vec pretrained](https://github.com/jhlau/doc2vec)\n",
    "- [Some more sentence transformers](https://www.sbert.net/docs/quickstart.html)\n",
    "\n",
    "Here should be dependency installation, download instructions and so on. With outputs."
   ]
  },
  {
   "cell_type": "code",
   "metadata": {
    "ExecuteTime": {
     "end_time": "2024-10-08T12:06:50.482867Z",
     "start_time": "2024-10-08T12:05:01.680329Z"
    }
   },
   "source": "!pip install spacy-sentence-bert",
   "outputs": [
    {
     "name": "stdout",
     "output_type": "stream",
     "text": [
      "Collecting spacy-sentence-bert\r\n",
      "  Downloading spacy_sentence_bert-0.1.2.tar.gz (12 kB)\r\n",
      "  Installing build dependencies ... \u001B[?25ldone\r\n",
      "\u001B[?25h  Getting requirements to build wheel ... \u001B[?25ldone\r\n",
      "\u001B[?25h  Preparing metadata (pyproject.toml) ... \u001B[?25ldone\r\n",
      "\u001B[?25hCollecting sentence-transformers (from spacy-sentence-bert)\r\n",
      "  Downloading sentence_transformers-3.1.1-py3-none-any.whl.metadata (10 kB)\r\n",
      "Collecting spacy<4.0.0,>=3.0.0 (from spacy-sentence-bert)\r\n",
      "  Downloading spacy-3.8.2-cp312-cp312-manylinux_2_17_x86_64.manylinux2014_x86_64.whl.metadata (27 kB)\r\n",
      "Collecting protobuf (from spacy-sentence-bert)\r\n",
      "  Downloading protobuf-5.28.2-cp38-abi3-manylinux2014_x86_64.whl.metadata (592 bytes)\r\n",
      "Collecting spacy-legacy<3.1.0,>=3.0.11 (from spacy<4.0.0,>=3.0.0->spacy-sentence-bert)\r\n",
      "  Downloading spacy_legacy-3.0.12-py2.py3-none-any.whl.metadata (2.8 kB)\r\n",
      "Collecting spacy-loggers<2.0.0,>=1.0.0 (from spacy<4.0.0,>=3.0.0->spacy-sentence-bert)\r\n",
      "  Downloading spacy_loggers-1.0.5-py3-none-any.whl.metadata (23 kB)\r\n",
      "Collecting murmurhash<1.1.0,>=0.28.0 (from spacy<4.0.0,>=3.0.0->spacy-sentence-bert)\r\n",
      "  Downloading murmurhash-1.0.10-cp312-cp312-manylinux_2_5_x86_64.manylinux1_x86_64.manylinux_2_17_x86_64.manylinux2014_x86_64.whl.metadata (2.0 kB)\r\n",
      "Collecting cymem<2.1.0,>=2.0.2 (from spacy<4.0.0,>=3.0.0->spacy-sentence-bert)\r\n",
      "  Downloading cymem-2.0.8-cp312-cp312-manylinux_2_17_x86_64.manylinux2014_x86_64.whl.metadata (8.4 kB)\r\n",
      "Collecting preshed<3.1.0,>=3.0.2 (from spacy<4.0.0,>=3.0.0->spacy-sentence-bert)\r\n",
      "  Downloading preshed-3.0.9-cp312-cp312-manylinux_2_5_x86_64.manylinux1_x86_64.manylinux_2_17_x86_64.manylinux2014_x86_64.whl.metadata (2.2 kB)\r\n",
      "Collecting thinc<8.4.0,>=8.3.0 (from spacy<4.0.0,>=3.0.0->spacy-sentence-bert)\r\n",
      "  Downloading thinc-8.3.2-cp312-cp312-manylinux_2_17_x86_64.manylinux2014_x86_64.whl.metadata (15 kB)\r\n",
      "Collecting wasabi<1.2.0,>=0.9.1 (from spacy<4.0.0,>=3.0.0->spacy-sentence-bert)\r\n",
      "  Downloading wasabi-1.1.3-py3-none-any.whl.metadata (28 kB)\r\n",
      "Collecting srsly<3.0.0,>=2.4.3 (from spacy<4.0.0,>=3.0.0->spacy-sentence-bert)\r\n",
      "  Downloading srsly-2.4.8-cp312-cp312-manylinux_2_17_x86_64.manylinux2014_x86_64.whl.metadata (20 kB)\r\n",
      "Collecting catalogue<2.1.0,>=2.0.6 (from spacy<4.0.0,>=3.0.0->spacy-sentence-bert)\r\n",
      "  Downloading catalogue-2.0.10-py3-none-any.whl.metadata (14 kB)\r\n",
      "Collecting weasel<0.5.0,>=0.1.0 (from spacy<4.0.0,>=3.0.0->spacy-sentence-bert)\r\n",
      "  Downloading weasel-0.4.1-py3-none-any.whl.metadata (4.6 kB)\r\n",
      "Collecting typer<1.0.0,>=0.3.0 (from spacy<4.0.0,>=3.0.0->spacy-sentence-bert)\r\n",
      "  Downloading typer-0.12.5-py3-none-any.whl.metadata (15 kB)\r\n",
      "Collecting tqdm<5.0.0,>=4.38.0 (from spacy<4.0.0,>=3.0.0->spacy-sentence-bert)\r\n",
      "  Using cached tqdm-4.66.5-py3-none-any.whl.metadata (57 kB)\r\n",
      "Requirement already satisfied: requests<3.0.0,>=2.13.0 in ./.venv/lib64/python3.12/site-packages (from spacy<4.0.0,>=3.0.0->spacy-sentence-bert) (2.32.3)\r\n",
      "Collecting pydantic!=1.8,!=1.8.1,<3.0.0,>=1.7.4 (from spacy<4.0.0,>=3.0.0->spacy-sentence-bert)\r\n",
      "  Downloading pydantic-2.9.2-py3-none-any.whl.metadata (149 kB)\r\n",
      "\u001B[2K     \u001B[90m━━━━━━━━━━━━━━━━━━━━━━━━━━━━━━━━━━━━━━━\u001B[0m \u001B[32m149.4/149.4 kB\u001B[0m \u001B[31m1.0 MB/s\u001B[0m eta \u001B[36m0:00:00\u001B[0ma \u001B[36m0:00:01\u001B[0m\r\n",
      "\u001B[?25hRequirement already satisfied: jinja2 in ./.venv/lib64/python3.12/site-packages (from spacy<4.0.0,>=3.0.0->spacy-sentence-bert) (3.1.4)\r\n",
      "Requirement already satisfied: setuptools in ./.venv/lib64/python3.12/site-packages (from spacy<4.0.0,>=3.0.0->spacy-sentence-bert) (75.1.0)\r\n",
      "Requirement already satisfied: packaging>=20.0 in ./.venv/lib64/python3.12/site-packages (from spacy<4.0.0,>=3.0.0->spacy-sentence-bert) (24.1)\r\n",
      "Collecting langcodes<4.0.0,>=3.2.0 (from spacy<4.0.0,>=3.0.0->spacy-sentence-bert)\r\n",
      "  Downloading langcodes-3.4.1-py3-none-any.whl.metadata (29 kB)\r\n",
      "Requirement already satisfied: numpy>=1.19.0 in ./.venv/lib64/python3.12/site-packages (from spacy<4.0.0,>=3.0.0->spacy-sentence-bert) (2.1.2)\r\n",
      "Collecting transformers<5.0.0,>=4.38.0 (from sentence-transformers->spacy-sentence-bert)\r\n",
      "  Downloading transformers-4.45.2-py3-none-any.whl.metadata (44 kB)\r\n",
      "\u001B[2K     \u001B[90m━━━━━━━━━━━━━━━━━━━━━━━━━━━━━━━━━━━━━━━━\u001B[0m \u001B[32m44.4/44.4 kB\u001B[0m \u001B[31m1.4 MB/s\u001B[0m eta \u001B[36m0:00:00\u001B[0m\r\n",
      "\u001B[?25hCollecting torch>=1.11.0 (from sentence-transformers->spacy-sentence-bert)\r\n",
      "  Using cached torch-2.4.1-cp312-cp312-manylinux1_x86_64.whl.metadata (26 kB)\r\n",
      "Collecting scikit-learn (from sentence-transformers->spacy-sentence-bert)\r\n",
      "  Downloading scikit_learn-1.5.2-cp312-cp312-manylinux_2_17_x86_64.manylinux2014_x86_64.whl.metadata (13 kB)\r\n",
      "Collecting scipy (from sentence-transformers->spacy-sentence-bert)\r\n",
      "  Downloading scipy-1.14.1-cp312-cp312-manylinux_2_17_x86_64.manylinux2014_x86_64.whl.metadata (60 kB)\r\n",
      "\u001B[2K     \u001B[90m━━━━━━━━━━━━━━━━━━━━━━━━━━━━━━━━━━━━━━━━\u001B[0m \u001B[32m60.8/60.8 kB\u001B[0m \u001B[31m1.5 MB/s\u001B[0m eta \u001B[36m0:00:00\u001B[0ma \u001B[36m0:00:01\u001B[0m\r\n",
      "\u001B[?25hCollecting huggingface-hub>=0.19.3 (from sentence-transformers->spacy-sentence-bert)\r\n",
      "  Downloading huggingface_hub-0.25.1-py3-none-any.whl.metadata (13 kB)\r\n",
      "Collecting Pillow (from sentence-transformers->spacy-sentence-bert)\r\n",
      "  Using cached pillow-10.4.0-cp312-cp312-manylinux_2_28_x86_64.whl.metadata (9.2 kB)\r\n",
      "Collecting filelock (from huggingface-hub>=0.19.3->sentence-transformers->spacy-sentence-bert)\r\n",
      "  Using cached filelock-3.16.1-py3-none-any.whl.metadata (2.9 kB)\r\n",
      "Collecting fsspec>=2023.5.0 (from huggingface-hub>=0.19.3->sentence-transformers->spacy-sentence-bert)\r\n",
      "  Using cached fsspec-2024.9.0-py3-none-any.whl.metadata (11 kB)\r\n",
      "Requirement already satisfied: pyyaml>=5.1 in ./.venv/lib64/python3.12/site-packages (from huggingface-hub>=0.19.3->sentence-transformers->spacy-sentence-bert) (6.0.2)\r\n",
      "Collecting typing-extensions>=3.7.4.3 (from huggingface-hub>=0.19.3->sentence-transformers->spacy-sentence-bert)\r\n",
      "  Using cached typing_extensions-4.12.2-py3-none-any.whl.metadata (3.0 kB)\r\n",
      "Collecting language-data>=1.2 (from langcodes<4.0.0,>=3.2.0->spacy<4.0.0,>=3.0.0->spacy-sentence-bert)\r\n",
      "  Downloading language_data-1.2.0-py3-none-any.whl.metadata (4.3 kB)\r\n",
      "Collecting annotated-types>=0.6.0 (from pydantic!=1.8,!=1.8.1,<3.0.0,>=1.7.4->spacy<4.0.0,>=3.0.0->spacy-sentence-bert)\r\n",
      "  Downloading annotated_types-0.7.0-py3-none-any.whl.metadata (15 kB)\r\n",
      "Collecting pydantic-core==2.23.4 (from pydantic!=1.8,!=1.8.1,<3.0.0,>=1.7.4->spacy<4.0.0,>=3.0.0->spacy-sentence-bert)\r\n",
      "  Downloading pydantic_core-2.23.4-cp312-cp312-manylinux_2_17_x86_64.manylinux2014_x86_64.whl.metadata (6.6 kB)\r\n",
      "Requirement already satisfied: charset-normalizer<4,>=2 in ./.venv/lib64/python3.12/site-packages (from requests<3.0.0,>=2.13.0->spacy<4.0.0,>=3.0.0->spacy-sentence-bert) (3.3.2)\r\n",
      "Requirement already satisfied: idna<4,>=2.5 in ./.venv/lib64/python3.12/site-packages (from requests<3.0.0,>=2.13.0->spacy<4.0.0,>=3.0.0->spacy-sentence-bert) (3.10)\r\n",
      "Requirement already satisfied: urllib3<3,>=1.21.1 in ./.venv/lib64/python3.12/site-packages (from requests<3.0.0,>=2.13.0->spacy<4.0.0,>=3.0.0->spacy-sentence-bert) (2.2.3)\r\n",
      "Requirement already satisfied: certifi>=2017.4.17 in ./.venv/lib64/python3.12/site-packages (from requests<3.0.0,>=2.13.0->spacy<4.0.0,>=3.0.0->spacy-sentence-bert) (2024.8.30)\r\n",
      "Collecting blis<1.1.0,>=1.0.0 (from thinc<8.4.0,>=8.3.0->spacy<4.0.0,>=3.0.0->spacy-sentence-bert)\r\n",
      "  Downloading blis-1.0.1-cp312-cp312-manylinux_2_17_x86_64.manylinux2014_x86_64.whl.metadata (7.6 kB)\r\n",
      "Collecting confection<1.0.0,>=0.0.1 (from thinc<8.4.0,>=8.3.0->spacy<4.0.0,>=3.0.0->spacy-sentence-bert)\r\n",
      "  Downloading confection-0.1.5-py3-none-any.whl.metadata (19 kB)\r\n",
      "Collecting numpy>=1.19.0 (from spacy<4.0.0,>=3.0.0->spacy-sentence-bert)\r\n",
      "  Downloading numpy-2.0.2-cp312-cp312-manylinux_2_17_x86_64.manylinux2014_x86_64.whl.metadata (60 kB)\r\n",
      "\u001B[2K     \u001B[90m━━━━━━━━━━━━━━━━━━━━━━━━━━━━━━━━━━━━━━━━\u001B[0m \u001B[32m60.9/60.9 kB\u001B[0m \u001B[31m1.3 MB/s\u001B[0m eta \u001B[36m0:00:00\u001B[0ma \u001B[36m0:00:01\u001B[0m\r\n",
      "\u001B[?25hCollecting sympy (from torch>=1.11.0->sentence-transformers->spacy-sentence-bert)\r\n",
      "  Using cached sympy-1.13.3-py3-none-any.whl.metadata (12 kB)\r\n",
      "Collecting networkx (from torch>=1.11.0->sentence-transformers->spacy-sentence-bert)\r\n",
      "  Using cached networkx-3.3-py3-none-any.whl.metadata (5.1 kB)\r\n",
      "Collecting nvidia-cuda-nvrtc-cu12==12.1.105 (from torch>=1.11.0->sentence-transformers->spacy-sentence-bert)\r\n",
      "  Using cached nvidia_cuda_nvrtc_cu12-12.1.105-py3-none-manylinux1_x86_64.whl.metadata (1.5 kB)\r\n",
      "Collecting nvidia-cuda-runtime-cu12==12.1.105 (from torch>=1.11.0->sentence-transformers->spacy-sentence-bert)\r\n",
      "  Using cached nvidia_cuda_runtime_cu12-12.1.105-py3-none-manylinux1_x86_64.whl.metadata (1.5 kB)\r\n",
      "Collecting nvidia-cuda-cupti-cu12==12.1.105 (from torch>=1.11.0->sentence-transformers->spacy-sentence-bert)\r\n",
      "  Using cached nvidia_cuda_cupti_cu12-12.1.105-py3-none-manylinux1_x86_64.whl.metadata (1.6 kB)\r\n",
      "Collecting nvidia-cudnn-cu12==9.1.0.70 (from torch>=1.11.0->sentence-transformers->spacy-sentence-bert)\r\n",
      "  Using cached nvidia_cudnn_cu12-9.1.0.70-py3-none-manylinux2014_x86_64.whl.metadata (1.6 kB)\r\n",
      "Collecting nvidia-cublas-cu12==12.1.3.1 (from torch>=1.11.0->sentence-transformers->spacy-sentence-bert)\r\n",
      "  Using cached nvidia_cublas_cu12-12.1.3.1-py3-none-manylinux1_x86_64.whl.metadata (1.5 kB)\r\n",
      "Collecting nvidia-cufft-cu12==11.0.2.54 (from torch>=1.11.0->sentence-transformers->spacy-sentence-bert)\r\n",
      "  Using cached nvidia_cufft_cu12-11.0.2.54-py3-none-manylinux1_x86_64.whl.metadata (1.5 kB)\r\n",
      "Collecting nvidia-curand-cu12==10.3.2.106 (from torch>=1.11.0->sentence-transformers->spacy-sentence-bert)\r\n",
      "  Using cached nvidia_curand_cu12-10.3.2.106-py3-none-manylinux1_x86_64.whl.metadata (1.5 kB)\r\n",
      "Collecting nvidia-cusolver-cu12==11.4.5.107 (from torch>=1.11.0->sentence-transformers->spacy-sentence-bert)\r\n",
      "  Using cached nvidia_cusolver_cu12-11.4.5.107-py3-none-manylinux1_x86_64.whl.metadata (1.6 kB)\r\n",
      "Collecting nvidia-cusparse-cu12==12.1.0.106 (from torch>=1.11.0->sentence-transformers->spacy-sentence-bert)\r\n",
      "  Using cached nvidia_cusparse_cu12-12.1.0.106-py3-none-manylinux1_x86_64.whl.metadata (1.6 kB)\r\n",
      "Collecting nvidia-nccl-cu12==2.20.5 (from torch>=1.11.0->sentence-transformers->spacy-sentence-bert)\r\n",
      "  Using cached nvidia_nccl_cu12-2.20.5-py3-none-manylinux2014_x86_64.whl.metadata (1.8 kB)\r\n",
      "Collecting nvidia-nvtx-cu12==12.1.105 (from torch>=1.11.0->sentence-transformers->spacy-sentence-bert)\r\n",
      "  Using cached nvidia_nvtx_cu12-12.1.105-py3-none-manylinux1_x86_64.whl.metadata (1.7 kB)\r\n",
      "Collecting triton==3.0.0 (from torch>=1.11.0->sentence-transformers->spacy-sentence-bert)\r\n",
      "  Using cached triton-3.0.0-1-cp312-cp312-manylinux2014_x86_64.manylinux_2_17_x86_64.whl.metadata (1.3 kB)\r\n",
      "Collecting nvidia-nvjitlink-cu12 (from nvidia-cusolver-cu12==11.4.5.107->torch>=1.11.0->sentence-transformers->spacy-sentence-bert)\r\n",
      "  Using cached nvidia_nvjitlink_cu12-12.6.77-py3-none-manylinux2014_x86_64.whl.metadata (1.5 kB)\r\n",
      "Collecting regex!=2019.12.17 (from transformers<5.0.0,>=4.38.0->sentence-transformers->spacy-sentence-bert)\r\n",
      "  Downloading regex-2024.9.11-cp312-cp312-manylinux_2_17_x86_64.manylinux2014_x86_64.whl.metadata (40 kB)\r\n",
      "\u001B[2K     \u001B[90m━━━━━━━━━━━━━━━━━━━━━━━━━━━━━━━━━━━━━━━━\u001B[0m \u001B[32m40.5/40.5 kB\u001B[0m \u001B[31m6.9 MB/s\u001B[0m eta \u001B[36m0:00:00\u001B[0m\r\n",
      "\u001B[?25hCollecting safetensors>=0.4.1 (from transformers<5.0.0,>=4.38.0->sentence-transformers->spacy-sentence-bert)\r\n",
      "  Downloading safetensors-0.4.5-cp312-cp312-manylinux_2_17_x86_64.manylinux2014_x86_64.whl.metadata (3.8 kB)\r\n",
      "Collecting tokenizers<0.21,>=0.20 (from transformers<5.0.0,>=4.38.0->sentence-transformers->spacy-sentence-bert)\r\n",
      "  Downloading tokenizers-0.20.0-cp312-cp312-manylinux_2_17_x86_64.manylinux2014_x86_64.whl.metadata (6.7 kB)\r\n",
      "Collecting click>=8.0.0 (from typer<1.0.0,>=0.3.0->spacy<4.0.0,>=3.0.0->spacy-sentence-bert)\r\n",
      "  Downloading click-8.1.7-py3-none-any.whl.metadata (3.0 kB)\r\n",
      "Collecting shellingham>=1.3.0 (from typer<1.0.0,>=0.3.0->spacy<4.0.0,>=3.0.0->spacy-sentence-bert)\r\n",
      "  Downloading shellingham-1.5.4-py2.py3-none-any.whl.metadata (3.5 kB)\r\n",
      "Collecting rich>=10.11.0 (from typer<1.0.0,>=0.3.0->spacy<4.0.0,>=3.0.0->spacy-sentence-bert)\r\n",
      "  Downloading rich-13.9.2-py3-none-any.whl.metadata (18 kB)\r\n",
      "Collecting cloudpathlib<1.0.0,>=0.7.0 (from weasel<0.5.0,>=0.1.0->spacy<4.0.0,>=3.0.0->spacy-sentence-bert)\r\n",
      "  Downloading cloudpathlib-0.19.0-py3-none-any.whl.metadata (14 kB)\r\n",
      "Collecting smart-open<8.0.0,>=5.2.1 (from weasel<0.5.0,>=0.1.0->spacy<4.0.0,>=3.0.0->spacy-sentence-bert)\r\n",
      "  Downloading smart_open-7.0.5-py3-none-any.whl.metadata (24 kB)\r\n",
      "Requirement already satisfied: MarkupSafe>=2.0 in ./.venv/lib64/python3.12/site-packages (from jinja2->spacy<4.0.0,>=3.0.0->spacy-sentence-bert) (2.1.5)\r\n",
      "Collecting joblib>=1.2.0 (from scikit-learn->sentence-transformers->spacy-sentence-bert)\r\n",
      "  Downloading joblib-1.4.2-py3-none-any.whl.metadata (5.4 kB)\r\n",
      "Collecting threadpoolctl>=3.1.0 (from scikit-learn->sentence-transformers->spacy-sentence-bert)\r\n",
      "  Downloading threadpoolctl-3.5.0-py3-none-any.whl.metadata (13 kB)\r\n",
      "Collecting marisa-trie>=0.7.7 (from language-data>=1.2->langcodes<4.0.0,>=3.2.0->spacy<4.0.0,>=3.0.0->spacy-sentence-bert)\r\n",
      "  Downloading marisa_trie-1.2.0-cp312-cp312-manylinux_2_17_x86_64.manylinux2014_x86_64.whl.metadata (8.7 kB)\r\n",
      "Collecting markdown-it-py>=2.2.0 (from rich>=10.11.0->typer<1.0.0,>=0.3.0->spacy<4.0.0,>=3.0.0->spacy-sentence-bert)\r\n",
      "  Downloading markdown_it_py-3.0.0-py3-none-any.whl.metadata (6.9 kB)\r\n",
      "Requirement already satisfied: pygments<3.0.0,>=2.13.0 in ./.venv/lib64/python3.12/site-packages (from rich>=10.11.0->typer<1.0.0,>=0.3.0->spacy<4.0.0,>=3.0.0->spacy-sentence-bert) (2.18.0)\r\n",
      "Collecting wrapt (from smart-open<8.0.0,>=5.2.1->weasel<0.5.0,>=0.1.0->spacy<4.0.0,>=3.0.0->spacy-sentence-bert)\r\n",
      "  Downloading wrapt-1.16.0-cp312-cp312-manylinux_2_5_x86_64.manylinux1_x86_64.manylinux_2_17_x86_64.manylinux2014_x86_64.whl.metadata (6.6 kB)\r\n",
      "Collecting mpmath<1.4,>=1.1.0 (from sympy->torch>=1.11.0->sentence-transformers->spacy-sentence-bert)\r\n",
      "  Using cached mpmath-1.3.0-py3-none-any.whl.metadata (8.6 kB)\r\n",
      "Collecting mdurl~=0.1 (from markdown-it-py>=2.2.0->rich>=10.11.0->typer<1.0.0,>=0.3.0->spacy<4.0.0,>=3.0.0->spacy-sentence-bert)\r\n",
      "  Downloading mdurl-0.1.2-py3-none-any.whl.metadata (1.6 kB)\r\n",
      "Downloading spacy-3.8.2-cp312-cp312-manylinux_2_17_x86_64.manylinux2014_x86_64.whl (31.8 MB)\r\n",
      "\u001B[2K   \u001B[90m━━━━━━━━━━━━━━━━━━━━━━━━━━━━━━━━━━━━━━━━\u001B[0m \u001B[32m31.8/31.8 MB\u001B[0m \u001B[31m7.6 MB/s\u001B[0m eta \u001B[36m0:00:00\u001B[0m00:01\u001B[0m00:01\u001B[0m\r\n",
      "\u001B[?25hDownloading protobuf-5.28.2-cp38-abi3-manylinux2014_x86_64.whl (316 kB)\r\n",
      "\u001B[2K   \u001B[90m━━━━━━━━━━━━━━━━━━━━━━━━━━━━━━━━━━━━━━━━\u001B[0m \u001B[32m316.6/316.6 kB\u001B[0m \u001B[31m13.3 MB/s\u001B[0m eta \u001B[36m0:00:00\u001B[0m\r\n",
      "\u001B[?25hDownloading sentence_transformers-3.1.1-py3-none-any.whl (245 kB)\r\n",
      "\u001B[2K   \u001B[90m━━━━━━━━━━━━━━━━━━━━━━━━━━━━━━━━━━━━━━━━\u001B[0m \u001B[32m245.3/245.3 kB\u001B[0m \u001B[31m27.7 MB/s\u001B[0m eta \u001B[36m0:00:00\u001B[0m\r\n",
      "\u001B[?25hDownloading catalogue-2.0.10-py3-none-any.whl (17 kB)\r\n",
      "Downloading cymem-2.0.8-cp312-cp312-manylinux_2_17_x86_64.manylinux2014_x86_64.whl (46 kB)\r\n",
      "\u001B[2K   \u001B[90m━━━━━━━━━━━━━━━━━━━━━━━━━━━━━━━━━━━━━━━━\u001B[0m \u001B[32m46.7/46.7 kB\u001B[0m \u001B[31m8.5 MB/s\u001B[0m eta \u001B[36m0:00:00\u001B[0m\r\n",
      "\u001B[?25hDownloading huggingface_hub-0.25.1-py3-none-any.whl (436 kB)\r\n",
      "\u001B[2K   \u001B[90m━━━━━━━━━━━━━━━━━━━━━━━━━━━━━━━━━━━━━━━━\u001B[0m \u001B[32m436.4/436.4 kB\u001B[0m \u001B[31m11.1 MB/s\u001B[0m eta \u001B[36m0:00:00\u001B[0m00:01\u001B[0m\r\n",
      "\u001B[?25hDownloading langcodes-3.4.1-py3-none-any.whl (182 kB)\r\n",
      "\u001B[2K   \u001B[90m━━━━━━━━━━━━━━━━━━━━━━━━━━━━━━━━━━━━━━━━\u001B[0m \u001B[32m182.4/182.4 kB\u001B[0m \u001B[31m34.5 MB/s\u001B[0m eta \u001B[36m0:00:00\u001B[0m\r\n",
      "\u001B[?25hDownloading murmurhash-1.0.10-cp312-cp312-manylinux_2_5_x86_64.manylinux1_x86_64.manylinux_2_17_x86_64.manylinux2014_x86_64.whl (29 kB)\r\n",
      "Downloading preshed-3.0.9-cp312-cp312-manylinux_2_5_x86_64.manylinux1_x86_64.manylinux_2_17_x86_64.manylinux2014_x86_64.whl (156 kB)\r\n",
      "\u001B[2K   \u001B[90m━━━━━━━━━━━━━━━━━━━━━━━━━━━━━━━━━━━━━━━━\u001B[0m \u001B[32m156.8/156.8 kB\u001B[0m \u001B[31m12.7 MB/s\u001B[0m eta \u001B[36m0:00:00\u001B[0m\r\n",
      "\u001B[?25hDownloading pydantic-2.9.2-py3-none-any.whl (434 kB)\r\n",
      "\u001B[2K   \u001B[90m━━━━━━━━━━━━━━━━━━━━━━━━━━━━━━━━━━━━━━━━\u001B[0m \u001B[32m434.9/434.9 kB\u001B[0m \u001B[31m10.1 MB/s\u001B[0m eta \u001B[36m0:00:00\u001B[0m00:01\u001B[0m\r\n",
      "\u001B[?25hDownloading pydantic_core-2.23.4-cp312-cp312-manylinux_2_17_x86_64.manylinux2014_x86_64.whl (2.1 MB)\r\n",
      "\u001B[2K   \u001B[90m━━━━━━━━━━━━━━━━━━━━━━━━━━━━━━━━━━━━━━━━\u001B[0m \u001B[32m2.1/2.1 MB\u001B[0m \u001B[31m9.6 MB/s\u001B[0m eta \u001B[36m0:00:00\u001B[0m:00:01\u001B[0m00:01\u001B[0m\r\n",
      "\u001B[?25hDownloading spacy_legacy-3.0.12-py2.py3-none-any.whl (29 kB)\r\n",
      "Downloading spacy_loggers-1.0.5-py3-none-any.whl (22 kB)\r\n",
      "Downloading srsly-2.4.8-cp312-cp312-manylinux_2_17_x86_64.manylinux2014_x86_64.whl (491 kB)\r\n",
      "\u001B[2K   \u001B[90m━━━━━━━━━━━━━━━━━━━━━━━━━━━━━━━━━━━━━━━━\u001B[0m \u001B[32m491.7/491.7 kB\u001B[0m \u001B[31m12.1 MB/s\u001B[0m eta \u001B[36m0:00:00\u001B[0m00:01\u001B[0m\r\n",
      "\u001B[?25hDownloading thinc-8.3.2-cp312-cp312-manylinux_2_17_x86_64.manylinux2014_x86_64.whl (3.7 MB)\r\n",
      "\u001B[2K   \u001B[90m━━━━━━━━━━━━━━━━━━━━━━━━━━━━━━━━━━━━━━━━\u001B[0m \u001B[32m3.7/3.7 MB\u001B[0m \u001B[31m9.6 MB/s\u001B[0m eta \u001B[36m0:00:00\u001B[0ma \u001B[36m0:00:01\u001B[0mm\r\n",
      "\u001B[?25hDownloading numpy-2.0.2-cp312-cp312-manylinux_2_17_x86_64.manylinux2014_x86_64.whl (19.2 MB)\r\n",
      "\u001B[2K   \u001B[90m━━━━━━━━━━━━━━━━━━━━━━━━━━━━━━━━━━━━━━━━\u001B[0m \u001B[32m19.2/19.2 MB\u001B[0m \u001B[31m13.9 MB/s\u001B[0m eta \u001B[36m0:00:00\u001B[0m00:01\u001B[0m00:01\u001B[0m\r\n",
      "\u001B[?25hUsing cached torch-2.4.1-cp312-cp312-manylinux1_x86_64.whl (797.0 MB)\r\n",
      "Using cached nvidia_cublas_cu12-12.1.3.1-py3-none-manylinux1_x86_64.whl (410.6 MB)\r\n",
      "Using cached nvidia_cuda_cupti_cu12-12.1.105-py3-none-manylinux1_x86_64.whl (14.1 MB)\r\n",
      "Using cached nvidia_cuda_nvrtc_cu12-12.1.105-py3-none-manylinux1_x86_64.whl (23.7 MB)\r\n",
      "Using cached nvidia_cuda_runtime_cu12-12.1.105-py3-none-manylinux1_x86_64.whl (823 kB)\r\n",
      "Using cached nvidia_cudnn_cu12-9.1.0.70-py3-none-manylinux2014_x86_64.whl (664.8 MB)\r\n",
      "Using cached nvidia_cufft_cu12-11.0.2.54-py3-none-manylinux1_x86_64.whl (121.6 MB)\r\n",
      "Using cached nvidia_curand_cu12-10.3.2.106-py3-none-manylinux1_x86_64.whl (56.5 MB)\r\n",
      "Using cached nvidia_cusolver_cu12-11.4.5.107-py3-none-manylinux1_x86_64.whl (124.2 MB)\r\n",
      "Using cached nvidia_cusparse_cu12-12.1.0.106-py3-none-manylinux1_x86_64.whl (196.0 MB)\r\n",
      "Using cached nvidia_nccl_cu12-2.20.5-py3-none-manylinux2014_x86_64.whl (176.2 MB)\r\n",
      "Using cached nvidia_nvtx_cu12-12.1.105-py3-none-manylinux1_x86_64.whl (99 kB)\r\n",
      "Using cached triton-3.0.0-1-cp312-cp312-manylinux2014_x86_64.manylinux_2_17_x86_64.whl (209.5 MB)\r\n",
      "Using cached tqdm-4.66.5-py3-none-any.whl (78 kB)\r\n",
      "Downloading transformers-4.45.2-py3-none-any.whl (9.9 MB)\r\n",
      "\u001B[2K   \u001B[90m━━━━━━━━━━━━━━━━━━━━━━━━━━━━━━━━━━━━━━━━\u001B[0m \u001B[32m9.9/9.9 MB\u001B[0m \u001B[31m16.1 MB/s\u001B[0m eta \u001B[36m0:00:00\u001B[0m00:01\u001B[0m00:01\u001B[0m\r\n",
      "\u001B[?25hDownloading typer-0.12.5-py3-none-any.whl (47 kB)\r\n",
      "\u001B[2K   \u001B[90m━━━━━━━━━━━━━━━━━━━━━━━━━━━━━━━━━━━━━━━━\u001B[0m \u001B[32m47.3/47.3 kB\u001B[0m \u001B[31m8.4 MB/s\u001B[0m eta \u001B[36m0:00:00\u001B[0m\r\n",
      "\u001B[?25hDownloading wasabi-1.1.3-py3-none-any.whl (27 kB)\r\n",
      "Downloading weasel-0.4.1-py3-none-any.whl (50 kB)\r\n",
      "\u001B[2K   \u001B[90m━━━━━━━━━━━━━━━━━━━━━━━━━━━━━━━━━━━━━━━━\u001B[0m \u001B[32m50.3/50.3 kB\u001B[0m \u001B[31m900.6 kB/s\u001B[0m eta \u001B[36m0:00:00\u001B[0m--:--\u001B[0m\r\n",
      "\u001B[?25hUsing cached pillow-10.4.0-cp312-cp312-manylinux_2_28_x86_64.whl (4.5 MB)\r\n",
      "Downloading scikit_learn-1.5.2-cp312-cp312-manylinux_2_17_x86_64.manylinux2014_x86_64.whl (12.9 MB)\r\n",
      "\u001B[2K   \u001B[90m━━━━━━━━━━━━━━━━━━━━━━━━━━━━━━━━━━━━━━━━\u001B[0m \u001B[32m12.9/12.9 MB\u001B[0m \u001B[31m17.1 MB/s\u001B[0m eta \u001B[36m0:00:00\u001B[0ma \u001B[36m0:00:01\u001B[0m\r\n",
      "\u001B[?25hDownloading scipy-1.14.1-cp312-cp312-manylinux_2_17_x86_64.manylinux2014_x86_64.whl (40.8 MB)\r\n",
      "\u001B[2K   \u001B[90m━━━━━━━━━━━━━━━━━━━━━━━━━━━━━━━━━━━━━━━━\u001B[0m \u001B[32m40.8/40.8 MB\u001B[0m \u001B[31m12.6 MB/s\u001B[0m eta \u001B[36m0:00:00\u001B[0m00:01\u001B[0m00:01\u001B[0m\r\n",
      "\u001B[?25hDownloading annotated_types-0.7.0-py3-none-any.whl (13 kB)\r\n",
      "Downloading blis-1.0.1-cp312-cp312-manylinux_2_17_x86_64.manylinux2014_x86_64.whl (9.3 MB)\r\n",
      "\u001B[2K   \u001B[90m━━━━━━━━━━━━━━━━━━━━━━━━━━━━━━━━━━━━━━━━\u001B[0m \u001B[32m9.3/9.3 MB\u001B[0m \u001B[31m12.2 MB/s\u001B[0m eta \u001B[36m0:00:00\u001B[0m00:01\u001B[0m00:01\u001B[0m\r\n",
      "\u001B[?25hDownloading click-8.1.7-py3-none-any.whl (97 kB)\r\n",
      "\u001B[2K   \u001B[90m━━━━━━━━━━━━━━━━━━━━━━━━━━━━━━━━━━━━━━━━\u001B[0m \u001B[32m97.9/97.9 kB\u001B[0m \u001B[31m11.9 MB/s\u001B[0m eta \u001B[36m0:00:00\u001B[0m\r\n",
      "\u001B[?25hDownloading cloudpathlib-0.19.0-py3-none-any.whl (49 kB)\r\n",
      "\u001B[2K   \u001B[90m━━━━━━━━━━━━━━━━━━━━━━━━━━━━━━━━━━━━━━━━\u001B[0m \u001B[32m49.4/49.4 kB\u001B[0m \u001B[31m8.5 MB/s\u001B[0m eta \u001B[36m0:00:00\u001B[0m\r\n",
      "\u001B[?25hDownloading confection-0.1.5-py3-none-any.whl (35 kB)\r\n",
      "Using cached fsspec-2024.9.0-py3-none-any.whl (179 kB)\r\n",
      "Downloading joblib-1.4.2-py3-none-any.whl (301 kB)\r\n",
      "\u001B[2K   \u001B[90m━━━━━━━━━━━━━━━━━━━━━━━━━━━━━━━━━━━━━━━━\u001B[0m \u001B[32m301.8/301.8 kB\u001B[0m \u001B[31m18.5 MB/s\u001B[0m eta \u001B[36m0:00:00\u001B[0m\r\n",
      "\u001B[?25hDownloading language_data-1.2.0-py3-none-any.whl (5.4 MB)\r\n",
      "\u001B[2K   \u001B[90m━━━━━━━━━━━━━━━━━━━━━━━━━━━━━━━━━━━━━━━━\u001B[0m \u001B[32m5.4/5.4 MB\u001B[0m \u001B[31m15.4 MB/s\u001B[0m eta \u001B[36m0:00:00\u001B[0m00:01\u001B[0m00:01\u001B[0m\r\n",
      "\u001B[?25hDownloading regex-2024.9.11-cp312-cp312-manylinux_2_17_x86_64.manylinux2014_x86_64.whl (797 kB)\r\n",
      "\u001B[2K   \u001B[90m━━━━━━━━━━━━━━━━━━━━━━━━━━━━━━━━━━━━━━━━\u001B[0m \u001B[32m797.0/797.0 kB\u001B[0m \u001B[31m16.0 MB/s\u001B[0m eta \u001B[36m0:00:00\u001B[0ma \u001B[36m0:00:01\u001B[0m\r\n",
      "\u001B[?25hDownloading rich-13.9.2-py3-none-any.whl (242 kB)\r\n",
      "\u001B[2K   \u001B[90m━━━━━━━━━━━━━━━━━━━━━━━━━━━━━━━━━━━━━━━━\u001B[0m \u001B[32m242.1/242.1 kB\u001B[0m \u001B[31m14.9 MB/s\u001B[0m eta \u001B[36m0:00:00\u001B[0m\r\n",
      "\u001B[?25hDownloading safetensors-0.4.5-cp312-cp312-manylinux_2_17_x86_64.manylinux2014_x86_64.whl (434 kB)\r\n",
      "\u001B[2K   \u001B[90m━━━━━━━━━━━━━━━━━━━━━━━━━━━━━━━━━━━━━━━━\u001B[0m \u001B[32m434.8/434.8 kB\u001B[0m \u001B[31m25.4 MB/s\u001B[0m eta \u001B[36m0:00:00\u001B[0m\r\n",
      "\u001B[?25hDownloading shellingham-1.5.4-py2.py3-none-any.whl (9.8 kB)\r\n",
      "Downloading smart_open-7.0.5-py3-none-any.whl (61 kB)\r\n",
      "\u001B[2K   \u001B[90m━━━━━━━━━━━━━━━━━━━━━━━━━━━━━━━━━━━━━━━━\u001B[0m \u001B[32m61.4/61.4 kB\u001B[0m \u001B[31m10.9 MB/s\u001B[0m eta \u001B[36m0:00:00\u001B[0m\r\n",
      "\u001B[?25hDownloading threadpoolctl-3.5.0-py3-none-any.whl (18 kB)\r\n",
      "Downloading tokenizers-0.20.0-cp312-cp312-manylinux_2_17_x86_64.manylinux2014_x86_64.whl (2.9 MB)\r\n",
      "\u001B[2K   \u001B[90m━━━━━━━━━━━━━━━━━━━━━━━━━━━━━━━━━━━━━━━━\u001B[0m \u001B[32m2.9/2.9 MB\u001B[0m \u001B[31m13.6 MB/s\u001B[0m eta \u001B[36m0:00:00\u001B[0m00:01\u001B[0m00:01\u001B[0m\r\n",
      "\u001B[?25hUsing cached typing_extensions-4.12.2-py3-none-any.whl (37 kB)\r\n",
      "Using cached filelock-3.16.1-py3-none-any.whl (16 kB)\r\n",
      "Using cached networkx-3.3-py3-none-any.whl (1.7 MB)\r\n",
      "Using cached sympy-1.13.3-py3-none-any.whl (6.2 MB)\r\n",
      "Downloading marisa_trie-1.2.0-cp312-cp312-manylinux_2_17_x86_64.manylinux2014_x86_64.whl (1.4 MB)\r\n",
      "\u001B[2K   \u001B[90m━━━━━━━━━━━━━━━━━━━━━━━━━━━━━━━━━━━━━━━━\u001B[0m \u001B[32m1.4/1.4 MB\u001B[0m \u001B[31m15.1 MB/s\u001B[0m eta \u001B[36m0:00:00\u001B[0ma \u001B[36m0:00:01\u001B[0m\r\n",
      "\u001B[?25hDownloading markdown_it_py-3.0.0-py3-none-any.whl (87 kB)\r\n",
      "\u001B[2K   \u001B[90m━━━━━━━━━━━━━━━━━━━━━━━━━━━━━━━━━━━━━━━━\u001B[0m \u001B[32m87.5/87.5 kB\u001B[0m \u001B[31m17.8 MB/s\u001B[0m eta \u001B[36m0:00:00\u001B[0m\r\n",
      "\u001B[?25hUsing cached mpmath-1.3.0-py3-none-any.whl (536 kB)\r\n",
      "Using cached nvidia_nvjitlink_cu12-12.6.77-py3-none-manylinux2014_x86_64.whl (19.7 MB)\r\n",
      "Downloading wrapt-1.16.0-cp312-cp312-manylinux_2_5_x86_64.manylinux1_x86_64.manylinux_2_17_x86_64.manylinux2014_x86_64.whl (87 kB)\r\n",
      "\u001B[2K   \u001B[90m━━━━━━━━━━━━━━━━━━━━━━━━━━━━━━━━━━━━━━━━\u001B[0m \u001B[32m87.3/87.3 kB\u001B[0m \u001B[31m10.6 MB/s\u001B[0m eta \u001B[36m0:00:00\u001B[0m\r\n",
      "\u001B[?25hDownloading mdurl-0.1.2-py3-none-any.whl (10.0 kB)\r\n",
      "Building wheels for collected packages: spacy-sentence-bert\r\n",
      "  Building wheel for spacy-sentence-bert (pyproject.toml) ... \u001B[?25ldone\r\n",
      "\u001B[?25h  Created wheel for spacy-sentence-bert: filename=spacy_sentence_bert-0.1.2-py3-none-any.whl size=27108 sha256=de1870e9282fa0db6222d6b00ed0f00d7a044d4679a7688767e9fc3852d4c691\r\n",
      "  Stored in directory: /home/t/.cache/pip/wheels/3d/c9/eb/2e7b4e73569b1d41ac64a40e1c9df0c78fc375f1dfab0dc242\r\n",
      "Successfully built spacy-sentence-bert\r\n",
      "Installing collected packages: mpmath, cymem, wrapt, wasabi, typing-extensions, tqdm, threadpoolctl, sympy, spacy-loggers, spacy-legacy, shellingham, safetensors, regex, protobuf, Pillow, nvidia-nvtx-cu12, nvidia-nvjitlink-cu12, nvidia-nccl-cu12, nvidia-curand-cu12, nvidia-cufft-cu12, nvidia-cuda-runtime-cu12, nvidia-cuda-nvrtc-cu12, nvidia-cuda-cupti-cu12, nvidia-cublas-cu12, numpy, networkx, murmurhash, mdurl, marisa-trie, joblib, fsspec, filelock, cloudpathlib, click, catalogue, annotated-types, triton, srsly, smart-open, scipy, pydantic-core, preshed, nvidia-cusparse-cu12, nvidia-cudnn-cu12, markdown-it-py, language-data, huggingface-hub, blis, tokenizers, scikit-learn, rich, pydantic, nvidia-cusolver-cu12, langcodes, typer, transformers, torch, confection, weasel, thinc, sentence-transformers, spacy, spacy-sentence-bert\r\n",
      "  Attempting uninstall: numpy\r\n",
      "    Found existing installation: numpy 2.1.2\r\n",
      "    Uninstalling numpy-2.1.2:\r\n",
      "      Successfully uninstalled numpy-2.1.2\r\n",
      "Successfully installed Pillow-10.4.0 annotated-types-0.7.0 blis-1.0.1 catalogue-2.0.10 click-8.1.7 cloudpathlib-0.19.0 confection-0.1.5 cymem-2.0.8 filelock-3.16.1 fsspec-2024.9.0 huggingface-hub-0.25.1 joblib-1.4.2 langcodes-3.4.1 language-data-1.2.0 marisa-trie-1.2.0 markdown-it-py-3.0.0 mdurl-0.1.2 mpmath-1.3.0 murmurhash-1.0.10 networkx-3.3 numpy-2.0.2 nvidia-cublas-cu12-12.1.3.1 nvidia-cuda-cupti-cu12-12.1.105 nvidia-cuda-nvrtc-cu12-12.1.105 nvidia-cuda-runtime-cu12-12.1.105 nvidia-cudnn-cu12-9.1.0.70 nvidia-cufft-cu12-11.0.2.54 nvidia-curand-cu12-10.3.2.106 nvidia-cusolver-cu12-11.4.5.107 nvidia-cusparse-cu12-12.1.0.106 nvidia-nccl-cu12-2.20.5 nvidia-nvjitlink-cu12-12.6.77 nvidia-nvtx-cu12-12.1.105 preshed-3.0.9 protobuf-5.28.2 pydantic-2.9.2 pydantic-core-2.23.4 regex-2024.9.11 rich-13.9.2 safetensors-0.4.5 scikit-learn-1.5.2 scipy-1.14.1 sentence-transformers-3.1.1 shellingham-1.5.4 smart-open-7.0.5 spacy-3.8.2 spacy-legacy-3.0.12 spacy-loggers-1.0.5 spacy-sentence-bert-0.1.2 srsly-2.4.8 sympy-1.13.3 thinc-8.3.2 threadpoolctl-3.5.0 tokenizers-0.20.0 torch-2.4.1 tqdm-4.66.5 transformers-4.45.2 triton-3.0.0 typer-0.12.5 typing-extensions-4.12.2 wasabi-1.1.3 weasel-0.4.1 wrapt-1.16.0\r\n",
      "\r\n",
      "\u001B[1m[\u001B[0m\u001B[34;49mnotice\u001B[0m\u001B[1;39;49m]\u001B[0m\u001B[39;49m A new release of pip is available: \u001B[0m\u001B[31;49m23.3.2\u001B[0m\u001B[39;49m -> \u001B[0m\u001B[32;49m24.2\u001B[0m\r\n",
      "\u001B[1m[\u001B[0m\u001B[34;49mnotice\u001B[0m\u001B[1;39;49m]\u001B[0m\u001B[39;49m To update, run: \u001B[0m\u001B[32;49mpip install --upgrade pip\u001B[0m\r\n"
     ]
    }
   ],
   "execution_count": 1
  },
  {
   "metadata": {
    "ExecuteTime": {
     "end_time": "2024-10-08T12:37:52.470912Z",
     "start_time": "2024-10-08T12:37:24.259194Z"
    }
   },
   "cell_type": "code",
   "outputs": [
    {
     "name": "stderr",
     "output_type": "stream",
     "text": [
      "huggingface/tokenizers: The current process just got forked, after parallelism has already been used. Disabling parallelism to avoid deadlocks...\n",
      "To disable this warning, you can either:\n",
      "\t- Avoid using `tokenizers` before the fork if possible\n",
      "\t- Explicitly set the environment variable TOKENIZERS_PARALLELISM=(true | false)\n"
     ]
    },
    {
     "name": "stdout",
     "output_type": "stream",
     "text": [
      "Collecting https://github.com/MartinoMensio/spacy-sentence-bert/releases/download/v0.1.2/en_paraphrase_distilroberta_base_v1-0.1.2.tar.gz#en_paraphrase_distilroberta_base_v1-0.1.2\r\n",
      "  Downloading https://github.com/MartinoMensio/spacy-sentence-bert/releases/download/v0.1.2/en_paraphrase_distilroberta_base_v1-0.1.2.tar.gz (24 kB)\r\n",
      "  Installing build dependencies ... \u001B[?25ldone\r\n",
      "\u001B[?25h  Getting requirements to build wheel ... \u001B[?25ldone\r\n",
      "\u001B[?25h  Preparing metadata (pyproject.toml) ... \u001B[?25ldone\r\n",
      "\u001B[?25hCollecting spacy<3.1.0,>=3.0.3 (from en_paraphrase_distilroberta_base_v1==0.1.2)\r\n",
      "  Downloading spacy-3.0.9.tar.gz (989 kB)\r\n",
      "\u001B[2K     \u001B[90m━━━━━━━━━━━━━━━━━━━━━━━━━━━━━━━━━━━━━━━\u001B[0m \u001B[32m989.2/989.2 kB\u001B[0m \u001B[31m3.4 MB/s\u001B[0m eta \u001B[36m0:00:00\u001B[0ma \u001B[36m0:00:01\u001B[0m\r\n",
      "\u001B[?25h  Installing build dependencies ... \u001B[?25lerror\r\n",
      "  \u001B[1;31merror\u001B[0m: \u001B[1msubprocess-exited-with-error\u001B[0m\r\n",
      "  \r\n",
      "  \u001B[31m×\u001B[0m \u001B[32mpip subprocess to install build dependencies\u001B[0m did not run successfully.\r\n",
      "  \u001B[31m│\u001B[0m exit code: \u001B[1;36m1\u001B[0m\r\n",
      "  \u001B[31m╰─>\u001B[0m \u001B[31m[397 lines of output]\u001B[0m\r\n",
      "  \u001B[31m   \u001B[0m Collecting setuptools\r\n",
      "  \u001B[31m   \u001B[0m   Using cached setuptools-75.1.0-py3-none-any.whl.metadata (6.9 kB)\r\n",
      "  \u001B[31m   \u001B[0m Collecting cython<3.0,>=0.25\r\n",
      "  \u001B[31m   \u001B[0m   Downloading Cython-0.29.37-cp312-cp312-manylinux_2_17_x86_64.manylinux2014_x86_64.manylinux_2_28_x86_64.whl.metadata (3.1 kB)\r\n",
      "  \u001B[31m   \u001B[0m Collecting cymem<2.1.0,>=2.0.2\r\n",
      "  \u001B[31m   \u001B[0m   Using cached cymem-2.0.8-cp312-cp312-manylinux_2_17_x86_64.manylinux2014_x86_64.whl.metadata (8.4 kB)\r\n",
      "  \u001B[31m   \u001B[0m Collecting preshed<3.1.0,>=3.0.2\r\n",
      "  \u001B[31m   \u001B[0m   Using cached preshed-3.0.9-cp312-cp312-manylinux_2_5_x86_64.manylinux1_x86_64.manylinux_2_17_x86_64.manylinux2014_x86_64.whl.metadata (2.2 kB)\r\n",
      "  \u001B[31m   \u001B[0m Collecting murmurhash<1.1.0,>=0.28.0\r\n",
      "  \u001B[31m   \u001B[0m   Using cached murmurhash-1.0.10-cp312-cp312-manylinux_2_5_x86_64.manylinux1_x86_64.manylinux_2_17_x86_64.manylinux2014_x86_64.whl.metadata (2.0 kB)\r\n",
      "  \u001B[31m   \u001B[0m Collecting thinc<8.1.0,>=8.0.3\r\n",
      "  \u001B[31m   \u001B[0m   Downloading thinc-8.0.17.tar.gz (189 kB)\r\n",
      "  \u001B[31m   \u001B[0m \u001B[?25l     \u001B[90m━━━━━━━━━━━━━━━━━━━━━━━━━━━━━━━━━━━━━━━━\u001B[0m \u001B[32m0.0/189.7 kB\u001B[0m \u001B[31m?\u001B[0m eta \u001B[36m-:--:--\u001B[0m\r\n",
      "  \u001B[31m   \u001B[0m \u001B[2K     \u001B[90m━━━━━━━━━━━━━━━━━━━━━━━━━━━━━━━━━━━━━━━━\u001B[0m \u001B[32m0.0/189.7 kB\u001B[0m \u001B[31m?\u001B[0m eta \u001B[36m-:--:--\u001B[0m\r\n",
      "  \u001B[31m   \u001B[0m \u001B[2K     \u001B[91m━━━━━━\u001B[0m\u001B[90m╺\u001B[0m\u001B[90m━━━━━━━━━━━━━━━━━━━━━━━━━━━━━━━━\u001B[0m \u001B[32m30.7/189.7 kB\u001B[0m \u001B[31m58.0 MB/s\u001B[0m eta \u001B[36m0:00:01\u001B[0m\r\n",
      "  \u001B[31m   \u001B[0m \u001B[2K     \u001B[91m━━━━━━━━━━\u001B[0m\u001B[90m╺\u001B[0m\u001B[90m━━━━━━━━━━━━━━━━━━━━━━━━━━━\u001B[0m \u001B[32m51.2/189.7 kB\u001B[0m \u001B[31m752.4 kB/s\u001B[0m eta \u001B[36m0:00:01\u001B[0m\r\n",
      "  \u001B[31m   \u001B[0m \u001B[2K     \u001B[91m━━━━━━━━━━━━━━━━\u001B[0m\u001B[90m╺\u001B[0m\u001B[90m━━━━━━━━━━━━━━━━━━━━━\u001B[0m \u001B[32m81.9/189.7 kB\u001B[0m \u001B[31m741.3 kB/s\u001B[0m eta \u001B[36m0:00:01\u001B[0m\r\n",
      "  \u001B[31m   \u001B[0m \u001B[2K     \u001B[91m━━━━━━━━━━━━━━━━━━━━━━━\u001B[0m\u001B[91m╸\u001B[0m\u001B[90m━━━━━━━━━━━━━\u001B[0m \u001B[32m122.9/189.7 kB\u001B[0m \u001B[31m968.4 kB/s\u001B[0m eta \u001B[36m0:00:01\u001B[0m\r\n",
      "  \u001B[31m   \u001B[0m \u001B[2K     \u001B[91m━━━━━━━━━━━━━━━━━━━━━━━━━━━━━━━━━\u001B[0m\u001B[91m╸\u001B[0m\u001B[90m━━━\u001B[0m \u001B[32m174.1/189.7 kB\u001B[0m \u001B[31m969.9 kB/s\u001B[0m eta \u001B[36m0:00:01\u001B[0m\r\n",
      "  \u001B[31m   \u001B[0m \u001B[2K     \u001B[90m━━━━━━━━━━━━━━━━━━━━━━━━━━━━━━━━━━━━━\u001B[0m \u001B[32m189.7/189.7 kB\u001B[0m \u001B[31m872.5 kB/s\u001B[0m eta \u001B[36m0:00:00\u001B[0m\r\n",
      "  \u001B[31m   \u001B[0m \u001B[?25h  Installing build dependencies: started\r\n",
      "  \u001B[31m   \u001B[0m   Installing build dependencies: finished with status 'done'\r\n",
      "  \u001B[31m   \u001B[0m   Getting requirements to build wheel: started\r\n",
      "  \u001B[31m   \u001B[0m   Getting requirements to build wheel: finished with status 'done'\r\n",
      "  \u001B[31m   \u001B[0m   Preparing metadata (pyproject.toml): started\r\n",
      "  \u001B[31m   \u001B[0m   Preparing metadata (pyproject.toml): finished with status 'done'\r\n",
      "  \u001B[31m   \u001B[0m Collecting blis<0.8.0,>=0.4.0\r\n",
      "  \u001B[31m   \u001B[0m   Using cached blis-0.7.11-cp312-cp312-manylinux_2_17_x86_64.manylinux2014_x86_64.whl.metadata (7.4 kB)\r\n",
      "  \u001B[31m   \u001B[0m Collecting pathy\r\n",
      "  \u001B[31m   \u001B[0m   Downloading pathy-0.11.0-py3-none-any.whl.metadata (16 kB)\r\n",
      "  \u001B[31m   \u001B[0m Collecting numpy>=1.15.0\r\n",
      "  \u001B[31m   \u001B[0m   Using cached numpy-2.1.2-cp312-cp312-manylinux_2_17_x86_64.manylinux2014_x86_64.whl.metadata (60 kB)\r\n",
      "  \u001B[31m   \u001B[0m Collecting wasabi<1.1.0,>=0.8.1 (from thinc<8.1.0,>=8.0.3)\r\n",
      "  \u001B[31m   \u001B[0m   Downloading wasabi-0.10.1-py3-none-any.whl.metadata (28 kB)\r\n",
      "  \u001B[31m   \u001B[0m Collecting srsly<3.0.0,>=2.4.0 (from thinc<8.1.0,>=8.0.3)\r\n",
      "  \u001B[31m   \u001B[0m   Using cached srsly-2.4.8-cp312-cp312-manylinux_2_17_x86_64.manylinux2014_x86_64.whl.metadata (20 kB)\r\n",
      "  \u001B[31m   \u001B[0m Collecting catalogue<2.1.0,>=2.0.4 (from thinc<8.1.0,>=8.0.3)\r\n",
      "  \u001B[31m   \u001B[0m   Using cached catalogue-2.0.10-py3-none-any.whl.metadata (14 kB)\r\n",
      "  \u001B[31m   \u001B[0m Collecting pydantic!=1.8,!=1.8.1,<1.9.0,>=1.7.4 (from thinc<8.1.0,>=8.0.3)\r\n",
      "  \u001B[31m   \u001B[0m   Downloading pydantic-1.8.2-py3-none-any.whl.metadata (103 kB)\r\n",
      "  \u001B[31m   \u001B[0m \u001B[?25l     \u001B[90m━━━━━━━━━━━━━━━━━━━━━━━━━━━━━━━━━━━━━━━━\u001B[0m \u001B[32m0.0/103.1 kB\u001B[0m \u001B[31m?\u001B[0m eta \u001B[36m-:--:--\u001B[0m\r\n",
      "  \u001B[31m   \u001B[0m \u001B[2K     \u001B[91m━━━━━━━━━━━━━━━\u001B[0m\u001B[91m╸\u001B[0m\u001B[90m━━━━━━━━━━━━━━━━━━━━━━━━\u001B[0m \u001B[32m41.0/103.1 kB\u001B[0m \u001B[31m1.3 MB/s\u001B[0m eta \u001B[36m0:00:01\u001B[0m\r\n",
      "  \u001B[31m   \u001B[0m \u001B[2K     \u001B[91m━━━━━━━━━━━━━━━━━━━━━━━\u001B[0m\u001B[91m╸\u001B[0m\u001B[90m━━━━━━━━━━━━━━━━\u001B[0m \u001B[32m61.4/103.1 kB\u001B[0m \u001B[31m1.4 MB/s\u001B[0m eta \u001B[36m0:00:01\u001B[0m\r\n",
      "  \u001B[31m   \u001B[0m \u001B[2K     \u001B[90m━━━━━━━━━━━━━━━━━━━━━━━━━━━━━━━━━━━━━━━\u001B[0m \u001B[32m103.1/103.1 kB\u001B[0m \u001B[31m1.3 MB/s\u001B[0m eta \u001B[36m0:00:00\u001B[0m\r\n",
      "  \u001B[31m   \u001B[0m \u001B[?25hCollecting smart-open<7.0.0,>=5.2.1 (from pathy)\r\n",
      "  \u001B[31m   \u001B[0m   Downloading smart_open-6.4.0-py3-none-any.whl.metadata (21 kB)\r\n",
      "  \u001B[31m   \u001B[0m Collecting typer<1.0.0,>=0.3.0 (from pathy)\r\n",
      "  \u001B[31m   \u001B[0m   Using cached typer-0.12.5-py3-none-any.whl.metadata (15 kB)\r\n",
      "  \u001B[31m   \u001B[0m Collecting pathlib-abc==0.1.1 (from pathy)\r\n",
      "  \u001B[31m   \u001B[0m   Downloading pathlib_abc-0.1.1-py3-none-any.whl.metadata (18 kB)\r\n",
      "  \u001B[31m   \u001B[0m Collecting typing-extensions>=3.7.4.3 (from pydantic!=1.8,!=1.8.1,<1.9.0,>=1.7.4->thinc<8.1.0,>=8.0.3)\r\n",
      "  \u001B[31m   \u001B[0m   Using cached typing_extensions-4.12.2-py3-none-any.whl.metadata (3.0 kB)\r\n",
      "  \u001B[31m   \u001B[0m Collecting click>=8.0.0 (from typer<1.0.0,>=0.3.0->pathy)\r\n",
      "  \u001B[31m   \u001B[0m   Using cached click-8.1.7-py3-none-any.whl.metadata (3.0 kB)\r\n",
      "  \u001B[31m   \u001B[0m Collecting shellingham>=1.3.0 (from typer<1.0.0,>=0.3.0->pathy)\r\n",
      "  \u001B[31m   \u001B[0m   Using cached shellingham-1.5.4-py2.py3-none-any.whl.metadata (3.5 kB)\r\n",
      "  \u001B[31m   \u001B[0m Collecting rich>=10.11.0 (from typer<1.0.0,>=0.3.0->pathy)\r\n",
      "  \u001B[31m   \u001B[0m   Using cached rich-13.9.2-py3-none-any.whl.metadata (18 kB)\r\n",
      "  \u001B[31m   \u001B[0m Collecting markdown-it-py>=2.2.0 (from rich>=10.11.0->typer<1.0.0,>=0.3.0->pathy)\r\n",
      "  \u001B[31m   \u001B[0m   Using cached markdown_it_py-3.0.0-py3-none-any.whl.metadata (6.9 kB)\r\n",
      "  \u001B[31m   \u001B[0m Collecting pygments<3.0.0,>=2.13.0 (from rich>=10.11.0->typer<1.0.0,>=0.3.0->pathy)\r\n",
      "  \u001B[31m   \u001B[0m   Using cached pygments-2.18.0-py3-none-any.whl.metadata (2.5 kB)\r\n",
      "  \u001B[31m   \u001B[0m Collecting mdurl~=0.1 (from markdown-it-py>=2.2.0->rich>=10.11.0->typer<1.0.0,>=0.3.0->pathy)\r\n",
      "  \u001B[31m   \u001B[0m   Using cached mdurl-0.1.2-py3-none-any.whl.metadata (1.6 kB)\r\n",
      "  \u001B[31m   \u001B[0m Using cached setuptools-75.1.0-py3-none-any.whl (1.2 MB)\r\n",
      "  \u001B[31m   \u001B[0m Using cached Cython-0.29.37-cp312-cp312-manylinux_2_17_x86_64.manylinux2014_x86_64.manylinux_2_28_x86_64.whl (2.0 MB)\r\n",
      "  \u001B[31m   \u001B[0m Using cached cymem-2.0.8-cp312-cp312-manylinux_2_17_x86_64.manylinux2014_x86_64.whl (46 kB)\r\n",
      "  \u001B[31m   \u001B[0m Using cached preshed-3.0.9-cp312-cp312-manylinux_2_5_x86_64.manylinux1_x86_64.manylinux_2_17_x86_64.manylinux2014_x86_64.whl (156 kB)\r\n",
      "  \u001B[31m   \u001B[0m Using cached murmurhash-1.0.10-cp312-cp312-manylinux_2_5_x86_64.manylinux1_x86_64.manylinux_2_17_x86_64.manylinux2014_x86_64.whl (29 kB)\r\n",
      "  \u001B[31m   \u001B[0m Using cached blis-0.7.11-cp312-cp312-manylinux_2_17_x86_64.manylinux2014_x86_64.whl (10.2 MB)\r\n",
      "  \u001B[31m   \u001B[0m Downloading pathy-0.11.0-py3-none-any.whl (47 kB)\r\n",
      "  \u001B[31m   \u001B[0m \u001B[?25l   \u001B[90m━━━━━━━━━━━━━━━━━━━━━━━━━━━━━━━━━━━━━━━━\u001B[0m \u001B[32m0.0/47.3 kB\u001B[0m \u001B[31m?\u001B[0m eta \u001B[36m-:--:--\u001B[0m\r\n",
      "  \u001B[31m   \u001B[0m \u001B[2K   \u001B[90m━━━━━━━━━━━━━━━━━━━━━━━━━━━━━━━━━━━━━━━━\u001B[0m \u001B[32m47.3/47.3 kB\u001B[0m \u001B[31m1.6 MB/s\u001B[0m eta \u001B[36m0:00:00\u001B[0m\r\n",
      "  \u001B[31m   \u001B[0m \u001B[?25hDownloading pathlib_abc-0.1.1-py3-none-any.whl (23 kB)\r\n",
      "  \u001B[31m   \u001B[0m Using cached numpy-2.1.2-cp312-cp312-manylinux_2_17_x86_64.manylinux2014_x86_64.whl (16.0 MB)\r\n",
      "  \u001B[31m   \u001B[0m Using cached catalogue-2.0.10-py3-none-any.whl (17 kB)\r\n",
      "  \u001B[31m   \u001B[0m Downloading pydantic-1.8.2-py3-none-any.whl (126 kB)\r\n",
      "  \u001B[31m   \u001B[0m \u001B[?25l   \u001B[90m━━━━━━━━━━━━━━━━━━━━━━━━━━━━━━━━━━━━━━━━\u001B[0m \u001B[32m0.0/126.0 kB\u001B[0m \u001B[31m?\u001B[0m eta \u001B[36m-:--:--\u001B[0m\r\n",
      "  \u001B[31m   \u001B[0m \u001B[2K   \u001B[91m━━━━━━━━━━━━━━━━━━━\u001B[0m\u001B[90m╺\u001B[0m\u001B[90m━━━━━━━━━━━━━━━━━━━━\u001B[0m \u001B[32m61.4/126.0 kB\u001B[0m \u001B[31m4.6 MB/s\u001B[0m eta \u001B[36m0:00:01\u001B[0m\r\n",
      "  \u001B[31m   \u001B[0m \u001B[2K   \u001B[91m━━━━━━━━━━━━━━━━━━━━━━━━━━━━━━━━━━━━━━\u001B[0m\u001B[91m╸\u001B[0m\u001B[90m━\u001B[0m \u001B[32m122.9/126.0 kB\u001B[0m \u001B[31m1.7 MB/s\u001B[0m eta \u001B[36m0:00:01\u001B[0m\r\n",
      "  \u001B[31m   \u001B[0m \u001B[2K   \u001B[90m━━━━━━━━━━━━━━━━━━━━━━━━━━━━━━━━━━━━━━━━\u001B[0m \u001B[32m126.0/126.0 kB\u001B[0m \u001B[31m1.6 MB/s\u001B[0m eta \u001B[36m0:00:00\u001B[0m\r\n",
      "  \u001B[31m   \u001B[0m \u001B[?25hDownloading smart_open-6.4.0-py3-none-any.whl (57 kB)\r\n",
      "  \u001B[31m   \u001B[0m \u001B[?25l   \u001B[90m━━━━━━━━━━━━━━━━━━━━━━━━━━━━━━━━━━━━━━━━\u001B[0m \u001B[32m0.0/57.0 kB\u001B[0m \u001B[31m?\u001B[0m eta \u001B[36m-:--:--\u001B[0m\r\n",
      "  \u001B[31m   \u001B[0m \u001B[2K   \u001B[91m━━━━━━━━━━━━━━━━━━━━━━━━━━━━━━━━━━━\u001B[0m\u001B[91m╸\u001B[0m\u001B[90m━━━━\u001B[0m \u001B[32m51.2/57.0 kB\u001B[0m \u001B[31m1.6 MB/s\u001B[0m eta \u001B[36m0:00:01\u001B[0m\r\n",
      "  \u001B[31m   \u001B[0m \u001B[2K   \u001B[90m━━━━━━━━━━━━━━━━━━━━━━━━━━━━━━━━━━━━━━━━\u001B[0m \u001B[32m57.0/57.0 kB\u001B[0m \u001B[31m1.4 MB/s\u001B[0m eta \u001B[36m0:00:00\u001B[0m\r\n",
      "  \u001B[31m   \u001B[0m \u001B[?25hUsing cached srsly-2.4.8-cp312-cp312-manylinux_2_17_x86_64.manylinux2014_x86_64.whl (491 kB)\r\n",
      "  \u001B[31m   \u001B[0m Using cached typer-0.12.5-py3-none-any.whl (47 kB)\r\n",
      "  \u001B[31m   \u001B[0m Downloading wasabi-0.10.1-py3-none-any.whl (26 kB)\r\n",
      "  \u001B[31m   \u001B[0m Using cached click-8.1.7-py3-none-any.whl (97 kB)\r\n",
      "  \u001B[31m   \u001B[0m Using cached rich-13.9.2-py3-none-any.whl (242 kB)\r\n",
      "  \u001B[31m   \u001B[0m Using cached shellingham-1.5.4-py2.py3-none-any.whl (9.8 kB)\r\n",
      "  \u001B[31m   \u001B[0m Using cached typing_extensions-4.12.2-py3-none-any.whl (37 kB)\r\n",
      "  \u001B[31m   \u001B[0m Using cached markdown_it_py-3.0.0-py3-none-any.whl (87 kB)\r\n",
      "  \u001B[31m   \u001B[0m Using cached pygments-2.18.0-py3-none-any.whl (1.2 MB)\r\n",
      "  \u001B[31m   \u001B[0m Using cached mdurl-0.1.2-py3-none-any.whl (10.0 kB)\r\n",
      "  \u001B[31m   \u001B[0m Building wheels for collected packages: thinc\r\n",
      "  \u001B[31m   \u001B[0m   Building wheel for thinc (pyproject.toml): started\r\n",
      "  \u001B[31m   \u001B[0m   Building wheel for thinc (pyproject.toml): finished with status 'error'\r\n",
      "  \u001B[31m   \u001B[0m   \u001B[1;31merror\u001B[0m: \u001B[1msubprocess-exited-with-error\u001B[0m\r\n",
      "  \u001B[31m   \u001B[0m \r\n",
      "  \u001B[31m   \u001B[0m   \u001B[31m×\u001B[0m \u001B[32mBuilding wheel for thinc \u001B[0m\u001B[1;32m(\u001B[0m\u001B[32mpyproject.toml\u001B[0m\u001B[1;32m)\u001B[0m did not run successfully.\r\n",
      "  \u001B[31m   \u001B[0m   \u001B[31m│\u001B[0m exit code: \u001B[1;36m1\u001B[0m\r\n",
      "  \u001B[31m   \u001B[0m   \u001B[31m╰─>\u001B[0m \u001B[31m[285 lines of output]\u001B[0m\r\n",
      "  \u001B[31m   \u001B[0m   \u001B[31m   \u001B[0m Cythonizing sources\r\n",
      "  \u001B[31m   \u001B[0m   \u001B[31m   \u001B[0m running bdist_wheel\r\n",
      "  \u001B[31m   \u001B[0m   \u001B[31m   \u001B[0m running build\r\n",
      "  \u001B[31m   \u001B[0m   \u001B[31m   \u001B[0m running build_py\r\n",
      "  \u001B[31m   \u001B[0m   \u001B[31m   \u001B[0m creating build/lib.linux-x86_64-cpython-312/thinc\r\n",
      "  \u001B[31m   \u001B[0m   \u001B[31m   \u001B[0m copying thinc/__init__.py -> build/lib.linux-x86_64-cpython-312/thinc\r\n",
      "  \u001B[31m   \u001B[0m   \u001B[31m   \u001B[0m copying thinc/about.py -> build/lib.linux-x86_64-cpython-312/thinc\r\n",
      "  \u001B[31m   \u001B[0m   \u001B[31m   \u001B[0m copying thinc/api.py -> build/lib.linux-x86_64-cpython-312/thinc\r\n",
      "  \u001B[31m   \u001B[0m   \u001B[31m   \u001B[0m copying thinc/config.py -> build/lib.linux-x86_64-cpython-312/thinc\r\n",
      "  \u001B[31m   \u001B[0m   \u001B[31m   \u001B[0m copying thinc/initializers.py -> build/lib.linux-x86_64-cpython-312/thinc\r\n",
      "  \u001B[31m   \u001B[0m   \u001B[31m   \u001B[0m copying thinc/loss.py -> build/lib.linux-x86_64-cpython-312/thinc\r\n",
      "  \u001B[31m   \u001B[0m   \u001B[31m   \u001B[0m copying thinc/model.py -> build/lib.linux-x86_64-cpython-312/thinc\r\n",
      "  \u001B[31m   \u001B[0m   \u001B[31m   \u001B[0m copying thinc/mypy.py -> build/lib.linux-x86_64-cpython-312/thinc\r\n",
      "  \u001B[31m   \u001B[0m   \u001B[31m   \u001B[0m copying thinc/optimizers.py -> build/lib.linux-x86_64-cpython-312/thinc\r\n",
      "  \u001B[31m   \u001B[0m   \u001B[31m   \u001B[0m copying thinc/schedules.py -> build/lib.linux-x86_64-cpython-312/thinc\r\n",
      "  \u001B[31m   \u001B[0m   \u001B[31m   \u001B[0m copying thinc/types.py -> build/lib.linux-x86_64-cpython-312/thinc\r\n",
      "  \u001B[31m   \u001B[0m   \u001B[31m   \u001B[0m copying thinc/util.py -> build/lib.linux-x86_64-cpython-312/thinc\r\n",
      "  \u001B[31m   \u001B[0m   \u001B[31m   \u001B[0m creating build/lib.linux-x86_64-cpython-312/thinc/backends\r\n",
      "  \u001B[31m   \u001B[0m   \u001B[31m   \u001B[0m copying thinc/backends/__init__.py -> build/lib.linux-x86_64-cpython-312/thinc/backends\r\n",
      "  \u001B[31m   \u001B[0m   \u001B[31m   \u001B[0m copying thinc/backends/_cupy_allocators.py -> build/lib.linux-x86_64-cpython-312/thinc/backends\r\n",
      "  \u001B[31m   \u001B[0m   \u001B[31m   \u001B[0m copying thinc/backends/_custom_kernels.py -> build/lib.linux-x86_64-cpython-312/thinc/backends\r\n",
      "  \u001B[31m   \u001B[0m   \u001B[31m   \u001B[0m copying thinc/backends/_param_server.py -> build/lib.linux-x86_64-cpython-312/thinc/backends\r\n",
      "  \u001B[31m   \u001B[0m   \u001B[31m   \u001B[0m copying thinc/backends/cupy_ops.py -> build/lib.linux-x86_64-cpython-312/thinc/backends\r\n",
      "  \u001B[31m   \u001B[0m   \u001B[31m   \u001B[0m copying thinc/backends/ops.py -> build/lib.linux-x86_64-cpython-312/thinc/backends\r\n",
      "  \u001B[31m   \u001B[0m   \u001B[31m   \u001B[0m creating build/lib.linux-x86_64-cpython-312/thinc/extra\r\n",
      "  \u001B[31m   \u001B[0m   \u001B[31m   \u001B[0m copying thinc/extra/__init__.py -> build/lib.linux-x86_64-cpython-312/thinc/extra\r\n",
      "  \u001B[31m   \u001B[0m   \u001B[31m   \u001B[0m creating build/lib.linux-x86_64-cpython-312/thinc/layers\r\n",
      "  \u001B[31m   \u001B[0m   \u001B[31m   \u001B[0m copying thinc/layers/__init__.py -> build/lib.linux-x86_64-cpython-312/thinc/layers\r\n",
      "  \u001B[31m   \u001B[0m   \u001B[31m   \u001B[0m copying thinc/layers/add.py -> build/lib.linux-x86_64-cpython-312/thinc/layers\r\n",
      "  \u001B[31m   \u001B[0m   \u001B[31m   \u001B[0m copying thinc/layers/array_getitem.py -> build/lib.linux-x86_64-cpython-312/thinc/layers\r\n",
      "  \u001B[31m   \u001B[0m   \u001B[31m   \u001B[0m copying thinc/layers/bidirectional.py -> build/lib.linux-x86_64-cpython-312/thinc/layers\r\n",
      "  \u001B[31m   \u001B[0m   \u001B[31m   \u001B[0m copying thinc/layers/cauchysimilarity.py -> build/lib.linux-x86_64-cpython-312/thinc/layers\r\n",
      "  \u001B[31m   \u001B[0m   \u001B[31m   \u001B[0m copying thinc/layers/chain.py -> build/lib.linux-x86_64-cpython-312/thinc/layers\r\n",
      "  \u001B[31m   \u001B[0m   \u001B[31m   \u001B[0m copying thinc/layers/clipped_linear.py -> build/lib.linux-x86_64-cpython-312/thinc/layers\r\n",
      "  \u001B[31m   \u001B[0m   \u001B[31m   \u001B[0m copying thinc/layers/clone.py -> build/lib.linux-x86_64-cpython-312/thinc/layers\r\n",
      "  \u001B[31m   \u001B[0m   \u001B[31m   \u001B[0m copying thinc/layers/concatenate.py -> build/lib.linux-x86_64-cpython-312/thinc/layers\r\n",
      "  \u001B[31m   \u001B[0m   \u001B[31m   \u001B[0m copying thinc/layers/dropout.py -> build/lib.linux-x86_64-cpython-312/thinc/layers\r\n",
      "  \u001B[31m   \u001B[0m   \u001B[31m   \u001B[0m copying thinc/layers/embed.py -> build/lib.linux-x86_64-cpython-312/thinc/layers\r\n",
      "  \u001B[31m   \u001B[0m   \u001B[31m   \u001B[0m copying thinc/layers/expand_window.py -> build/lib.linux-x86_64-cpython-312/thinc/layers\r\n",
      "  \u001B[31m   \u001B[0m   \u001B[31m   \u001B[0m copying thinc/layers/gelu.py -> build/lib.linux-x86_64-cpython-312/thinc/layers\r\n",
      "  \u001B[31m   \u001B[0m   \u001B[31m   \u001B[0m copying thinc/layers/hard_swish.py -> build/lib.linux-x86_64-cpython-312/thinc/layers\r\n",
      "  \u001B[31m   \u001B[0m   \u001B[31m   \u001B[0m copying thinc/layers/hard_swish_mobilenet.py -> build/lib.linux-x86_64-cpython-312/thinc/layers\r\n",
      "  \u001B[31m   \u001B[0m   \u001B[31m   \u001B[0m copying thinc/layers/hashembed.py -> build/lib.linux-x86_64-cpython-312/thinc/layers\r\n",
      "  \u001B[31m   \u001B[0m   \u001B[31m   \u001B[0m copying thinc/layers/layernorm.py -> build/lib.linux-x86_64-cpython-312/thinc/layers\r\n",
      "  \u001B[31m   \u001B[0m   \u001B[31m   \u001B[0m copying thinc/layers/linear.py -> build/lib.linux-x86_64-cpython-312/thinc/layers\r\n",
      "  \u001B[31m   \u001B[0m   \u001B[31m   \u001B[0m copying thinc/layers/list2array.py -> build/lib.linux-x86_64-cpython-312/thinc/layers\r\n",
      "  \u001B[31m   \u001B[0m   \u001B[31m   \u001B[0m copying thinc/layers/list2padded.py -> build/lib.linux-x86_64-cpython-312/thinc/layers\r\n",
      "  \u001B[31m   \u001B[0m   \u001B[31m   \u001B[0m copying thinc/layers/list2ragged.py -> build/lib.linux-x86_64-cpython-312/thinc/layers\r\n",
      "  \u001B[31m   \u001B[0m   \u001B[31m   \u001B[0m copying thinc/layers/logistic.py -> build/lib.linux-x86_64-cpython-312/thinc/layers\r\n",
      "  \u001B[31m   \u001B[0m   \u001B[31m   \u001B[0m copying thinc/layers/lstm.py -> build/lib.linux-x86_64-cpython-312/thinc/layers\r\n",
      "  \u001B[31m   \u001B[0m   \u001B[31m   \u001B[0m copying thinc/layers/map_list.py -> build/lib.linux-x86_64-cpython-312/thinc/layers\r\n",
      "  \u001B[31m   \u001B[0m   \u001B[31m   \u001B[0m copying thinc/layers/maxout.py -> build/lib.linux-x86_64-cpython-312/thinc/layers\r\n",
      "  \u001B[31m   \u001B[0m   \u001B[31m   \u001B[0m copying thinc/layers/mish.py -> build/lib.linux-x86_64-cpython-312/thinc/layers\r\n",
      "  \u001B[31m   \u001B[0m   \u001B[31m   \u001B[0m copying thinc/layers/multisoftmax.py -> build/lib.linux-x86_64-cpython-312/thinc/layers\r\n",
      "  \u001B[31m   \u001B[0m   \u001B[31m   \u001B[0m copying thinc/layers/mxnetwrapper.py -> build/lib.linux-x86_64-cpython-312/thinc/layers\r\n",
      "  \u001B[31m   \u001B[0m   \u001B[31m   \u001B[0m copying thinc/layers/noop.py -> build/lib.linux-x86_64-cpython-312/thinc/layers\r\n",
      "  \u001B[31m   \u001B[0m   \u001B[31m   \u001B[0m copying thinc/layers/padded2list.py -> build/lib.linux-x86_64-cpython-312/thinc/layers\r\n",
      "  \u001B[31m   \u001B[0m   \u001B[31m   \u001B[0m copying thinc/layers/parametricattention.py -> build/lib.linux-x86_64-cpython-312/thinc/layers\r\n",
      "  \u001B[31m   \u001B[0m   \u001B[31m   \u001B[0m copying thinc/layers/pytorchwrapper.py -> build/lib.linux-x86_64-cpython-312/thinc/layers\r\n",
      "  \u001B[31m   \u001B[0m   \u001B[31m   \u001B[0m copying thinc/layers/ragged2list.py -> build/lib.linux-x86_64-cpython-312/thinc/layers\r\n",
      "  \u001B[31m   \u001B[0m   \u001B[31m   \u001B[0m copying thinc/layers/reduce_first.py -> build/lib.linux-x86_64-cpython-312/thinc/layers\r\n",
      "  \u001B[31m   \u001B[0m   \u001B[31m   \u001B[0m copying thinc/layers/reduce_last.py -> build/lib.linux-x86_64-cpython-312/thinc/layers\r\n",
      "  \u001B[31m   \u001B[0m   \u001B[31m   \u001B[0m copying thinc/layers/reduce_max.py -> build/lib.linux-x86_64-cpython-312/thinc/layers\r\n",
      "  \u001B[31m   \u001B[0m   \u001B[31m   \u001B[0m copying thinc/layers/reduce_mean.py -> build/lib.linux-x86_64-cpython-312/thinc/layers\r\n",
      "  \u001B[31m   \u001B[0m   \u001B[31m   \u001B[0m copying thinc/layers/reduce_sum.py -> build/lib.linux-x86_64-cpython-312/thinc/layers\r\n",
      "  \u001B[31m   \u001B[0m   \u001B[31m   \u001B[0m copying thinc/layers/relu.py -> build/lib.linux-x86_64-cpython-312/thinc/layers\r\n",
      "  \u001B[31m   \u001B[0m   \u001B[31m   \u001B[0m copying thinc/layers/remap_ids.py -> build/lib.linux-x86_64-cpython-312/thinc/layers\r\n",
      "  \u001B[31m   \u001B[0m   \u001B[31m   \u001B[0m copying thinc/layers/residual.py -> build/lib.linux-x86_64-cpython-312/thinc/layers\r\n",
      "  \u001B[31m   \u001B[0m   \u001B[31m   \u001B[0m copying thinc/layers/resizable.py -> build/lib.linux-x86_64-cpython-312/thinc/layers\r\n",
      "  \u001B[31m   \u001B[0m   \u001B[31m   \u001B[0m copying thinc/layers/siamese.py -> build/lib.linux-x86_64-cpython-312/thinc/layers\r\n",
      "  \u001B[31m   \u001B[0m   \u001B[31m   \u001B[0m copying thinc/layers/sigmoid.py -> build/lib.linux-x86_64-cpython-312/thinc/layers\r\n",
      "  \u001B[31m   \u001B[0m   \u001B[31m   \u001B[0m copying thinc/layers/sigmoid_activation.py -> build/lib.linux-x86_64-cpython-312/thinc/layers\r\n",
      "  \u001B[31m   \u001B[0m   \u001B[31m   \u001B[0m copying thinc/layers/softmax.py -> build/lib.linux-x86_64-cpython-312/thinc/layers\r\n",
      "  \u001B[31m   \u001B[0m   \u001B[31m   \u001B[0m copying thinc/layers/softmax_activation.py -> build/lib.linux-x86_64-cpython-312/thinc/layers\r\n",
      "  \u001B[31m   \u001B[0m   \u001B[31m   \u001B[0m copying thinc/layers/strings2arrays.py -> build/lib.linux-x86_64-cpython-312/thinc/layers\r\n",
      "  \u001B[31m   \u001B[0m   \u001B[31m   \u001B[0m copying thinc/layers/swish.py -> build/lib.linux-x86_64-cpython-312/thinc/layers\r\n",
      "  \u001B[31m   \u001B[0m   \u001B[31m   \u001B[0m copying thinc/layers/tensorflowwrapper.py -> build/lib.linux-x86_64-cpython-312/thinc/layers\r\n",
      "  \u001B[31m   \u001B[0m   \u001B[31m   \u001B[0m copying thinc/layers/tuplify.py -> build/lib.linux-x86_64-cpython-312/thinc/layers\r\n",
      "  \u001B[31m   \u001B[0m   \u001B[31m   \u001B[0m copying thinc/layers/uniqued.py -> build/lib.linux-x86_64-cpython-312/thinc/layers\r\n",
      "  \u001B[31m   \u001B[0m   \u001B[31m   \u001B[0m copying thinc/layers/with_array.py -> build/lib.linux-x86_64-cpython-312/thinc/layers\r\n",
      "  \u001B[31m   \u001B[0m   \u001B[31m   \u001B[0m copying thinc/layers/with_array2d.py -> build/lib.linux-x86_64-cpython-312/thinc/layers\r\n",
      "  \u001B[31m   \u001B[0m   \u001B[31m   \u001B[0m copying thinc/layers/with_cpu.py -> build/lib.linux-x86_64-cpython-312/thinc/layers\r\n",
      "  \u001B[31m   \u001B[0m   \u001B[31m   \u001B[0m copying thinc/layers/with_debug.py -> build/lib.linux-x86_64-cpython-312/thinc/layers\r\n",
      "  \u001B[31m   \u001B[0m   \u001B[31m   \u001B[0m copying thinc/layers/with_flatten.py -> build/lib.linux-x86_64-cpython-312/thinc/layers\r\n",
      "  \u001B[31m   \u001B[0m   \u001B[31m   \u001B[0m copying thinc/layers/with_getitem.py -> build/lib.linux-x86_64-cpython-312/thinc/layers\r\n",
      "  \u001B[31m   \u001B[0m   \u001B[31m   \u001B[0m copying thinc/layers/with_list.py -> build/lib.linux-x86_64-cpython-312/thinc/layers\r\n",
      "  \u001B[31m   \u001B[0m   \u001B[31m   \u001B[0m copying thinc/layers/with_nvtx_range.py -> build/lib.linux-x86_64-cpython-312/thinc/layers\r\n",
      "  \u001B[31m   \u001B[0m   \u001B[31m   \u001B[0m copying thinc/layers/with_padded.py -> build/lib.linux-x86_64-cpython-312/thinc/layers\r\n",
      "  \u001B[31m   \u001B[0m   \u001B[31m   \u001B[0m copying thinc/layers/with_ragged.py -> build/lib.linux-x86_64-cpython-312/thinc/layers\r\n",
      "  \u001B[31m   \u001B[0m   \u001B[31m   \u001B[0m copying thinc/layers/with_reshape.py -> build/lib.linux-x86_64-cpython-312/thinc/layers\r\n",
      "  \u001B[31m   \u001B[0m   \u001B[31m   \u001B[0m creating build/lib.linux-x86_64-cpython-312/thinc/shims\r\n",
      "  \u001B[31m   \u001B[0m   \u001B[31m   \u001B[0m copying thinc/shims/__init__.py -> build/lib.linux-x86_64-cpython-312/thinc/shims\r\n",
      "  \u001B[31m   \u001B[0m   \u001B[31m   \u001B[0m copying thinc/shims/mxnet.py -> build/lib.linux-x86_64-cpython-312/thinc/shims\r\n",
      "  \u001B[31m   \u001B[0m   \u001B[31m   \u001B[0m copying thinc/shims/pytorch.py -> build/lib.linux-x86_64-cpython-312/thinc/shims\r\n",
      "  \u001B[31m   \u001B[0m   \u001B[31m   \u001B[0m copying thinc/shims/pytorch_grad_scaler.py -> build/lib.linux-x86_64-cpython-312/thinc/shims\r\n",
      "  \u001B[31m   \u001B[0m   \u001B[31m   \u001B[0m copying thinc/shims/shim.py -> build/lib.linux-x86_64-cpython-312/thinc/shims\r\n",
      "  \u001B[31m   \u001B[0m   \u001B[31m   \u001B[0m copying thinc/shims/tensorflow.py -> build/lib.linux-x86_64-cpython-312/thinc/shims\r\n",
      "  \u001B[31m   \u001B[0m   \u001B[31m   \u001B[0m creating build/lib.linux-x86_64-cpython-312/thinc/tests\r\n",
      "  \u001B[31m   \u001B[0m   \u001B[31m   \u001B[0m copying thinc/tests/__init__.py -> build/lib.linux-x86_64-cpython-312/thinc/tests\r\n",
      "  \u001B[31m   \u001B[0m   \u001B[31m   \u001B[0m copying thinc/tests/conftest.py -> build/lib.linux-x86_64-cpython-312/thinc/tests\r\n",
      "  \u001B[31m   \u001B[0m   \u001B[31m   \u001B[0m copying thinc/tests/strategies.py -> build/lib.linux-x86_64-cpython-312/thinc/tests\r\n",
      "  \u001B[31m   \u001B[0m   \u001B[31m   \u001B[0m copying thinc/tests/test_config.py -> build/lib.linux-x86_64-cpython-312/thinc/tests\r\n",
      "  \u001B[31m   \u001B[0m   \u001B[31m   \u001B[0m copying thinc/tests/test_examples.py -> build/lib.linux-x86_64-cpython-312/thinc/tests\r\n",
      "  \u001B[31m   \u001B[0m   \u001B[31m   \u001B[0m copying thinc/tests/test_indexing.py -> build/lib.linux-x86_64-cpython-312/thinc/tests\r\n",
      "  \u001B[31m   \u001B[0m   \u001B[31m   \u001B[0m copying thinc/tests/test_initializers.py -> build/lib.linux-x86_64-cpython-312/thinc/tests\r\n",
      "  \u001B[31m   \u001B[0m   \u001B[31m   \u001B[0m copying thinc/tests/test_loss.py -> build/lib.linux-x86_64-cpython-312/thinc/tests\r\n",
      "  \u001B[31m   \u001B[0m   \u001B[31m   \u001B[0m copying thinc/tests/test_optimizers.py -> build/lib.linux-x86_64-cpython-312/thinc/tests\r\n",
      "  \u001B[31m   \u001B[0m   \u001B[31m   \u001B[0m copying thinc/tests/test_schedules.py -> build/lib.linux-x86_64-cpython-312/thinc/tests\r\n",
      "  \u001B[31m   \u001B[0m   \u001B[31m   \u001B[0m copying thinc/tests/test_serialize.py -> build/lib.linux-x86_64-cpython-312/thinc/tests\r\n",
      "  \u001B[31m   \u001B[0m   \u001B[31m   \u001B[0m copying thinc/tests/test_types.py -> build/lib.linux-x86_64-cpython-312/thinc/tests\r\n",
      "  \u001B[31m   \u001B[0m   \u001B[31m   \u001B[0m copying thinc/tests/test_util.py -> build/lib.linux-x86_64-cpython-312/thinc/tests\r\n",
      "  \u001B[31m   \u001B[0m   \u001B[31m   \u001B[0m copying thinc/tests/util.py -> build/lib.linux-x86_64-cpython-312/thinc/tests\r\n",
      "  \u001B[31m   \u001B[0m   \u001B[31m   \u001B[0m creating build/lib.linux-x86_64-cpython-312/thinc/extra/tests\r\n",
      "  \u001B[31m   \u001B[0m   \u001B[31m   \u001B[0m copying thinc/extra/tests/__init__.py -> build/lib.linux-x86_64-cpython-312/thinc/extra/tests\r\n",
      "  \u001B[31m   \u001B[0m   \u001B[31m   \u001B[0m creating build/lib.linux-x86_64-cpython-312/thinc/tests/backends\r\n",
      "  \u001B[31m   \u001B[0m   \u001B[31m   \u001B[0m copying thinc/tests/backends/__init__.py -> build/lib.linux-x86_64-cpython-312/thinc/tests/backends\r\n",
      "  \u001B[31m   \u001B[0m   \u001B[31m   \u001B[0m copying thinc/tests/backends/test_mem.py -> build/lib.linux-x86_64-cpython-312/thinc/tests/backends\r\n",
      "  \u001B[31m   \u001B[0m   \u001B[31m   \u001B[0m copying thinc/tests/backends/test_ops.py -> build/lib.linux-x86_64-cpython-312/thinc/tests/backends\r\n",
      "  \u001B[31m   \u001B[0m   \u001B[31m   \u001B[0m creating build/lib.linux-x86_64-cpython-312/thinc/tests/extra\r\n",
      "  \u001B[31m   \u001B[0m   \u001B[31m   \u001B[0m copying thinc/tests/extra/__init__.py -> build/lib.linux-x86_64-cpython-312/thinc/tests/extra\r\n",
      "  \u001B[31m   \u001B[0m   \u001B[31m   \u001B[0m copying thinc/tests/extra/test_beam_search.py -> build/lib.linux-x86_64-cpython-312/thinc/tests/extra\r\n",
      "  \u001B[31m   \u001B[0m   \u001B[31m   \u001B[0m creating build/lib.linux-x86_64-cpython-312/thinc/tests/layers\r\n",
      "  \u001B[31m   \u001B[0m   \u001B[31m   \u001B[0m copying thinc/tests/layers/__init__.py -> build/lib.linux-x86_64-cpython-312/thinc/tests/layers\r\n",
      "  \u001B[31m   \u001B[0m   \u001B[31m   \u001B[0m copying thinc/tests/layers/test_basic_tagger.py -> build/lib.linux-x86_64-cpython-312/thinc/tests/layers\r\n",
      "  \u001B[31m   \u001B[0m   \u001B[31m   \u001B[0m copying thinc/tests/layers/test_combinators.py -> build/lib.linux-x86_64-cpython-312/thinc/tests/layers\r\n",
      "  \u001B[31m   \u001B[0m   \u001B[31m   \u001B[0m copying thinc/tests/layers/test_feed_forward.py -> build/lib.linux-x86_64-cpython-312/thinc/tests/layers\r\n",
      "  \u001B[31m   \u001B[0m   \u001B[31m   \u001B[0m copying thinc/tests/layers/test_hash_embed.py -> build/lib.linux-x86_64-cpython-312/thinc/tests/layers\r\n",
      "  \u001B[31m   \u001B[0m   \u001B[31m   \u001B[0m copying thinc/tests/layers/test_layers_api.py -> build/lib.linux-x86_64-cpython-312/thinc/tests/layers\r\n",
      "  \u001B[31m   \u001B[0m   \u001B[31m   \u001B[0m copying thinc/tests/layers/test_linear.py -> build/lib.linux-x86_64-cpython-312/thinc/tests/layers\r\n",
      "  \u001B[31m   \u001B[0m   \u001B[31m   \u001B[0m copying thinc/tests/layers/test_lstm.py -> build/lib.linux-x86_64-cpython-312/thinc/tests/layers\r\n",
      "  \u001B[31m   \u001B[0m   \u001B[31m   \u001B[0m copying thinc/tests/layers/test_mnist.py -> build/lib.linux-x86_64-cpython-312/thinc/tests/layers\r\n",
      "  \u001B[31m   \u001B[0m   \u001B[31m   \u001B[0m copying thinc/tests/layers/test_mxnet_wrapper.py -> build/lib.linux-x86_64-cpython-312/thinc/tests/layers\r\n",
      "  \u001B[31m   \u001B[0m   \u001B[31m   \u001B[0m copying thinc/tests/layers/test_pytorch_wrapper.py -> build/lib.linux-x86_64-cpython-312/thinc/tests/layers\r\n",
      "  \u001B[31m   \u001B[0m   \u001B[31m   \u001B[0m copying thinc/tests/layers/test_reduce.py -> build/lib.linux-x86_64-cpython-312/thinc/tests/layers\r\n",
      "  \u001B[31m   \u001B[0m   \u001B[31m   \u001B[0m copying thinc/tests/layers/test_shim.py -> build/lib.linux-x86_64-cpython-312/thinc/tests/layers\r\n",
      "  \u001B[31m   \u001B[0m   \u001B[31m   \u001B[0m copying thinc/tests/layers/test_softmax.py -> build/lib.linux-x86_64-cpython-312/thinc/tests/layers\r\n",
      "  \u001B[31m   \u001B[0m   \u001B[31m   \u001B[0m copying thinc/tests/layers/test_sparse_linear.py -> build/lib.linux-x86_64-cpython-312/thinc/tests/layers\r\n",
      "  \u001B[31m   \u001B[0m   \u001B[31m   \u001B[0m copying thinc/tests/layers/test_tensorflow_wrapper.py -> build/lib.linux-x86_64-cpython-312/thinc/tests/layers\r\n",
      "  \u001B[31m   \u001B[0m   \u001B[31m   \u001B[0m copying thinc/tests/layers/test_transforms.py -> build/lib.linux-x86_64-cpython-312/thinc/tests/layers\r\n",
      "  \u001B[31m   \u001B[0m   \u001B[31m   \u001B[0m copying thinc/tests/layers/test_uniqued.py -> build/lib.linux-x86_64-cpython-312/thinc/tests/layers\r\n",
      "  \u001B[31m   \u001B[0m   \u001B[31m   \u001B[0m copying thinc/tests/layers/test_with_debug.py -> build/lib.linux-x86_64-cpython-312/thinc/tests/layers\r\n",
      "  \u001B[31m   \u001B[0m   \u001B[31m   \u001B[0m copying thinc/tests/layers/test_with_transforms.py -> build/lib.linux-x86_64-cpython-312/thinc/tests/layers\r\n",
      "  \u001B[31m   \u001B[0m   \u001B[31m   \u001B[0m creating build/lib.linux-x86_64-cpython-312/thinc/tests/model\r\n",
      "  \u001B[31m   \u001B[0m   \u001B[31m   \u001B[0m copying thinc/tests/model/__init__.py -> build/lib.linux-x86_64-cpython-312/thinc/tests/model\r\n",
      "  \u001B[31m   \u001B[0m   \u001B[31m   \u001B[0m copying thinc/tests/model/test_model.py -> build/lib.linux-x86_64-cpython-312/thinc/tests/model\r\n",
      "  \u001B[31m   \u001B[0m   \u001B[31m   \u001B[0m copying thinc/tests/model/test_validation.py -> build/lib.linux-x86_64-cpython-312/thinc/tests/model\r\n",
      "  \u001B[31m   \u001B[0m   \u001B[31m   \u001B[0m creating build/lib.linux-x86_64-cpython-312/thinc/tests/mypy\r\n",
      "  \u001B[31m   \u001B[0m   \u001B[31m   \u001B[0m copying thinc/tests/mypy/__init__.py -> build/lib.linux-x86_64-cpython-312/thinc/tests/mypy\r\n",
      "  \u001B[31m   \u001B[0m   \u001B[31m   \u001B[0m copying thinc/tests/mypy/test_mypy.py -> build/lib.linux-x86_64-cpython-312/thinc/tests/mypy\r\n",
      "  \u001B[31m   \u001B[0m   \u001B[31m   \u001B[0m creating build/lib.linux-x86_64-cpython-312/thinc/tests/regression\r\n",
      "  \u001B[31m   \u001B[0m   \u001B[31m   \u001B[0m copying thinc/tests/regression/__init__.py -> build/lib.linux-x86_64-cpython-312/thinc/tests/regression\r\n",
      "  \u001B[31m   \u001B[0m   \u001B[31m   \u001B[0m copying thinc/tests/regression/test_issue208.py -> build/lib.linux-x86_64-cpython-312/thinc/tests/regression\r\n",
      "  \u001B[31m   \u001B[0m   \u001B[31m   \u001B[0m copying thinc/tests/regression/test_issue564.py -> build/lib.linux-x86_64-cpython-312/thinc/tests/regression\r\n",
      "  \u001B[31m   \u001B[0m   \u001B[31m   \u001B[0m creating build/lib.linux-x86_64-cpython-312/thinc/tests/shims\r\n",
      "  \u001B[31m   \u001B[0m   \u001B[31m   \u001B[0m copying thinc/tests/shims/__init__.py -> build/lib.linux-x86_64-cpython-312/thinc/tests/shims\r\n",
      "  \u001B[31m   \u001B[0m   \u001B[31m   \u001B[0m copying thinc/tests/shims/test_pytorch_grad_scaler.py -> build/lib.linux-x86_64-cpython-312/thinc/tests/shims\r\n",
      "  \u001B[31m   \u001B[0m   \u001B[31m   \u001B[0m creating build/lib.linux-x86_64-cpython-312/thinc/tests/mypy/modules\r\n",
      "  \u001B[31m   \u001B[0m   \u001B[31m   \u001B[0m copying thinc/tests/mypy/modules/__init__.py -> build/lib.linux-x86_64-cpython-312/thinc/tests/mypy/modules\r\n",
      "  \u001B[31m   \u001B[0m   \u001B[31m   \u001B[0m copying thinc/tests/mypy/modules/fail_no_plugin.py -> build/lib.linux-x86_64-cpython-312/thinc/tests/mypy/modules\r\n",
      "  \u001B[31m   \u001B[0m   \u001B[31m   \u001B[0m copying thinc/tests/mypy/modules/fail_plugin.py -> build/lib.linux-x86_64-cpython-312/thinc/tests/mypy/modules\r\n",
      "  \u001B[31m   \u001B[0m   \u001B[31m   \u001B[0m copying thinc/tests/mypy/modules/success_no_plugin.py -> build/lib.linux-x86_64-cpython-312/thinc/tests/mypy/modules\r\n",
      "  \u001B[31m   \u001B[0m   \u001B[31m   \u001B[0m copying thinc/tests/mypy/modules/success_plugin.py -> build/lib.linux-x86_64-cpython-312/thinc/tests/mypy/modules\r\n",
      "  \u001B[31m   \u001B[0m   \u001B[31m   \u001B[0m creating build/lib.linux-x86_64-cpython-312/thinc/tests/regression/issue519\r\n",
      "  \u001B[31m   \u001B[0m   \u001B[31m   \u001B[0m copying thinc/tests/regression/issue519/__init__.py -> build/lib.linux-x86_64-cpython-312/thinc/tests/regression/issue519\r\n",
      "  \u001B[31m   \u001B[0m   \u001B[31m   \u001B[0m copying thinc/tests/regression/issue519/program.py -> build/lib.linux-x86_64-cpython-312/thinc/tests/regression/issue519\r\n",
      "  \u001B[31m   \u001B[0m   \u001B[31m   \u001B[0m copying thinc/tests/regression/issue519/test_issue519.py -> build/lib.linux-x86_64-cpython-312/thinc/tests/regression/issue519\r\n",
      "  \u001B[31m   \u001B[0m   \u001B[31m   \u001B[0m running egg_info\r\n",
      "  \u001B[31m   \u001B[0m   \u001B[31m   \u001B[0m writing thinc.egg-info/PKG-INFO\r\n",
      "  \u001B[31m   \u001B[0m   \u001B[31m   \u001B[0m writing dependency_links to thinc.egg-info/dependency_links.txt\r\n",
      "  \u001B[31m   \u001B[0m   \u001B[31m   \u001B[0m writing requirements to thinc.egg-info/requires.txt\r\n",
      "  \u001B[31m   \u001B[0m   \u001B[31m   \u001B[0m writing top-level names to thinc.egg-info/top_level.txt\r\n",
      "  \u001B[31m   \u001B[0m   \u001B[31m   \u001B[0m reading manifest file 'thinc.egg-info/SOURCES.txt'\r\n",
      "  \u001B[31m   \u001B[0m   \u001B[31m   \u001B[0m reading manifest template 'MANIFEST.in'\r\n",
      "  \u001B[31m   \u001B[0m   \u001B[31m   \u001B[0m no previously-included directories found matching 'tmp'\r\n",
      "  \u001B[31m   \u001B[0m   \u001B[31m   \u001B[0m adding license file 'LICENSE'\r\n",
      "  \u001B[31m   \u001B[0m   \u001B[31m   \u001B[0m writing manifest file 'thinc.egg-info/SOURCES.txt'\r\n",
      "  \u001B[31m   \u001B[0m   \u001B[31m   \u001B[0m /tmp/pip-build-env-s15v_f1m/overlay/lib/python3.12/site-packages/setuptools/command/build_py.py:218: _Warning: Package 'thinc.tests.mypy.configs' is absent from the `packages` configuration.\r\n",
      "  \u001B[31m   \u001B[0m   \u001B[31m   \u001B[0m !!\r\n",
      "  \u001B[31m   \u001B[0m   \u001B[31m   \u001B[0m\r\n",
      "  \u001B[31m   \u001B[0m   \u001B[31m   \u001B[0m         ********************************************************************************\r\n",
      "  \u001B[31m   \u001B[0m   \u001B[31m   \u001B[0m         ############################\r\n",
      "  \u001B[31m   \u001B[0m   \u001B[31m   \u001B[0m         # Package would be ignored #\r\n",
      "  \u001B[31m   \u001B[0m   \u001B[31m   \u001B[0m         ############################\r\n",
      "  \u001B[31m   \u001B[0m   \u001B[31m   \u001B[0m         Python recognizes 'thinc.tests.mypy.configs' as an importable package[^1],\r\n",
      "  \u001B[31m   \u001B[0m   \u001B[31m   \u001B[0m         but it is absent from setuptools' `packages` configuration.\r\n",
      "  \u001B[31m   \u001B[0m   \u001B[31m   \u001B[0m\r\n",
      "  \u001B[31m   \u001B[0m   \u001B[31m   \u001B[0m         This leads to an ambiguous overall configuration. If you want to distribute this\r\n",
      "  \u001B[31m   \u001B[0m   \u001B[31m   \u001B[0m         package, please make sure that 'thinc.tests.mypy.configs' is explicitly added\r\n",
      "  \u001B[31m   \u001B[0m   \u001B[31m   \u001B[0m         to the `packages` configuration field.\r\n",
      "  \u001B[31m   \u001B[0m   \u001B[31m   \u001B[0m\r\n",
      "  \u001B[31m   \u001B[0m   \u001B[31m   \u001B[0m         Alternatively, you can also rely on setuptools' discovery methods\r\n",
      "  \u001B[31m   \u001B[0m   \u001B[31m   \u001B[0m         (for example by using `find_namespace_packages(...)`/`find_namespace:`\r\n",
      "  \u001B[31m   \u001B[0m   \u001B[31m   \u001B[0m         instead of `find_packages(...)`/`find:`).\r\n",
      "  \u001B[31m   \u001B[0m   \u001B[31m   \u001B[0m\r\n",
      "  \u001B[31m   \u001B[0m   \u001B[31m   \u001B[0m         You can read more about \"package discovery\" on setuptools documentation page:\r\n",
      "  \u001B[31m   \u001B[0m   \u001B[31m   \u001B[0m\r\n",
      "  \u001B[31m   \u001B[0m   \u001B[31m   \u001B[0m         - https://setuptools.pypa.io/en/latest/userguide/package_discovery.html\r\n",
      "  \u001B[31m   \u001B[0m   \u001B[31m   \u001B[0m\r\n",
      "  \u001B[31m   \u001B[0m   \u001B[31m   \u001B[0m         If you don't want 'thinc.tests.mypy.configs' to be distributed and are\r\n",
      "  \u001B[31m   \u001B[0m   \u001B[31m   \u001B[0m         already explicitly excluding 'thinc.tests.mypy.configs' via\r\n",
      "  \u001B[31m   \u001B[0m   \u001B[31m   \u001B[0m         `find_namespace_packages(...)/find_namespace` or `find_packages(...)/find`,\r\n",
      "  \u001B[31m   \u001B[0m   \u001B[31m   \u001B[0m         you can try to use `exclude_package_data`, or `include-package-data=False` in\r\n",
      "  \u001B[31m   \u001B[0m   \u001B[31m   \u001B[0m         combination with a more fine grained `package-data` configuration.\r\n",
      "  \u001B[31m   \u001B[0m   \u001B[31m   \u001B[0m\r\n",
      "  \u001B[31m   \u001B[0m   \u001B[31m   \u001B[0m         You can read more about \"package data files\" on setuptools documentation page:\r\n",
      "  \u001B[31m   \u001B[0m   \u001B[31m   \u001B[0m\r\n",
      "  \u001B[31m   \u001B[0m   \u001B[31m   \u001B[0m         - https://setuptools.pypa.io/en/latest/userguide/datafiles.html\r\n",
      "  \u001B[31m   \u001B[0m   \u001B[31m   \u001B[0m\r\n",
      "  \u001B[31m   \u001B[0m   \u001B[31m   \u001B[0m\r\n",
      "  \u001B[31m   \u001B[0m   \u001B[31m   \u001B[0m         [^1]: For Python, any directory (with suitable naming) can be imported,\r\n",
      "  \u001B[31m   \u001B[0m   \u001B[31m   \u001B[0m               even if it does not contain any `.py` files.\r\n",
      "  \u001B[31m   \u001B[0m   \u001B[31m   \u001B[0m               On the other hand, currently there is no concept of package data\r\n",
      "  \u001B[31m   \u001B[0m   \u001B[31m   \u001B[0m               directory, all directories are treated like packages.\r\n",
      "  \u001B[31m   \u001B[0m   \u001B[31m   \u001B[0m         ********************************************************************************\r\n",
      "  \u001B[31m   \u001B[0m   \u001B[31m   \u001B[0m\r\n",
      "  \u001B[31m   \u001B[0m   \u001B[31m   \u001B[0m !!\r\n",
      "  \u001B[31m   \u001B[0m   \u001B[31m   \u001B[0m   check.warn(importable)\r\n",
      "  \u001B[31m   \u001B[0m   \u001B[31m   \u001B[0m /tmp/pip-build-env-s15v_f1m/overlay/lib/python3.12/site-packages/setuptools/command/build_py.py:218: _Warning: Package 'thinc.tests.mypy.outputs' is absent from the `packages` configuration.\r\n",
      "  \u001B[31m   \u001B[0m   \u001B[31m   \u001B[0m !!\r\n",
      "  \u001B[31m   \u001B[0m   \u001B[31m   \u001B[0m\r\n",
      "  \u001B[31m   \u001B[0m   \u001B[31m   \u001B[0m         ********************************************************************************\r\n",
      "  \u001B[31m   \u001B[0m   \u001B[31m   \u001B[0m         ############################\r\n",
      "  \u001B[31m   \u001B[0m   \u001B[31m   \u001B[0m         # Package would be ignored #\r\n",
      "  \u001B[31m   \u001B[0m   \u001B[31m   \u001B[0m         ############################\r\n",
      "  \u001B[31m   \u001B[0m   \u001B[31m   \u001B[0m         Python recognizes 'thinc.tests.mypy.outputs' as an importable package[^1],\r\n",
      "  \u001B[31m   \u001B[0m   \u001B[31m   \u001B[0m         but it is absent from setuptools' `packages` configuration.\r\n",
      "  \u001B[31m   \u001B[0m   \u001B[31m   \u001B[0m\r\n",
      "  \u001B[31m   \u001B[0m   \u001B[31m   \u001B[0m         This leads to an ambiguous overall configuration. If you want to distribute this\r\n",
      "  \u001B[31m   \u001B[0m   \u001B[31m   \u001B[0m         package, please make sure that 'thinc.tests.mypy.outputs' is explicitly added\r\n",
      "  \u001B[31m   \u001B[0m   \u001B[31m   \u001B[0m         to the `packages` configuration field.\r\n",
      "  \u001B[31m   \u001B[0m   \u001B[31m   \u001B[0m\r\n",
      "  \u001B[31m   \u001B[0m   \u001B[31m   \u001B[0m         Alternatively, you can also rely on setuptools' discovery methods\r\n",
      "  \u001B[31m   \u001B[0m   \u001B[31m   \u001B[0m         (for example by using `find_namespace_packages(...)`/`find_namespace:`\r\n",
      "  \u001B[31m   \u001B[0m   \u001B[31m   \u001B[0m         instead of `find_packages(...)`/`find:`).\r\n",
      "  \u001B[31m   \u001B[0m   \u001B[31m   \u001B[0m\r\n",
      "  \u001B[31m   \u001B[0m   \u001B[31m   \u001B[0m         You can read more about \"package discovery\" on setuptools documentation page:\r\n",
      "  \u001B[31m   \u001B[0m   \u001B[31m   \u001B[0m\r\n",
      "  \u001B[31m   \u001B[0m   \u001B[31m   \u001B[0m         - https://setuptools.pypa.io/en/latest/userguide/package_discovery.html\r\n",
      "  \u001B[31m   \u001B[0m   \u001B[31m   \u001B[0m\r\n",
      "  \u001B[31m   \u001B[0m   \u001B[31m   \u001B[0m         If you don't want 'thinc.tests.mypy.outputs' to be distributed and are\r\n",
      "  \u001B[31m   \u001B[0m   \u001B[31m   \u001B[0m         already explicitly excluding 'thinc.tests.mypy.outputs' via\r\n",
      "  \u001B[31m   \u001B[0m   \u001B[31m   \u001B[0m         `find_namespace_packages(...)/find_namespace` or `find_packages(...)/find`,\r\n",
      "  \u001B[31m   \u001B[0m   \u001B[31m   \u001B[0m         you can try to use `exclude_package_data`, or `include-package-data=False` in\r\n",
      "  \u001B[31m   \u001B[0m   \u001B[31m   \u001B[0m         combination with a more fine grained `package-data` configuration.\r\n",
      "  \u001B[31m   \u001B[0m   \u001B[31m   \u001B[0m\r\n",
      "  \u001B[31m   \u001B[0m   \u001B[31m   \u001B[0m         You can read more about \"package data files\" on setuptools documentation page:\r\n",
      "  \u001B[31m   \u001B[0m   \u001B[31m   \u001B[0m\r\n",
      "  \u001B[31m   \u001B[0m   \u001B[31m   \u001B[0m         - https://setuptools.pypa.io/en/latest/userguide/datafiles.html\r\n",
      "  \u001B[31m   \u001B[0m   \u001B[31m   \u001B[0m\r\n",
      "  \u001B[31m   \u001B[0m   \u001B[31m   \u001B[0m\r\n",
      "  \u001B[31m   \u001B[0m   \u001B[31m   \u001B[0m         [^1]: For Python, any directory (with suitable naming) can be imported,\r\n",
      "  \u001B[31m   \u001B[0m   \u001B[31m   \u001B[0m               even if it does not contain any `.py` files.\r\n",
      "  \u001B[31m   \u001B[0m   \u001B[31m   \u001B[0m               On the other hand, currently there is no concept of package data\r\n",
      "  \u001B[31m   \u001B[0m   \u001B[31m   \u001B[0m               directory, all directories are treated like packages.\r\n",
      "  \u001B[31m   \u001B[0m   \u001B[31m   \u001B[0m         ********************************************************************************\r\n",
      "  \u001B[31m   \u001B[0m   \u001B[31m   \u001B[0m\r\n",
      "  \u001B[31m   \u001B[0m   \u001B[31m   \u001B[0m !!\r\n",
      "  \u001B[31m   \u001B[0m   \u001B[31m   \u001B[0m   check.warn(importable)\r\n",
      "  \u001B[31m   \u001B[0m   \u001B[31m   \u001B[0m copying thinc/__init__.pxd -> build/lib.linux-x86_64-cpython-312/thinc\r\n",
      "  \u001B[31m   \u001B[0m   \u001B[31m   \u001B[0m copying thinc/py.typed -> build/lib.linux-x86_64-cpython-312/thinc\r\n",
      "  \u001B[31m   \u001B[0m   \u001B[31m   \u001B[0m copying thinc/backends/__init__.pxd -> build/lib.linux-x86_64-cpython-312/thinc/backends\r\n",
      "  \u001B[31m   \u001B[0m   \u001B[31m   \u001B[0m copying thinc/backends/_custom_kernels.cu -> build/lib.linux-x86_64-cpython-312/thinc/backends\r\n",
      "  \u001B[31m   \u001B[0m   \u001B[31m   \u001B[0m copying thinc/backends/_murmur3.cu -> build/lib.linux-x86_64-cpython-312/thinc/backends\r\n",
      "  \u001B[31m   \u001B[0m   \u001B[31m   \u001B[0m copying thinc/backends/linalg.pxd -> build/lib.linux-x86_64-cpython-312/thinc/backends\r\n",
      "  \u001B[31m   \u001B[0m   \u001B[31m   \u001B[0m copying thinc/backends/linalg.pyx -> build/lib.linux-x86_64-cpython-312/thinc/backends\r\n",
      "  \u001B[31m   \u001B[0m   \u001B[31m   \u001B[0m copying thinc/backends/numpy_ops.pxd -> build/lib.linux-x86_64-cpython-312/thinc/backends\r\n",
      "  \u001B[31m   \u001B[0m   \u001B[31m   \u001B[0m copying thinc/backends/numpy_ops.pyx -> build/lib.linux-x86_64-cpython-312/thinc/backends\r\n",
      "  \u001B[31m   \u001B[0m   \u001B[31m   \u001B[0m copying thinc/extra/__init__.pxd -> build/lib.linux-x86_64-cpython-312/thinc/extra\r\n",
      "  \u001B[31m   \u001B[0m   \u001B[31m   \u001B[0m copying thinc/extra/search.pxd -> build/lib.linux-x86_64-cpython-312/thinc/extra\r\n",
      "  \u001B[31m   \u001B[0m   \u001B[31m   \u001B[0m copying thinc/extra/search.pyx -> build/lib.linux-x86_64-cpython-312/thinc/extra\r\n",
      "  \u001B[31m   \u001B[0m   \u001B[31m   \u001B[0m copying thinc/layers/sparselinear.pyx -> build/lib.linux-x86_64-cpython-312/thinc/layers\r\n",
      "  \u001B[31m   \u001B[0m   \u001B[31m   \u001B[0m copying thinc/extra/tests/c_test_search.pyx -> build/lib.linux-x86_64-cpython-312/thinc/extra/tests\r\n",
      "  \u001B[31m   \u001B[0m   \u001B[31m   \u001B[0m creating build/lib.linux-x86_64-cpython-312/thinc/tests/mypy/configs\r\n",
      "  \u001B[31m   \u001B[0m   \u001B[31m   \u001B[0m copying thinc/tests/mypy/configs/mypy-default.ini -> build/lib.linux-x86_64-cpython-312/thinc/tests/mypy/configs\r\n",
      "  \u001B[31m   \u001B[0m   \u001B[31m   \u001B[0m copying thinc/tests/mypy/configs/mypy-plugin.ini -> build/lib.linux-x86_64-cpython-312/thinc/tests/mypy/configs\r\n",
      "  \u001B[31m   \u001B[0m   \u001B[31m   \u001B[0m creating build/lib.linux-x86_64-cpython-312/thinc/tests/mypy/outputs\r\n",
      "  \u001B[31m   \u001B[0m   \u001B[31m   \u001B[0m copying thinc/tests/mypy/outputs/fail-no-plugin.txt -> build/lib.linux-x86_64-cpython-312/thinc/tests/mypy/outputs\r\n",
      "  \u001B[31m   \u001B[0m   \u001B[31m   \u001B[0m copying thinc/tests/mypy/outputs/fail-plugin.txt -> build/lib.linux-x86_64-cpython-312/thinc/tests/mypy/outputs\r\n",
      "  \u001B[31m   \u001B[0m   \u001B[31m   \u001B[0m copying thinc/tests/mypy/outputs/success-no-plugin.txt -> build/lib.linux-x86_64-cpython-312/thinc/tests/mypy/outputs\r\n",
      "  \u001B[31m   \u001B[0m   \u001B[31m   \u001B[0m copying thinc/tests/mypy/outputs/success-plugin.txt -> build/lib.linux-x86_64-cpython-312/thinc/tests/mypy/outputs\r\n",
      "  \u001B[31m   \u001B[0m   \u001B[31m   \u001B[0m running build_ext\r\n",
      "  \u001B[31m   \u001B[0m   \u001B[31m   \u001B[0m building 'thinc.backends.linalg' extension\r\n",
      "  \u001B[31m   \u001B[0m   \u001B[31m   \u001B[0m creating build/temp.linux-x86_64-cpython-312/thinc/backends\r\n",
      "  \u001B[31m   \u001B[0m   \u001B[31m   \u001B[0m g++ -fno-strict-overflow -Wsign-compare -DDYNAMIC_ANNOTATIONS_ENABLED=1 -DNDEBUG -fexceptions -fcf-protection -fexceptions -fcf-protection -fexceptions -fcf-protection -fPIC -I/tmp/pip-build-env-s15v_f1m/overlay/lib64/python3.12/site-packages/numpy/_core/include -I/usr/include/python3.12 -I/home/t/PycharmProjects/information-retrieval-Inno2024/.venv/include -I/usr/include/python3.12 -c thinc/backends/linalg.cpp -o build/temp.linux-x86_64-cpython-312/thinc/backends/linalg.o -O3 -Wno-strict-prototypes -Wno-unused-function\r\n",
      "  \u001B[31m   \u001B[0m   \u001B[31m   \u001B[0m error: command 'g++' failed: No such file or directory\r\n",
      "  \u001B[31m   \u001B[0m   \u001B[31m   \u001B[0m \u001B[31m[end of output]\u001B[0m\r\n",
      "  \u001B[31m   \u001B[0m \r\n",
      "  \u001B[31m   \u001B[0m   \u001B[1;35mnote\u001B[0m: This error originates from a subprocess, and is likely not a problem with pip.\r\n",
      "  \u001B[31m   \u001B[0m \u001B[31m  ERROR: Failed building wheel for thinc\u001B[0m\u001B[31m\r\n",
      "  \u001B[31m   \u001B[0m \u001B[0mFailed to build thinc\r\n",
      "  \u001B[31m   \u001B[0m \u001B[31mERROR: Could not build wheels for thinc, which is required to install pyproject.toml-based projects\u001B[0m\u001B[31m\r\n",
      "  \u001B[31m   \u001B[0m \u001B[0m\r\n",
      "  \u001B[31m   \u001B[0m \u001B[1m[\u001B[0m\u001B[34;49mnotice\u001B[0m\u001B[1;39;49m]\u001B[0m\u001B[39;49m A new release of pip is available: \u001B[0m\u001B[31;49m23.3.2\u001B[0m\u001B[39;49m -> \u001B[0m\u001B[32;49m24.2\u001B[0m\r\n",
      "  \u001B[31m   \u001B[0m \u001B[1m[\u001B[0m\u001B[34;49mnotice\u001B[0m\u001B[1;39;49m]\u001B[0m\u001B[39;49m To update, run: \u001B[0m\u001B[32;49mpip install --upgrade pip\u001B[0m\r\n",
      "  \u001B[31m   \u001B[0m \u001B[31m[end of output]\u001B[0m\r\n",
      "  \r\n",
      "  \u001B[1;35mnote\u001B[0m: This error originates from a subprocess, and is likely not a problem with pip.\r\n",
      "\u001B[1;31merror\u001B[0m: \u001B[1msubprocess-exited-with-error\u001B[0m\r\n",
      "\r\n",
      "\u001B[31m×\u001B[0m \u001B[32mpip subprocess to install build dependencies\u001B[0m did not run successfully.\r\n",
      "\u001B[31m│\u001B[0m exit code: \u001B[1;36m1\u001B[0m\r\n",
      "\u001B[31m╰─>\u001B[0m See above for output.\r\n",
      "\r\n",
      "\u001B[1;35mnote\u001B[0m: This error originates from a subprocess, and is likely not a problem with pip.\r\n",
      "\r\n",
      "\u001B[1m[\u001B[0m\u001B[34;49mnotice\u001B[0m\u001B[1;39;49m]\u001B[0m\u001B[39;49m A new release of pip is available: \u001B[0m\u001B[31;49m23.3.2\u001B[0m\u001B[39;49m -> \u001B[0m\u001B[32;49m24.2\u001B[0m\r\n",
      "\u001B[1m[\u001B[0m\u001B[34;49mnotice\u001B[0m\u001B[1;39;49m]\u001B[0m\u001B[39;49m To update, run: \u001B[0m\u001B[32;49mpip install --upgrade pip\u001B[0m\r\n",
      "\u001B[?25h"
     ]
    }
   ],
   "execution_count": 55,
   "source": "! python -m spacy download en_core_web_sm"
  },
  {
   "cell_type": "code",
   "metadata": {
    "ExecuteTime": {
     "end_time": "2024-10-08T12:39:27.474560Z",
     "start_time": "2024-10-08T12:39:27.469249Z"
    }
   },
   "source": [
    "#TODO add your code here\n",
    "from spacy_sentence_bert import SentenceTransformer\n",
    "import spacy"
   ],
   "outputs": [],
   "execution_count": 61
  },
  {
   "cell_type": "markdown",
   "metadata": {},
   "source": [
    "## 1.2. [10] Write a function that prepares embedding\n",
    "\n",
    "Write a function, which returns a fixed-sized vector of embedding."
   ]
  },
  {
   "cell_type": "code",
   "metadata": {
    "ExecuteTime": {
     "end_time": "2024-10-08T12:44:19.459732Z",
     "start_time": "2024-10-08T12:44:19.455932Z"
    }
   },
   "source": [
    "def embed(text):\n",
    "    name = 'paraphrase-MiniLM-L6-v2'\n",
    "    transformer = SentenceTransformer('all-MiniLM-L12-v2')\n",
    "    # nlp = spacy.load('paraphrase-distilroberta-base-v1')\n",
    "    # nlp.add_pipe('sentencizer', name=name)\n",
    "    return transformer.encode(text)"
   ],
   "outputs": [],
   "execution_count": 74
  },
  {
   "metadata": {
    "ExecuteTime": {
     "end_time": "2024-10-08T12:44:36.691183Z",
     "start_time": "2024-10-08T12:44:20.037426Z"
    }
   },
   "cell_type": "code",
   "source": [
    "from scipy.spatial.distance import cosine\n",
    "\n",
    "print(embed(\"man\").shape)\n",
    "\n",
    "# print(abs(cosine(embed(\"woman\"), embed(\"man\"))))"
   ],
   "outputs": [
    {
     "data": {
      "text/plain": [
       "modules.json:   0%|          | 0.00/349 [00:00<?, ?B/s]"
      ],
      "application/vnd.jupyter.widget-view+json": {
       "version_major": 2,
       "version_minor": 0,
       "model_id": "7a0c5933e79d4a1aba239f755eb16f3a"
      }
     },
     "metadata": {},
     "output_type": "display_data"
    },
    {
     "data": {
      "text/plain": [
       "config_sentence_transformers.json:   0%|          | 0.00/116 [00:00<?, ?B/s]"
      ],
      "application/vnd.jupyter.widget-view+json": {
       "version_major": 2,
       "version_minor": 0,
       "model_id": "67acc5f033d8467eb99f763a52c7f4c2"
      }
     },
     "metadata": {},
     "output_type": "display_data"
    },
    {
     "data": {
      "text/plain": [
       "README.md:   0%|          | 0.00/10.7k [00:00<?, ?B/s]"
      ],
      "application/vnd.jupyter.widget-view+json": {
       "version_major": 2,
       "version_minor": 0,
       "model_id": "22137b2ee7804eda8cfa2ba01354b1af"
      }
     },
     "metadata": {},
     "output_type": "display_data"
    },
    {
     "data": {
      "text/plain": [
       "sentence_bert_config.json:   0%|          | 0.00/53.0 [00:00<?, ?B/s]"
      ],
      "application/vnd.jupyter.widget-view+json": {
       "version_major": 2,
       "version_minor": 0,
       "model_id": "c87961f80ee440ca901ecb2fed6b6b90"
      }
     },
     "metadata": {},
     "output_type": "display_data"
    },
    {
     "data": {
      "text/plain": [
       "config.json:   0%|          | 0.00/615 [00:00<?, ?B/s]"
      ],
      "application/vnd.jupyter.widget-view+json": {
       "version_major": 2,
       "version_minor": 0,
       "model_id": "3fced990e79646758de398525e4307f8"
      }
     },
     "metadata": {},
     "output_type": "display_data"
    },
    {
     "data": {
      "text/plain": [
       "model.safetensors:   0%|          | 0.00/133M [00:00<?, ?B/s]"
      ],
      "application/vnd.jupyter.widget-view+json": {
       "version_major": 2,
       "version_minor": 0,
       "model_id": "485ae095f4b4460bbdc03cd5e9cb5dc1"
      }
     },
     "metadata": {},
     "output_type": "display_data"
    },
    {
     "data": {
      "text/plain": [
       "tokenizer_config.json:   0%|          | 0.00/352 [00:00<?, ?B/s]"
      ],
      "application/vnd.jupyter.widget-view+json": {
       "version_major": 2,
       "version_minor": 0,
       "model_id": "4eed2c9662be46eb9642329269341413"
      }
     },
     "metadata": {},
     "output_type": "display_data"
    },
    {
     "data": {
      "text/plain": [
       "vocab.txt:   0%|          | 0.00/232k [00:00<?, ?B/s]"
      ],
      "application/vnd.jupyter.widget-view+json": {
       "version_major": 2,
       "version_minor": 0,
       "model_id": "c6f7025fa4ae49caac2c8069cb7d3546"
      }
     },
     "metadata": {},
     "output_type": "display_data"
    },
    {
     "data": {
      "text/plain": [
       "tokenizer.json:   0%|          | 0.00/466k [00:00<?, ?B/s]"
      ],
      "application/vnd.jupyter.widget-view+json": {
       "version_major": 2,
       "version_minor": 0,
       "model_id": "7b1c605750be40b8afb210a6ef46f33b"
      }
     },
     "metadata": {},
     "output_type": "display_data"
    },
    {
     "data": {
      "text/plain": [
       "special_tokens_map.json:   0%|          | 0.00/112 [00:00<?, ?B/s]"
      ],
      "application/vnd.jupyter.widget-view+json": {
       "version_major": 2,
       "version_minor": 0,
       "model_id": "72235e4067f54c1e8a91f6dd38fe657b"
      }
     },
     "metadata": {},
     "output_type": "display_data"
    },
    {
     "data": {
      "text/plain": [
       "1_Pooling/config.json:   0%|          | 0.00/190 [00:00<?, ?B/s]"
      ],
      "application/vnd.jupyter.widget-view+json": {
       "version_major": 2,
       "version_minor": 0,
       "model_id": "f306dc629cac4063aa9ee75e4e5bc644"
      }
     },
     "metadata": {},
     "output_type": "display_data"
    },
    {
     "name": "stdout",
     "output_type": "stream",
     "text": [
      "(384,)\n"
     ]
    }
   ],
   "execution_count": 75
  },
  {
   "cell_type": "code",
   "metadata": {
    "ExecuteTime": {
     "end_time": "2024-10-08T12:44:43.785841Z",
     "start_time": "2024-10-08T12:44:38.478375Z"
    }
   },
   "source": [
    "assert len(embed(\"Some random text\")) == len(embed(\n",
    "    \"Folks, here's a story about Minnie the Moocher. She was a lowdown hoochie coocher. She was the roughest, toughest frail, but Minnie had a heart as big as a whale\")), \"Length should match\""
   ],
   "outputs": [],
   "execution_count": 76
  },
  {
   "cell_type": "code",
   "metadata": {
    "ExecuteTime": {
     "end_time": "2024-10-08T12:41:10.171484268Z",
     "start_time": "2024-10-08T12:35:36.744767Z"
    }
   },
   "source": [
    "from scipy.spatial.distance import cosine\n",
    "\n",
    "assert abs(cosine(\n",
    "    embed(\"some text for testing\"),\n",
    "    embed(\"some text for testing\")\n",
    ")) < 1e-4, \"Embedding should match\"\n",
    "\n",
    "assert abs(cosine(\n",
    "    embed(\"Cats eat mice.\"),\n",
    "    embed(\n",
    "        \"Terminator is an autonomous cyborg, typically humanoid, originally conceived as a virtually indestructible soldier, infiltrator, and assassin.\")\n",
    ")) > 0.2, \"Embeddings should be far\""
   ],
   "outputs": [],
   "execution_count": 49
  },
  {
   "cell_type": "markdown",
   "metadata": {},
   "source": [
    "## 1.3. [5] Reading the data\n",
    "\n",
    "Now, let's read the facts dataset. Download it from the abovementioned url and read to the list of sentences."
   ]
  },
  {
   "cell_type": "code",
   "metadata": {
    "ExecuteTime": {
     "end_time": "2024-10-08T12:44:48.030393Z",
     "start_time": "2024-10-08T12:44:47.639220Z"
    }
   },
   "source": [
    "import requests\n",
    "url = \"https://raw.githubusercontent.com/IUCVLab/information-retrieval/main/datasets/facts.txt\"\n",
    "facts = requests.get(url).text.split(\"\\n\")"
   ],
   "outputs": [],
   "execution_count": 77
  },
  {
   "cell_type": "code",
   "metadata": {
    "ExecuteTime": {
     "end_time": "2024-10-08T12:44:48.217589Z",
     "start_time": "2024-10-08T12:44:48.211974Z"
    }
   },
   "source": [
    "print(*facts[:5], sep='\\n')\n",
    "\n",
    "assert len(facts) == 159\n",
    "assert ('our lovely little planet') in facts[0]"
   ],
   "outputs": [
    {
     "name": "stdout",
     "output_type": "stream",
     "text": [
      "1. If you somehow found a way to extract all of the gold from the bubbling core of our lovely little planet, you would be able to cover all of the land in a layer of gold up to your knees.\n",
      "2. McDonalds calls frequent buyers of their food \"heavy users.\"\n",
      "3. The average person spends 6 months of their lifetime waiting on a red light to turn green.\n",
      "4. The largest recorded snowflake was in Keogh, MT during year 1887, and was 15 inches wide.\n",
      "5. You burn more calories sleeping than you do watching television.\n"
     ]
    }
   ],
   "execution_count": 78
  },
  {
   "cell_type": "markdown",
   "metadata": {},
   "source": [
    "## 1.4. [10] Transforming sentences to vectors\n",
    "\n",
    "Transform the list of facts to `numpy.array` of vectors corresponding to each document (`sent_vecs`), inferring them from the model we just loaded."
   ]
  },
  {
   "cell_type": "code",
   "metadata": {
    "ExecuteTime": {
     "end_time": "2024-10-08T12:47:29.007817167Z",
     "start_time": "2024-10-08T12:44:49.791974Z"
    }
   },
   "source": [
    "#TODO infer vectors\n",
    "sent_vecs = [embed(fact) for fact in facts]"
   ],
   "outputs": [
    {
     "ename": "KeyboardInterrupt",
     "evalue": "",
     "output_type": "error",
     "traceback": [
      "\u001B[0;31m---------------------------------------------------------------------------\u001B[0m",
      "\u001B[0;31mKeyboardInterrupt\u001B[0m                         Traceback (most recent call last)",
      "Cell \u001B[0;32mIn[79], line 2\u001B[0m\n\u001B[1;32m      1\u001B[0m \u001B[38;5;66;03m#TODO infer vectors\u001B[39;00m\n\u001B[0;32m----> 2\u001B[0m sent_vecs \u001B[38;5;241m=\u001B[39m [\u001B[43membed\u001B[49m\u001B[43m(\u001B[49m\u001B[43mfact\u001B[49m\u001B[43m)\u001B[49m \u001B[38;5;28;01mfor\u001B[39;00m fact \u001B[38;5;129;01min\u001B[39;00m facts]\n",
      "Cell \u001B[0;32mIn[74], line 4\u001B[0m, in \u001B[0;36membed\u001B[0;34m(text)\u001B[0m\n\u001B[1;32m      2\u001B[0m name \u001B[38;5;241m=\u001B[39m \u001B[38;5;124m'\u001B[39m\u001B[38;5;124mparaphrase-MiniLM-L6-v2\u001B[39m\u001B[38;5;124m'\u001B[39m\n\u001B[1;32m      3\u001B[0m transformer \u001B[38;5;241m=\u001B[39m SentenceTransformer(\u001B[38;5;124m'\u001B[39m\u001B[38;5;124mall-MiniLM-L12-v2\u001B[39m\u001B[38;5;124m'\u001B[39m)\n\u001B[0;32m----> 4\u001B[0m nlp \u001B[38;5;241m=\u001B[39m \u001B[43mspacy\u001B[49m\u001B[38;5;241;43m.\u001B[39;49m\u001B[43mload\u001B[49m\u001B[43m(\u001B[49m\u001B[38;5;124;43m'\u001B[39;49m\u001B[38;5;124;43men_core_web_sm\u001B[39;49m\u001B[38;5;124;43m'\u001B[39;49m\u001B[43m)\u001B[49m\n\u001B[1;32m      5\u001B[0m nlp\u001B[38;5;241m.\u001B[39madd_pipe(\u001B[38;5;124m'\u001B[39m\u001B[38;5;124msentencizer\u001B[39m\u001B[38;5;124m'\u001B[39m, name\u001B[38;5;241m=\u001B[39mname)\n\u001B[1;32m      6\u001B[0m \u001B[38;5;28;01mreturn\u001B[39;00m transformer\u001B[38;5;241m.\u001B[39mencode(text)\n",
      "File \u001B[0;32m~/PycharmProjects/information-retrieval-Inno2024/.venv/lib64/python3.12/site-packages/spacy/__init__.py:51\u001B[0m, in \u001B[0;36mload\u001B[0;34m(name, vocab, disable, enable, exclude, config)\u001B[0m\n\u001B[1;32m     27\u001B[0m \u001B[38;5;28;01mdef\u001B[39;00m \u001B[38;5;21mload\u001B[39m(\n\u001B[1;32m     28\u001B[0m     name: Union[\u001B[38;5;28mstr\u001B[39m, Path],\n\u001B[1;32m     29\u001B[0m     \u001B[38;5;241m*\u001B[39m,\n\u001B[0;32m   (...)\u001B[0m\n\u001B[1;32m     34\u001B[0m     config: Union[Dict[\u001B[38;5;28mstr\u001B[39m, Any], Config] \u001B[38;5;241m=\u001B[39m util\u001B[38;5;241m.\u001B[39mSimpleFrozenDict(),\n\u001B[1;32m     35\u001B[0m ) \u001B[38;5;241m-\u001B[39m\u001B[38;5;241m>\u001B[39m Language:\n\u001B[1;32m     36\u001B[0m \u001B[38;5;250m    \u001B[39m\u001B[38;5;124;03m\"\"\"Load a spaCy model from an installed package or a local path.\u001B[39;00m\n\u001B[1;32m     37\u001B[0m \n\u001B[1;32m     38\u001B[0m \u001B[38;5;124;03m    name (str): Package name or model path.\u001B[39;00m\n\u001B[0;32m   (...)\u001B[0m\n\u001B[1;32m     49\u001B[0m \u001B[38;5;124;03m    RETURNS (Language): The loaded nlp object.\u001B[39;00m\n\u001B[1;32m     50\u001B[0m \u001B[38;5;124;03m    \"\"\"\u001B[39;00m\n\u001B[0;32m---> 51\u001B[0m     \u001B[38;5;28;01mreturn\u001B[39;00m \u001B[43mutil\u001B[49m\u001B[38;5;241;43m.\u001B[39;49m\u001B[43mload_model\u001B[49m\u001B[43m(\u001B[49m\n\u001B[1;32m     52\u001B[0m \u001B[43m        \u001B[49m\u001B[43mname\u001B[49m\u001B[43m,\u001B[49m\n\u001B[1;32m     53\u001B[0m \u001B[43m        \u001B[49m\u001B[43mvocab\u001B[49m\u001B[38;5;241;43m=\u001B[39;49m\u001B[43mvocab\u001B[49m\u001B[43m,\u001B[49m\n\u001B[1;32m     54\u001B[0m \u001B[43m        \u001B[49m\u001B[43mdisable\u001B[49m\u001B[38;5;241;43m=\u001B[39;49m\u001B[43mdisable\u001B[49m\u001B[43m,\u001B[49m\n\u001B[1;32m     55\u001B[0m \u001B[43m        \u001B[49m\u001B[43menable\u001B[49m\u001B[38;5;241;43m=\u001B[39;49m\u001B[43menable\u001B[49m\u001B[43m,\u001B[49m\n\u001B[1;32m     56\u001B[0m \u001B[43m        \u001B[49m\u001B[43mexclude\u001B[49m\u001B[38;5;241;43m=\u001B[39;49m\u001B[43mexclude\u001B[49m\u001B[43m,\u001B[49m\n\u001B[1;32m     57\u001B[0m \u001B[43m        \u001B[49m\u001B[43mconfig\u001B[49m\u001B[38;5;241;43m=\u001B[39;49m\u001B[43mconfig\u001B[49m\u001B[43m,\u001B[49m\n\u001B[1;32m     58\u001B[0m \u001B[43m    \u001B[49m\u001B[43m)\u001B[49m\n",
      "File \u001B[0;32m~/PycharmProjects/information-retrieval-Inno2024/.venv/lib64/python3.12/site-packages/spacy/util.py:465\u001B[0m, in \u001B[0;36mload_model\u001B[0;34m(name, vocab, disable, enable, exclude, config)\u001B[0m\n\u001B[1;32m    463\u001B[0m     \u001B[38;5;28;01mreturn\u001B[39;00m get_lang_class(name\u001B[38;5;241m.\u001B[39mreplace(\u001B[38;5;124m\"\u001B[39m\u001B[38;5;124mblank:\u001B[39m\u001B[38;5;124m\"\u001B[39m, \u001B[38;5;124m\"\u001B[39m\u001B[38;5;124m\"\u001B[39m))()\n\u001B[1;32m    464\u001B[0m \u001B[38;5;28;01mif\u001B[39;00m is_package(name):  \u001B[38;5;66;03m# installed as package\u001B[39;00m\n\u001B[0;32m--> 465\u001B[0m     \u001B[38;5;28;01mreturn\u001B[39;00m \u001B[43mload_model_from_package\u001B[49m\u001B[43m(\u001B[49m\u001B[43mname\u001B[49m\u001B[43m,\u001B[49m\u001B[43m \u001B[49m\u001B[38;5;241;43m*\u001B[39;49m\u001B[38;5;241;43m*\u001B[39;49m\u001B[43mkwargs\u001B[49m\u001B[43m)\u001B[49m  \u001B[38;5;66;03m# type: ignore[arg-type]\u001B[39;00m\n\u001B[1;32m    466\u001B[0m \u001B[38;5;28;01mif\u001B[39;00m Path(name)\u001B[38;5;241m.\u001B[39mexists():  \u001B[38;5;66;03m# path to model data directory\u001B[39;00m\n\u001B[1;32m    467\u001B[0m     \u001B[38;5;28;01mreturn\u001B[39;00m load_model_from_path(Path(name), \u001B[38;5;241m*\u001B[39m\u001B[38;5;241m*\u001B[39mkwargs)  \u001B[38;5;66;03m# type: ignore[arg-type]\u001B[39;00m\n",
      "File \u001B[0;32m~/PycharmProjects/information-retrieval-Inno2024/.venv/lib64/python3.12/site-packages/spacy/util.py:501\u001B[0m, in \u001B[0;36mload_model_from_package\u001B[0;34m(name, vocab, disable, enable, exclude, config)\u001B[0m\n\u001B[1;32m    484\u001B[0m \u001B[38;5;250m\u001B[39m\u001B[38;5;124;03m\"\"\"Load a model from an installed package.\u001B[39;00m\n\u001B[1;32m    485\u001B[0m \n\u001B[1;32m    486\u001B[0m \u001B[38;5;124;03mname (str): The package name.\u001B[39;00m\n\u001B[0;32m   (...)\u001B[0m\n\u001B[1;32m    498\u001B[0m \u001B[38;5;124;03mRETURNS (Language): The loaded nlp object.\u001B[39;00m\n\u001B[1;32m    499\u001B[0m \u001B[38;5;124;03m\"\"\"\u001B[39;00m\n\u001B[1;32m    500\u001B[0m \u001B[38;5;28mcls\u001B[39m \u001B[38;5;241m=\u001B[39m importlib\u001B[38;5;241m.\u001B[39mimport_module(name)\n\u001B[0;32m--> 501\u001B[0m \u001B[38;5;28;01mreturn\u001B[39;00m \u001B[38;5;28;43mcls\u001B[39;49m\u001B[38;5;241;43m.\u001B[39;49m\u001B[43mload\u001B[49m\u001B[43m(\u001B[49m\u001B[43mvocab\u001B[49m\u001B[38;5;241;43m=\u001B[39;49m\u001B[43mvocab\u001B[49m\u001B[43m,\u001B[49m\u001B[43m \u001B[49m\u001B[43mdisable\u001B[49m\u001B[38;5;241;43m=\u001B[39;49m\u001B[43mdisable\u001B[49m\u001B[43m,\u001B[49m\u001B[43m \u001B[49m\u001B[43menable\u001B[49m\u001B[38;5;241;43m=\u001B[39;49m\u001B[43menable\u001B[49m\u001B[43m,\u001B[49m\u001B[43m \u001B[49m\u001B[43mexclude\u001B[49m\u001B[38;5;241;43m=\u001B[39;49m\u001B[43mexclude\u001B[49m\u001B[43m,\u001B[49m\u001B[43m \u001B[49m\u001B[43mconfig\u001B[49m\u001B[38;5;241;43m=\u001B[39;49m\u001B[43mconfig\u001B[49m\u001B[43m)\u001B[49m\n",
      "File \u001B[0;32m~/PycharmProjects/information-retrieval-Inno2024/.venv/lib64/python3.12/site-packages/en_core_web_sm/__init__.py:10\u001B[0m, in \u001B[0;36mload\u001B[0;34m(**overrides)\u001B[0m\n\u001B[1;32m      9\u001B[0m \u001B[38;5;28;01mdef\u001B[39;00m \u001B[38;5;21mload\u001B[39m(\u001B[38;5;241m*\u001B[39m\u001B[38;5;241m*\u001B[39moverrides):\n\u001B[0;32m---> 10\u001B[0m     \u001B[38;5;28;01mreturn\u001B[39;00m \u001B[43mload_model_from_init_py\u001B[49m\u001B[43m(\u001B[49m\u001B[38;5;18;43m__file__\u001B[39;49m\u001B[43m,\u001B[49m\u001B[43m \u001B[49m\u001B[38;5;241;43m*\u001B[39;49m\u001B[38;5;241;43m*\u001B[39;49m\u001B[43moverrides\u001B[49m\u001B[43m)\u001B[49m\n",
      "File \u001B[0;32m~/PycharmProjects/information-retrieval-Inno2024/.venv/lib64/python3.12/site-packages/spacy/util.py:682\u001B[0m, in \u001B[0;36mload_model_from_init_py\u001B[0;34m(init_file, vocab, disable, enable, exclude, config)\u001B[0m\n\u001B[1;32m    680\u001B[0m \u001B[38;5;28;01mif\u001B[39;00m \u001B[38;5;129;01mnot\u001B[39;00m model_path\u001B[38;5;241m.\u001B[39mexists():\n\u001B[1;32m    681\u001B[0m     \u001B[38;5;28;01mraise\u001B[39;00m \u001B[38;5;167;01mIOError\u001B[39;00m(Errors\u001B[38;5;241m.\u001B[39mE052\u001B[38;5;241m.\u001B[39mformat(path\u001B[38;5;241m=\u001B[39mdata_path))\n\u001B[0;32m--> 682\u001B[0m \u001B[38;5;28;01mreturn\u001B[39;00m \u001B[43mload_model_from_path\u001B[49m\u001B[43m(\u001B[49m\n\u001B[1;32m    683\u001B[0m \u001B[43m    \u001B[49m\u001B[43mdata_path\u001B[49m\u001B[43m,\u001B[49m\n\u001B[1;32m    684\u001B[0m \u001B[43m    \u001B[49m\u001B[43mvocab\u001B[49m\u001B[38;5;241;43m=\u001B[39;49m\u001B[43mvocab\u001B[49m\u001B[43m,\u001B[49m\n\u001B[1;32m    685\u001B[0m \u001B[43m    \u001B[49m\u001B[43mmeta\u001B[49m\u001B[38;5;241;43m=\u001B[39;49m\u001B[43mmeta\u001B[49m\u001B[43m,\u001B[49m\n\u001B[1;32m    686\u001B[0m \u001B[43m    \u001B[49m\u001B[43mdisable\u001B[49m\u001B[38;5;241;43m=\u001B[39;49m\u001B[43mdisable\u001B[49m\u001B[43m,\u001B[49m\n\u001B[1;32m    687\u001B[0m \u001B[43m    \u001B[49m\u001B[43menable\u001B[49m\u001B[38;5;241;43m=\u001B[39;49m\u001B[43menable\u001B[49m\u001B[43m,\u001B[49m\n\u001B[1;32m    688\u001B[0m \u001B[43m    \u001B[49m\u001B[43mexclude\u001B[49m\u001B[38;5;241;43m=\u001B[39;49m\u001B[43mexclude\u001B[49m\u001B[43m,\u001B[49m\n\u001B[1;32m    689\u001B[0m \u001B[43m    \u001B[49m\u001B[43mconfig\u001B[49m\u001B[38;5;241;43m=\u001B[39;49m\u001B[43mconfig\u001B[49m\u001B[43m,\u001B[49m\n\u001B[1;32m    690\u001B[0m \u001B[43m\u001B[49m\u001B[43m)\u001B[49m\n",
      "File \u001B[0;32m~/PycharmProjects/information-retrieval-Inno2024/.venv/lib64/python3.12/site-packages/spacy/util.py:547\u001B[0m, in \u001B[0;36mload_model_from_path\u001B[0;34m(model_path, meta, vocab, disable, enable, exclude, config)\u001B[0m\n\u001B[1;32m    538\u001B[0m config \u001B[38;5;241m=\u001B[39m load_config(config_path, overrides\u001B[38;5;241m=\u001B[39moverrides)\n\u001B[1;32m    539\u001B[0m nlp \u001B[38;5;241m=\u001B[39m load_model_from_config(\n\u001B[1;32m    540\u001B[0m     config,\n\u001B[1;32m    541\u001B[0m     vocab\u001B[38;5;241m=\u001B[39mvocab,\n\u001B[0;32m   (...)\u001B[0m\n\u001B[1;32m    545\u001B[0m     meta\u001B[38;5;241m=\u001B[39mmeta,\n\u001B[1;32m    546\u001B[0m )\n\u001B[0;32m--> 547\u001B[0m \u001B[38;5;28;01mreturn\u001B[39;00m \u001B[43mnlp\u001B[49m\u001B[38;5;241;43m.\u001B[39;49m\u001B[43mfrom_disk\u001B[49m\u001B[43m(\u001B[49m\u001B[43mmodel_path\u001B[49m\u001B[43m,\u001B[49m\u001B[43m \u001B[49m\u001B[43mexclude\u001B[49m\u001B[38;5;241;43m=\u001B[39;49m\u001B[43mexclude\u001B[49m\u001B[43m,\u001B[49m\u001B[43m \u001B[49m\u001B[43moverrides\u001B[49m\u001B[38;5;241;43m=\u001B[39;49m\u001B[43moverrides\u001B[49m\u001B[43m)\u001B[49m\n",
      "File \u001B[0;32m~/PycharmProjects/information-retrieval-Inno2024/.venv/lib64/python3.12/site-packages/spacy/language.py:2246\u001B[0m, in \u001B[0;36mLanguage.from_disk\u001B[0;34m(self, path, exclude, overrides)\u001B[0m\n\u001B[1;32m   2243\u001B[0m \u001B[38;5;28;01mif\u001B[39;00m \u001B[38;5;129;01mnot\u001B[39;00m (path \u001B[38;5;241m/\u001B[39m \u001B[38;5;124m\"\u001B[39m\u001B[38;5;124mvocab\u001B[39m\u001B[38;5;124m\"\u001B[39m)\u001B[38;5;241m.\u001B[39mexists() \u001B[38;5;129;01mand\u001B[39;00m \u001B[38;5;124m\"\u001B[39m\u001B[38;5;124mvocab\u001B[39m\u001B[38;5;124m\"\u001B[39m \u001B[38;5;129;01mnot\u001B[39;00m \u001B[38;5;129;01min\u001B[39;00m exclude:  \u001B[38;5;66;03m# type: ignore[operator]\u001B[39;00m\n\u001B[1;32m   2244\u001B[0m     \u001B[38;5;66;03m# Convert to list here in case exclude is (default) tuple\u001B[39;00m\n\u001B[1;32m   2245\u001B[0m     exclude \u001B[38;5;241m=\u001B[39m \u001B[38;5;28mlist\u001B[39m(exclude) \u001B[38;5;241m+\u001B[39m [\u001B[38;5;124m\"\u001B[39m\u001B[38;5;124mvocab\u001B[39m\u001B[38;5;124m\"\u001B[39m]\n\u001B[0;32m-> 2246\u001B[0m \u001B[43mutil\u001B[49m\u001B[38;5;241;43m.\u001B[39;49m\u001B[43mfrom_disk\u001B[49m\u001B[43m(\u001B[49m\u001B[43mpath\u001B[49m\u001B[43m,\u001B[49m\u001B[43m \u001B[49m\u001B[43mdeserializers\u001B[49m\u001B[43m,\u001B[49m\u001B[43m \u001B[49m\u001B[43mexclude\u001B[49m\u001B[43m)\u001B[49m  \u001B[38;5;66;03m# type: ignore[arg-type]\u001B[39;00m\n\u001B[1;32m   2247\u001B[0m \u001B[38;5;28mself\u001B[39m\u001B[38;5;241m.\u001B[39m_path \u001B[38;5;241m=\u001B[39m path  \u001B[38;5;66;03m# type: ignore[assignment]\u001B[39;00m\n\u001B[1;32m   2248\u001B[0m \u001B[38;5;28mself\u001B[39m\u001B[38;5;241m.\u001B[39m_link_components()\n",
      "File \u001B[0;32m~/PycharmProjects/information-retrieval-Inno2024/.venv/lib64/python3.12/site-packages/spacy/util.py:1390\u001B[0m, in \u001B[0;36mfrom_disk\u001B[0;34m(path, readers, exclude)\u001B[0m\n\u001B[1;32m   1387\u001B[0m \u001B[38;5;28;01mfor\u001B[39;00m key, reader \u001B[38;5;129;01min\u001B[39;00m readers\u001B[38;5;241m.\u001B[39mitems():\n\u001B[1;32m   1388\u001B[0m     \u001B[38;5;66;03m# Split to support file names like meta.json\u001B[39;00m\n\u001B[1;32m   1389\u001B[0m     \u001B[38;5;28;01mif\u001B[39;00m key\u001B[38;5;241m.\u001B[39msplit(\u001B[38;5;124m\"\u001B[39m\u001B[38;5;124m.\u001B[39m\u001B[38;5;124m\"\u001B[39m)[\u001B[38;5;241m0\u001B[39m] \u001B[38;5;129;01mnot\u001B[39;00m \u001B[38;5;129;01min\u001B[39;00m exclude:\n\u001B[0;32m-> 1390\u001B[0m         \u001B[43mreader\u001B[49m\u001B[43m(\u001B[49m\u001B[43mpath\u001B[49m\u001B[43m \u001B[49m\u001B[38;5;241;43m/\u001B[39;49m\u001B[43m \u001B[49m\u001B[43mkey\u001B[49m\u001B[43m)\u001B[49m\n\u001B[1;32m   1391\u001B[0m \u001B[38;5;28;01mreturn\u001B[39;00m path\n",
      "File \u001B[0;32m~/PycharmProjects/information-retrieval-Inno2024/.venv/lib64/python3.12/site-packages/spacy/language.py:2240\u001B[0m, in \u001B[0;36mLanguage.from_disk.<locals>.<lambda>\u001B[0;34m(p, proc)\u001B[0m\n\u001B[1;32m   2238\u001B[0m     \u001B[38;5;28;01mif\u001B[39;00m \u001B[38;5;129;01mnot\u001B[39;00m \u001B[38;5;28mhasattr\u001B[39m(proc, \u001B[38;5;124m\"\u001B[39m\u001B[38;5;124mfrom_disk\u001B[39m\u001B[38;5;124m\"\u001B[39m):\n\u001B[1;32m   2239\u001B[0m         \u001B[38;5;28;01mcontinue\u001B[39;00m\n\u001B[0;32m-> 2240\u001B[0m     deserializers[name] \u001B[38;5;241m=\u001B[39m \u001B[38;5;28;01mlambda\u001B[39;00m p, proc\u001B[38;5;241m=\u001B[39mproc: \u001B[43mproc\u001B[49m\u001B[38;5;241;43m.\u001B[39;49m\u001B[43mfrom_disk\u001B[49m\u001B[43m(\u001B[49m\u001B[43m  \u001B[49m\u001B[38;5;66;43;03m# type: ignore[misc]\u001B[39;49;00m\n\u001B[1;32m   2241\u001B[0m \u001B[43m        \u001B[49m\u001B[43mp\u001B[49m\u001B[43m,\u001B[49m\u001B[43m \u001B[49m\u001B[43mexclude\u001B[49m\u001B[38;5;241;43m=\u001B[39;49m\u001B[43m[\u001B[49m\u001B[38;5;124;43m\"\u001B[39;49m\u001B[38;5;124;43mvocab\u001B[39;49m\u001B[38;5;124;43m\"\u001B[39;49m\u001B[43m]\u001B[49m\n\u001B[1;32m   2242\u001B[0m \u001B[43m    \u001B[49m\u001B[43m)\u001B[49m\n\u001B[1;32m   2243\u001B[0m \u001B[38;5;28;01mif\u001B[39;00m \u001B[38;5;129;01mnot\u001B[39;00m (path \u001B[38;5;241m/\u001B[39m \u001B[38;5;124m\"\u001B[39m\u001B[38;5;124mvocab\u001B[39m\u001B[38;5;124m\"\u001B[39m)\u001B[38;5;241m.\u001B[39mexists() \u001B[38;5;129;01mand\u001B[39;00m \u001B[38;5;124m\"\u001B[39m\u001B[38;5;124mvocab\u001B[39m\u001B[38;5;124m\"\u001B[39m \u001B[38;5;129;01mnot\u001B[39;00m \u001B[38;5;129;01min\u001B[39;00m exclude:  \u001B[38;5;66;03m# type: ignore[operator]\u001B[39;00m\n\u001B[1;32m   2244\u001B[0m     \u001B[38;5;66;03m# Convert to list here in case exclude is (default) tuple\u001B[39;00m\n\u001B[1;32m   2245\u001B[0m     exclude \u001B[38;5;241m=\u001B[39m \u001B[38;5;28mlist\u001B[39m(exclude) \u001B[38;5;241m+\u001B[39m [\u001B[38;5;124m\"\u001B[39m\u001B[38;5;124mvocab\u001B[39m\u001B[38;5;124m\"\u001B[39m]\n",
      "File \u001B[0;32m~/PycharmProjects/information-retrieval-Inno2024/.venv/lib64/python3.12/site-packages/spacy/pipeline/trainable_pipe.pyx:343\u001B[0m, in \u001B[0;36mspacy.pipeline.trainable_pipe.TrainablePipe.from_disk\u001B[0;34m()\u001B[0m\n",
      "File \u001B[0;32m~/PycharmProjects/information-retrieval-Inno2024/.venv/lib64/python3.12/site-packages/spacy/util.py:1390\u001B[0m, in \u001B[0;36mfrom_disk\u001B[0;34m(path, readers, exclude)\u001B[0m\n\u001B[1;32m   1387\u001B[0m \u001B[38;5;28;01mfor\u001B[39;00m key, reader \u001B[38;5;129;01min\u001B[39;00m readers\u001B[38;5;241m.\u001B[39mitems():\n\u001B[1;32m   1388\u001B[0m     \u001B[38;5;66;03m# Split to support file names like meta.json\u001B[39;00m\n\u001B[1;32m   1389\u001B[0m     \u001B[38;5;28;01mif\u001B[39;00m key\u001B[38;5;241m.\u001B[39msplit(\u001B[38;5;124m\"\u001B[39m\u001B[38;5;124m.\u001B[39m\u001B[38;5;124m\"\u001B[39m)[\u001B[38;5;241m0\u001B[39m] \u001B[38;5;129;01mnot\u001B[39;00m \u001B[38;5;129;01min\u001B[39;00m exclude:\n\u001B[0;32m-> 1390\u001B[0m         \u001B[43mreader\u001B[49m\u001B[43m(\u001B[49m\u001B[43mpath\u001B[49m\u001B[43m \u001B[49m\u001B[38;5;241;43m/\u001B[39;49m\u001B[43m \u001B[49m\u001B[43mkey\u001B[49m\u001B[43m)\u001B[49m\n\u001B[1;32m   1391\u001B[0m \u001B[38;5;28;01mreturn\u001B[39;00m path\n",
      "File \u001B[0;32m~/PycharmProjects/information-retrieval-Inno2024/.venv/lib64/python3.12/site-packages/spacy/pipeline/trainable_pipe.pyx:333\u001B[0m, in \u001B[0;36mspacy.pipeline.trainable_pipe.TrainablePipe.from_disk.load_model\u001B[0;34m()\u001B[0m\n",
      "File \u001B[0;32m~/PycharmProjects/information-retrieval-Inno2024/.venv/lib64/python3.12/site-packages/spacy/pipeline/trainable_pipe.pyx:334\u001B[0m, in \u001B[0;36mspacy.pipeline.trainable_pipe.TrainablePipe.from_disk.load_model\u001B[0;34m()\u001B[0m\n",
      "File \u001B[0;32m~/PycharmProjects/information-retrieval-Inno2024/.venv/lib64/python3.12/site-packages/thinc/model.py:638\u001B[0m, in \u001B[0;36mModel.from_bytes\u001B[0;34m(self, bytes_data)\u001B[0m\n\u001B[1;32m    636\u001B[0m msg \u001B[38;5;241m=\u001B[39m srsly\u001B[38;5;241m.\u001B[39mmsgpack_loads(bytes_data)\n\u001B[1;32m    637\u001B[0m msg \u001B[38;5;241m=\u001B[39m convert_recursive(is_xp_array, \u001B[38;5;28mself\u001B[39m\u001B[38;5;241m.\u001B[39mops\u001B[38;5;241m.\u001B[39masarray, msg)\n\u001B[0;32m--> 638\u001B[0m \u001B[38;5;28;01mreturn\u001B[39;00m \u001B[38;5;28;43mself\u001B[39;49m\u001B[38;5;241;43m.\u001B[39;49m\u001B[43mfrom_dict\u001B[49m\u001B[43m(\u001B[49m\u001B[43mmsg\u001B[49m\u001B[43m)\u001B[49m\n",
      "File \u001B[0;32m~/PycharmProjects/information-retrieval-Inno2024/.venv/lib64/python3.12/site-packages/thinc/model.py:669\u001B[0m, in \u001B[0;36mModel.from_dict\u001B[0;34m(self, msg)\u001B[0m\n\u001B[1;32m    667\u001B[0m \u001B[38;5;28;01mfor\u001B[39;00m attr, value \u001B[38;5;129;01min\u001B[39;00m msg[\u001B[38;5;124m\"\u001B[39m\u001B[38;5;124mattrs\u001B[39m\u001B[38;5;124m\"\u001B[39m][i]\u001B[38;5;241m.\u001B[39mitems():\n\u001B[1;32m    668\u001B[0m     default_value \u001B[38;5;241m=\u001B[39m node\u001B[38;5;241m.\u001B[39mattrs\u001B[38;5;241m.\u001B[39mget(attr)\n\u001B[0;32m--> 669\u001B[0m     loaded_value \u001B[38;5;241m=\u001B[39m \u001B[43mdeserialize_attr\u001B[49m\u001B[43m(\u001B[49m\u001B[43mdefault_value\u001B[49m\u001B[43m,\u001B[49m\u001B[43m \u001B[49m\u001B[43mvalue\u001B[49m\u001B[43m,\u001B[49m\u001B[43m \u001B[49m\u001B[43mattr\u001B[49m\u001B[43m,\u001B[49m\u001B[43m \u001B[49m\u001B[43mnode\u001B[49m\u001B[43m)\u001B[49m\n\u001B[1;32m    670\u001B[0m     node\u001B[38;5;241m.\u001B[39mattrs[attr] \u001B[38;5;241m=\u001B[39m loaded_value\n\u001B[1;32m    671\u001B[0m \u001B[38;5;28;01mfor\u001B[39;00m param_name, value \u001B[38;5;129;01min\u001B[39;00m msg[\u001B[38;5;124m\"\u001B[39m\u001B[38;5;124mparams\u001B[39m\u001B[38;5;124m\"\u001B[39m][i]\u001B[38;5;241m.\u001B[39mitems():\n",
      "File \u001B[0;32m/usr/lib64/python3.12/functools.py:907\u001B[0m, in \u001B[0;36msingledispatch.<locals>.wrapper\u001B[0;34m(*args, **kw)\u001B[0m\n\u001B[1;32m    903\u001B[0m \u001B[38;5;28;01mif\u001B[39;00m \u001B[38;5;129;01mnot\u001B[39;00m args:\n\u001B[1;32m    904\u001B[0m     \u001B[38;5;28;01mraise\u001B[39;00m \u001B[38;5;167;01mTypeError\u001B[39;00m(\u001B[38;5;124mf\u001B[39m\u001B[38;5;124m'\u001B[39m\u001B[38;5;132;01m{\u001B[39;00mfuncname\u001B[38;5;132;01m}\u001B[39;00m\u001B[38;5;124m requires at least \u001B[39m\u001B[38;5;124m'\u001B[39m\n\u001B[1;32m    905\u001B[0m                     \u001B[38;5;124m'\u001B[39m\u001B[38;5;124m1 positional argument\u001B[39m\u001B[38;5;124m'\u001B[39m)\n\u001B[0;32m--> 907\u001B[0m \u001B[38;5;28;01mreturn\u001B[39;00m \u001B[43mdispatch\u001B[49m\u001B[43m(\u001B[49m\u001B[43margs\u001B[49m\u001B[43m[\u001B[49m\u001B[38;5;241;43m0\u001B[39;49m\u001B[43m]\u001B[49m\u001B[38;5;241;43m.\u001B[39;49m\u001B[38;5;18;43m__class__\u001B[39;49m\u001B[43m)\u001B[49m\u001B[43m(\u001B[49m\u001B[38;5;241;43m*\u001B[39;49m\u001B[43margs\u001B[49m\u001B[43m,\u001B[49m\u001B[43m \u001B[49m\u001B[38;5;241;43m*\u001B[39;49m\u001B[38;5;241;43m*\u001B[39;49m\u001B[43mkw\u001B[49m\u001B[43m)\u001B[49m\n",
      "File \u001B[0;32m~/PycharmProjects/information-retrieval-Inno2024/.venv/lib64/python3.12/site-packages/thinc/model.py:849\u001B[0m, in \u001B[0;36mdeserialize_attr\u001B[0;34m(_, value, name, model)\u001B[0m\n\u001B[1;32m    843\u001B[0m \u001B[38;5;129m@functools\u001B[39m\u001B[38;5;241m.\u001B[39msingledispatch\n\u001B[1;32m    844\u001B[0m \u001B[38;5;28;01mdef\u001B[39;00m \u001B[38;5;21mdeserialize_attr\u001B[39m(_: Any, value: Any, name: \u001B[38;5;28mstr\u001B[39m, model: Model) \u001B[38;5;241m-\u001B[39m\u001B[38;5;241m>\u001B[39m Any:\n\u001B[1;32m    845\u001B[0m \u001B[38;5;250m    \u001B[39m\u001B[38;5;124;03m\"\"\"Deserialize an attribute value (defaults to msgpack). You can register\u001B[39;00m\n\u001B[1;32m    846\u001B[0m \u001B[38;5;124;03m    custom deserializers using the @deserialize_attr.register decorator with the\u001B[39;00m\n\u001B[1;32m    847\u001B[0m \u001B[38;5;124;03m    type to deserialize, e.g.: @deserialize_attr.register(MyCustomObject).\u001B[39;00m\n\u001B[1;32m    848\u001B[0m \u001B[38;5;124;03m    \"\"\"\u001B[39;00m\n\u001B[0;32m--> 849\u001B[0m     \u001B[38;5;28;01mreturn\u001B[39;00m \u001B[43msrsly\u001B[49m\u001B[38;5;241;43m.\u001B[39;49m\u001B[43mmsgpack_loads\u001B[49m\u001B[43m(\u001B[49m\u001B[43mvalue\u001B[49m\u001B[43m)\u001B[49m\n",
      "File \u001B[0;32m~/PycharmProjects/information-retrieval-Inno2024/.venv/lib64/python3.12/site-packages/srsly/_msgpack_api.py:27\u001B[0m, in \u001B[0;36mmsgpack_loads\u001B[0;34m(data, use_list)\u001B[0m\n\u001B[1;32m     25\u001B[0m \u001B[38;5;66;03m# msgpack-python docs suggest disabling gc before unpacking large messages\u001B[39;00m\n\u001B[1;32m     26\u001B[0m gc\u001B[38;5;241m.\u001B[39mdisable()\n\u001B[0;32m---> 27\u001B[0m msg \u001B[38;5;241m=\u001B[39m \u001B[43mmsgpack\u001B[49m\u001B[38;5;241;43m.\u001B[39;49m\u001B[43mloads\u001B[49m\u001B[43m(\u001B[49m\u001B[43mdata\u001B[49m\u001B[43m,\u001B[49m\u001B[43m \u001B[49m\u001B[43mraw\u001B[49m\u001B[38;5;241;43m=\u001B[39;49m\u001B[38;5;28;43;01mFalse\u001B[39;49;00m\u001B[43m,\u001B[49m\u001B[43m \u001B[49m\u001B[43muse_list\u001B[49m\u001B[38;5;241;43m=\u001B[39;49m\u001B[43muse_list\u001B[49m\u001B[43m)\u001B[49m\n\u001B[1;32m     28\u001B[0m gc\u001B[38;5;241m.\u001B[39menable()\n\u001B[1;32m     29\u001B[0m \u001B[38;5;28;01mreturn\u001B[39;00m msg\n",
      "File \u001B[0;32m~/PycharmProjects/information-retrieval-Inno2024/.venv/lib64/python3.12/site-packages/srsly/msgpack/__init__.py:76\u001B[0m, in \u001B[0;36munpackb\u001B[0;34m(packed, **kwargs)\u001B[0m\n\u001B[1;32m     74\u001B[0m \u001B[38;5;28;01mif\u001B[39;00m \u001B[38;5;124m\"\u001B[39m\u001B[38;5;124mobject_pairs_hook\u001B[39m\u001B[38;5;124m\"\u001B[39m \u001B[38;5;129;01mnot\u001B[39;00m \u001B[38;5;129;01min\u001B[39;00m kwargs:\n\u001B[1;32m     75\u001B[0m     object_hook \u001B[38;5;241m=\u001B[39m kwargs\u001B[38;5;241m.\u001B[39mget(\u001B[38;5;124m\"\u001B[39m\u001B[38;5;124mobject_hook\u001B[39m\u001B[38;5;124m\"\u001B[39m)\n\u001B[0;32m---> 76\u001B[0m     \u001B[38;5;28;01mfor\u001B[39;00m decoder \u001B[38;5;129;01min\u001B[39;00m \u001B[43mmsgpack_decoders\u001B[49m\u001B[38;5;241;43m.\u001B[39;49m\u001B[43mget_all\u001B[49m\u001B[43m(\u001B[49m\u001B[43m)\u001B[49m\u001B[38;5;241m.\u001B[39mvalues():\n\u001B[1;32m     77\u001B[0m         object_hook \u001B[38;5;241m=\u001B[39m functools\u001B[38;5;241m.\u001B[39mpartial(decoder, chain\u001B[38;5;241m=\u001B[39mobject_hook)\n\u001B[1;32m     78\u001B[0m     kwargs[\u001B[38;5;124m\"\u001B[39m\u001B[38;5;124mobject_hook\u001B[39m\u001B[38;5;124m\"\u001B[39m] \u001B[38;5;241m=\u001B[39m object_hook\n",
      "File \u001B[0;32m~/PycharmProjects/information-retrieval-Inno2024/.venv/lib64/python3.12/site-packages/catalogue/__init__.py:110\u001B[0m, in \u001B[0;36mRegistry.get_all\u001B[0;34m(self)\u001B[0m\n\u001B[1;32m    108\u001B[0m result \u001B[38;5;241m=\u001B[39m {}\n\u001B[1;32m    109\u001B[0m \u001B[38;5;28;01mif\u001B[39;00m \u001B[38;5;28mself\u001B[39m\u001B[38;5;241m.\u001B[39mentry_points:\n\u001B[0;32m--> 110\u001B[0m     result\u001B[38;5;241m.\u001B[39mupdate(\u001B[38;5;28;43mself\u001B[39;49m\u001B[38;5;241;43m.\u001B[39;49m\u001B[43mget_entry_points\u001B[49m\u001B[43m(\u001B[49m\u001B[43m)\u001B[49m)\n\u001B[1;32m    111\u001B[0m \u001B[38;5;28;01mfor\u001B[39;00m keys, value \u001B[38;5;129;01min\u001B[39;00m REGISTRY\u001B[38;5;241m.\u001B[39mcopy()\u001B[38;5;241m.\u001B[39mitems():\n\u001B[1;32m    112\u001B[0m     \u001B[38;5;28;01mif\u001B[39;00m \u001B[38;5;28mlen\u001B[39m(\u001B[38;5;28mself\u001B[39m\u001B[38;5;241m.\u001B[39mnamespace) \u001B[38;5;241m==\u001B[39m \u001B[38;5;28mlen\u001B[39m(keys) \u001B[38;5;241m-\u001B[39m \u001B[38;5;241m1\u001B[39m \u001B[38;5;129;01mand\u001B[39;00m \u001B[38;5;28mall\u001B[39m(\n\u001B[1;32m    113\u001B[0m         \u001B[38;5;28mself\u001B[39m\u001B[38;5;241m.\u001B[39mnamespace[i] \u001B[38;5;241m==\u001B[39m keys[i] \u001B[38;5;28;01mfor\u001B[39;00m i \u001B[38;5;129;01min\u001B[39;00m \u001B[38;5;28mrange\u001B[39m(\u001B[38;5;28mlen\u001B[39m(\u001B[38;5;28mself\u001B[39m\u001B[38;5;241m.\u001B[39mnamespace))\n\u001B[1;32m    114\u001B[0m     ):\n",
      "File \u001B[0;32m~/PycharmProjects/information-retrieval-Inno2024/.venv/lib64/python3.12/site-packages/catalogue/__init__.py:124\u001B[0m, in \u001B[0;36mRegistry.get_entry_points\u001B[0;34m(self)\u001B[0m\n\u001B[1;32m    119\u001B[0m \u001B[38;5;250m\u001B[39m\u001B[38;5;124;03m\"\"\"Get registered entry points from other packages for this namespace.\u001B[39;00m\n\u001B[1;32m    120\u001B[0m \n\u001B[1;32m    121\u001B[0m \u001B[38;5;124;03mRETURNS (Dict[str, Any]): Entry points, keyed by name.\u001B[39;00m\n\u001B[1;32m    122\u001B[0m \u001B[38;5;124;03m\"\"\"\u001B[39;00m\n\u001B[1;32m    123\u001B[0m result \u001B[38;5;241m=\u001B[39m {}\n\u001B[0;32m--> 124\u001B[0m \u001B[38;5;28;01mfor\u001B[39;00m entry_point \u001B[38;5;129;01min\u001B[39;00m \u001B[38;5;28;43mself\u001B[39;49m\u001B[38;5;241;43m.\u001B[39;49m\u001B[43m_get_entry_points\u001B[49m\u001B[43m(\u001B[49m\u001B[43m)\u001B[49m:\n\u001B[1;32m    125\u001B[0m     result[entry_point\u001B[38;5;241m.\u001B[39mname] \u001B[38;5;241m=\u001B[39m entry_point\u001B[38;5;241m.\u001B[39mload()\n\u001B[1;32m    126\u001B[0m \u001B[38;5;28;01mreturn\u001B[39;00m result\n",
      "File \u001B[0;32m~/PycharmProjects/information-retrieval-Inno2024/.venv/lib64/python3.12/site-packages/catalogue/__init__.py:143\u001B[0m, in \u001B[0;36mRegistry._get_entry_points\u001B[0;34m(self)\u001B[0m\n\u001B[1;32m    141\u001B[0m \u001B[38;5;28;01mdef\u001B[39;00m \u001B[38;5;21m_get_entry_points\u001B[39m(\u001B[38;5;28mself\u001B[39m) \u001B[38;5;241m-\u001B[39m\u001B[38;5;241m>\u001B[39m List[importlib_metadata\u001B[38;5;241m.\u001B[39mEntryPoint]:\n\u001B[1;32m    142\u001B[0m     \u001B[38;5;28;01mif\u001B[39;00m \u001B[38;5;28mhasattr\u001B[39m(AVAILABLE_ENTRY_POINTS, \u001B[38;5;124m\"\u001B[39m\u001B[38;5;124mselect\u001B[39m\u001B[38;5;124m\"\u001B[39m):\n\u001B[0;32m--> 143\u001B[0m         \u001B[38;5;28;01mreturn\u001B[39;00m \u001B[43mAVAILABLE_ENTRY_POINTS\u001B[49m\u001B[38;5;241;43m.\u001B[39;49m\u001B[43mselect\u001B[49m\u001B[43m(\u001B[49m\u001B[43mgroup\u001B[49m\u001B[38;5;241;43m=\u001B[39;49m\u001B[38;5;28;43mself\u001B[39;49m\u001B[38;5;241;43m.\u001B[39;49m\u001B[43mentry_point_namespace\u001B[49m\u001B[43m)\u001B[49m\n\u001B[1;32m    144\u001B[0m     \u001B[38;5;28;01melse\u001B[39;00m:  \u001B[38;5;66;03m# dict\u001B[39;00m\n\u001B[1;32m    145\u001B[0m         \u001B[38;5;28;01mreturn\u001B[39;00m AVAILABLE_ENTRY_POINTS\u001B[38;5;241m.\u001B[39mget(\u001B[38;5;28mself\u001B[39m\u001B[38;5;241m.\u001B[39mentry_point_namespace, [])\n",
      "File \u001B[0;32m/usr/lib64/python3.12/importlib/metadata/__init__.py:294\u001B[0m, in \u001B[0;36mEntryPoints.select\u001B[0;34m(self, **params)\u001B[0m\n\u001B[1;32m    289\u001B[0m \u001B[38;5;28;01mdef\u001B[39;00m \u001B[38;5;21mselect\u001B[39m(\u001B[38;5;28mself\u001B[39m, \u001B[38;5;241m*\u001B[39m\u001B[38;5;241m*\u001B[39mparams):\n\u001B[1;32m    290\u001B[0m \u001B[38;5;250m    \u001B[39m\u001B[38;5;124;03m\"\"\"\u001B[39;00m\n\u001B[1;32m    291\u001B[0m \u001B[38;5;124;03m    Select entry points from self that match the\u001B[39;00m\n\u001B[1;32m    292\u001B[0m \u001B[38;5;124;03m    given parameters (typically group and/or name).\u001B[39;00m\n\u001B[1;32m    293\u001B[0m \u001B[38;5;124;03m    \"\"\"\u001B[39;00m\n\u001B[0;32m--> 294\u001B[0m     \u001B[38;5;28;01mreturn\u001B[39;00m \u001B[43mEntryPoints\u001B[49m\u001B[43m(\u001B[49m\u001B[43mep\u001B[49m\u001B[43m \u001B[49m\u001B[38;5;28;43;01mfor\u001B[39;49;00m\u001B[43m \u001B[49m\u001B[43mep\u001B[49m\u001B[43m \u001B[49m\u001B[38;5;129;43;01min\u001B[39;49;00m\u001B[43m \u001B[49m\u001B[38;5;28;43mself\u001B[39;49m\u001B[43m \u001B[49m\u001B[38;5;28;43;01mif\u001B[39;49;00m\u001B[43m \u001B[49m\u001B[43mep\u001B[49m\u001B[38;5;241;43m.\u001B[39;49m\u001B[43mmatches\u001B[49m\u001B[43m(\u001B[49m\u001B[38;5;241;43m*\u001B[39;49m\u001B[38;5;241;43m*\u001B[39;49m\u001B[43mparams\u001B[49m\u001B[43m)\u001B[49m\u001B[43m)\u001B[49m\n",
      "File \u001B[0;32m/usr/lib64/python3.12/importlib/metadata/__init__.py:294\u001B[0m, in \u001B[0;36m<genexpr>\u001B[0;34m(.0)\u001B[0m\n\u001B[1;32m    289\u001B[0m \u001B[38;5;28;01mdef\u001B[39;00m \u001B[38;5;21mselect\u001B[39m(\u001B[38;5;28mself\u001B[39m, \u001B[38;5;241m*\u001B[39m\u001B[38;5;241m*\u001B[39mparams):\n\u001B[1;32m    290\u001B[0m \u001B[38;5;250m    \u001B[39m\u001B[38;5;124;03m\"\"\"\u001B[39;00m\n\u001B[1;32m    291\u001B[0m \u001B[38;5;124;03m    Select entry points from self that match the\u001B[39;00m\n\u001B[1;32m    292\u001B[0m \u001B[38;5;124;03m    given parameters (typically group and/or name).\u001B[39;00m\n\u001B[1;32m    293\u001B[0m \u001B[38;5;124;03m    \"\"\"\u001B[39;00m\n\u001B[0;32m--> 294\u001B[0m     \u001B[38;5;28;01mreturn\u001B[39;00m EntryPoints(ep \u001B[38;5;28;01mfor\u001B[39;00m ep \u001B[38;5;129;01min\u001B[39;00m \u001B[38;5;28mself\u001B[39m \u001B[38;5;28;01mif\u001B[39;00m \u001B[43mep\u001B[49m\u001B[38;5;241;43m.\u001B[39;49m\u001B[43mmatches\u001B[49m\u001B[43m(\u001B[49m\u001B[38;5;241;43m*\u001B[39;49m\u001B[38;5;241;43m*\u001B[39;49m\u001B[43mparams\u001B[49m\u001B[43m)\u001B[49m)\n",
      "\u001B[0;31mKeyboardInterrupt\u001B[0m: "
     ]
    }
   ],
   "execution_count": 79
  },
  {
   "cell_type": "code",
   "execution_count": 29,
   "metadata": {},
   "outputs": [],
   "source": [
    "assert sent_vecs.shape[0] == len(facts)"
   ]
  },
  {
   "cell_type": "markdown",
   "metadata": {},
   "source": [
    "## 1.5. [10] Find closest\n",
    "\n",
    "Now find 5 facts which are closest to the query using cosine similarity measure."
   ]
  },
  {
   "metadata": {},
   "cell_type": "code",
   "outputs": [],
   "execution_count": null,
   "source": [
    "#TODO output closest facts to the query\n",
    "query = \"good mood\"\n",
    "q_embed = embed(query)\n",
    "\n",
    "sims = [(cosine(q_embed, e), i) for i,e in enumerate(sent_vecs)]\n",
    "\n",
    "sims = sorted(sims, key=lambda x: x[0], reverse=True)[:5]\n",
    "\n",
    "print(\"Results for query:\", query)\n",
    "for k in sims:\n",
    "    print(\"\\t\", facts[k])\n"
   ]
  },
  {
   "cell_type": "code",
   "execution_count": 31,
   "metadata": {},
   "outputs": [
    {
     "name": "stdout",
     "output_type": "stream",
     "text": [
      "Results for query: good mood\n",
      "\t 67. The chance of you dying on the way to get lottery tickets is actually greater than your chance of winning.\n",
      "\t 84. You are 1% shorter in the evening than in the morning\n",
      "\t 57. Gorillas burp when they are happy\n",
      "\t 116. Male dogs lift their legs when they are urinating for a reason. They are trying to leave their mark higher so that it gives off the message that they are tall and intimidating.\n",
      "\t 10. If you believe that you're truly one in a million, there are still approximately 7,184 more people out there just like you.\n",
      "\t 60. It is considered good luck in Japan when a sumo wrestler makes your baby cry.\n"
     ]
    }
   ],
   "source": ""
  },
  {
   "cell_type": "markdown",
   "metadata": {},
   "source": [
    "## 1.6. [10] Recommend 5 facts to each of the queries for the following query bucket\n",
    "```\n",
    "good mood\n",
    "gorilla\n",
    "woman\n",
    "earth\n",
    "japan\n",
    "people\n",
    "math\n",
    "```\n",
    "\n",
    "Recommend 5 facts to each of the queries. Write your code below."
   ]
  },
  {
   "cell_type": "code",
   "execution_count": 37,
   "metadata": {},
   "outputs": [
    {
     "name": "stdout",
     "output_type": "stream",
     "text": [
      "good mood\n",
      "\t 60. It is considered good luck in Japan when a sumo wrestler makes your baby cry.\n",
      "\t 10. If you believe that you're truly one in a million, there are still approximately 7,184 more people out there just like you.\n",
      "\t 116. Male dogs lift their legs when they are urinating for a reason. They are trying to leave their mark higher so that it gives off the message that they are tall and intimidating.\n",
      "\t 57. Gorillas burp when they are happy\n",
      "\t 84. You are 1% shorter in the evening than in the morning\n",
      "gorilla\n",
      "\t 106. The male ostrich can roar just like a lion.\n",
      "\t 85. The elephant is the only mammal that can't jump!\n",
      "\t 107. Mountain lions can whistle.\n",
      "\t 57. Gorillas burp when they are happy\n",
      "\t 139. Beetles taste like apples, wasps like pine nuts, and worms like fried bacon.\n",
      "woman\n",
      "\t 131. If a pregnant woman has organ damage, the baby in her womb sends stem cells to help repair the organ.\n",
      "\t 65. A Swedish woman lost her wedding ring, and found it 16 years later- growing on a carrot in her garden.\n",
      "\t 106. The male ostrich can roar just like a lion.\n",
      "\t 88. Earth is the only planet that is not named after a god.\n",
      "\t 146. In France, it is legal to marry a dead person.\n",
      "earth\n",
      "\t 88. Earth is the only planet that is not named after a god.\n",
      "\t 6. There are more lifeforms living on your skin than there are people on the planet.\n",
      "\t 126. Saturn's density is low enough that the planet would float in water.\n",
      "\t 153. For every human on Earth there are 1.6 million ants.\n",
      "\t 155. On Jupiter and Saturn it rains diamonds.\n",
      "japan\n",
      "\t 60. It is considered good luck in Japan when a sumo wrestler makes your baby cry.\n",
      "\t 17. Coca-Cola would be green if coloring wasn't added to it.\n",
      "\t 66. Donald duck comics were banned from Finland because he doesn't wear pants.\n",
      "\t 77. More than 60,000 people are flying over the United States in an airplane right now.\n",
      "\t 64. In Japan, crooked teeth are considered cute and attractive.\n",
      "people\n",
      "\t 34. 95% of people text things they could never say in person.\n",
      "\t 6. There are more lifeforms living on your skin than there are people on the planet.\n",
      "\t 109. Cows kill more people than sharks do.\n",
      "\t 10. If you believe that you're truly one in a million, there are still approximately 7,184 more people out there just like you.\n",
      "\t 87. If 33 million people held hands, they could make it all the way around the equator.\n",
      "math\n",
      "\t 97. 111,111,111 X 111,111,111 = 12,345,678,987,654,321\n",
      "\t 119. Dogs are capable of understanding up to 250 words and gestures and have demonstrated the ability to do simple mathematical calculations.\n",
      "\t 5. You burn more calories sleeping than you do watching television.\n",
      "\t 48. Chewing gum burns about 11 calories per hour.\n",
      "\t 34. 95% of people text things they could never say in person.\n"
     ]
    }
   ],
   "source": [
    "# write your code or computations here"
   ]
  },
  {
   "cell_type": "markdown",
   "metadata": {},
   "source": [
    "## 1.7. [BONUS] Write your own relevance assessments and compute DCG@5"
   ]
  },
  {
   "cell_type": "code",
   "execution_count": 24,
   "metadata": {},
   "outputs": [],
   "source": [
    "#TODO add assesment\n",
    "assessment = []\n",
    "\n",
    "\n",
    "def dcg(rels):\n",
    "    #TODO compute DCG@5\n",
    "    return res\n",
    "\n",
    "\n",
    "sum([dcg(row) for row in assessment]) / len(assessment)"
   ]
  }
 ],
 "metadata": {
  "kernelspec": {
   "display_name": "Python 3",
   "language": "python",
   "name": "python3"
  },
  "language_info": {
   "codemirror_mode": {
    "name": "ipython",
    "version": 3
   },
   "file_extension": ".py",
   "mimetype": "text/x-python",
   "name": "python",
   "nbconvert_exporter": "python",
   "pygments_lexer": "ipython3",
   "version": "3.9.1"
  }
 },
 "nbformat": 4,
 "nbformat_minor": 4
}
