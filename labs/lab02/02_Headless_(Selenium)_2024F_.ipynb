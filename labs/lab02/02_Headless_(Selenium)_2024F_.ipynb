{
 "cells": [
  {
   "cell_type": "markdown",
   "id": "24d56d6d",
   "metadata": {
    "id": "24d56d6d"
   },
   "source": [
    "# Ozon crawling!\n",
    "\n",
    "In this task we will crawl https://www.ozon.com/ website!\n",
    "\n",
    "**NB:** This lab is designed to be executed **locally** at your laptop, as it launches local application (browser). Indeed, headless mode can be used in colab, but this would also require specific browser installation steps. Thus, please use Anaconda."
   ]
  },
  {
   "cell_type": "markdown",
   "id": "0a1a041b",
   "metadata": {
    "id": "0a1a041b"
   },
   "source": [
    "## Dependency installation\n",
    "\n",
    "Let's try to load and parse the page the way we did before:"
   ]
  },
  {
   "cell_type": "code",
   "execution_count": 18,
   "id": "19e77ae4",
   "metadata": {
    "id": "19e77ae4",
    "outputId": "a879bc02-f1a3-4c9a-c340-87edebfd039e",
    "tags": []
   },
   "outputs": [
    {
     "name": "stdout",
     "output_type": "stream",
     "text": [
      "Status: 403\n"
     ]
    }
   ],
   "source": [
    "import requests\n",
    "from bs4 import BeautifulSoup\n",
    "resp = requests.get(\"https://www.ozon.ru/category/smartfony-15502/\")\n",
    "print(\"Status:\", resp.status_code)"
   ]
  },
  {
   "cell_type": "markdown",
   "id": "b7ccd713",
   "metadata": {
    "id": "b7ccd713"
   },
   "source": [
    "Wowowow! https://developer.mozilla.org/en-US/docs/Web/HTTP/Status/403\n",
    "```\n",
    "403 Forbidden – you don't have permission to access this resource is an HTTP status code that occurs when the web server understands the request but can't provide additional access. :\n",
    "```\n",
    "\n",
    "As we see, the output is not what we would expect. So, what can we do when a page is not being loaded right away, but is rather rendered by a script, and only in a valid browser? Browser engines can help us getting the data. Let's try to load the same web page, but do it in a different way: let's give a browser some time to load the scripts and run them. And then we will work with DOM (Document Object Model), but we will obtain this DOM from the browser engine itself, not via `BeautifulSoup`.\n",
    "\n",
    "Where do we get browser engine from? Simply installing a browser will do the thing. How do we send commands to it from the code, and retrieve the DOM? Service applications called `drivers` will interpret commands and translate them into browser actions.\n",
    "\n",
    "For each supported browser engine you will need to:\n",
    "1. install browser itself;\n",
    "2. download 'driver' - binary executable, which passed commands from selenium to browser. E.g. [Gecko = Firefox](https://github.com/mozilla/geckodriver/releases), [ChromeDriver](http://chromedriver.storage.googleapis.com/index.html);\n",
    "3. unpack driver into a folder under PATH environment variable. Or specify exact binary location when you write the code.\n",
    "\n",
    "### Download driver\n",
    "\n",
    "And place it in any folder or under PATH env. variable. [Firefox](https://github.com/mozilla/geckodriver/releases), [Chrome](http://chromedriver.storage.googleapis.com/index.html)\n",
    "\n",
    "**FireFox** is recommended for this lab\n",
    "\n",
    "### Install selenium\n",
    "\n",
    "Selenium is a powerful tool for automated UI testing. We will use it to emulate used actions with the website."
   ]
  },
  {
   "cell_type": "code",
   "execution_count": 1,
   "id": "4eea7c08-b96c-4a1b-8901-71e8e1e692a0",
   "metadata": {},
   "outputs": [
    {
     "name": "stdout",
     "output_type": "stream",
     "text": [
      "Defaulting to user installation because normal site-packages is not writeable\n",
      "Requirement already satisfied: selenium in /home/kamil/.local/lib/python3.10/site-packages (4.24.0)\n",
      "Requirement already satisfied: certifi>=2021.10.8 in /home/kamil/.local/lib/python3.10/site-packages (from selenium) (2024.8.30)\n",
      "Requirement already satisfied: trio~=0.17 in /home/kamil/.local/lib/python3.10/site-packages (from selenium) (0.26.2)\n",
      "Requirement already satisfied: websocket-client~=1.8 in /home/kamil/.local/lib/python3.10/site-packages (from selenium) (1.8.0)\n",
      "Requirement already satisfied: typing_extensions~=4.9 in /home/kamil/.local/lib/python3.10/site-packages (from selenium) (4.12.2)\n",
      "Requirement already satisfied: trio-websocket~=0.9 in /home/kamil/.local/lib/python3.10/site-packages (from selenium) (0.11.1)\n",
      "Requirement already satisfied: urllib3[socks]<3,>=1.26 in /usr/lib/python3/dist-packages (from selenium) (1.26.5)\n",
      "Requirement already satisfied: idna in /usr/lib/python3/dist-packages (from trio~=0.17->selenium) (3.3)\n",
      "Requirement already satisfied: sniffio>=1.3.0 in /home/kamil/.local/lib/python3.10/site-packages (from trio~=0.17->selenium) (1.3.1)\n",
      "Requirement already satisfied: attrs>=23.2.0 in /home/kamil/.local/lib/python3.10/site-packages (from trio~=0.17->selenium) (24.2.0)\n",
      "Requirement already satisfied: exceptiongroup in /home/kamil/.local/lib/python3.10/site-packages (from trio~=0.17->selenium) (1.2.2)\n",
      "Requirement already satisfied: sortedcontainers in /home/kamil/.local/lib/python3.10/site-packages (from trio~=0.17->selenium) (2.4.0)\n",
      "Requirement already satisfied: outcome in /home/kamil/.local/lib/python3.10/site-packages (from trio~=0.17->selenium) (1.3.0.post0)\n",
      "Requirement already satisfied: wsproto>=0.14 in /home/kamil/.local/lib/python3.10/site-packages (from trio-websocket~=0.9->selenium) (1.2.0)\n",
      "Requirement already satisfied: PySocks!=1.5.7,<2.0,>=1.5.6 in /home/kamil/.local/lib/python3.10/site-packages (from urllib3[socks]<3,>=1.26->selenium) (1.7.1)\n",
      "Requirement already satisfied: h11<1,>=0.9.0 in /home/kamil/.local/lib/python3.10/site-packages (from wsproto>=0.14->trio-websocket~=0.9->selenium) (0.14.0)\n"
     ]
    }
   ],
   "source": [
    "!pip install -U selenium"
   ]
  },
  {
   "cell_type": "markdown",
   "id": "87e50248-573f-4cde-8f53-0ba662d3fa99",
   "metadata": {},
   "source": [
    "Check it works"
   ]
  },
  {
   "cell_type": "code",
   "execution_count": 7,
   "id": "fcfb22dd-fbd2-4ca7-a23c-83b01cbb7020",
   "metadata": {},
   "outputs": [],
   "source": [
    "from selenium import webdriver"
   ]
  },
  {
   "cell_type": "markdown",
   "id": "d7ec84bc-ad3a-42f1-aaa1-078b051d967c",
   "metadata": {},
   "source": [
    "### Launch browser\n",
    "This will open a browser window"
   ]
  },
  {
   "cell_type": "code",
   "execution_count": 21,
   "id": "6521014f-0e0e-4de1-b6f3-3cf75f63e7fc",
   "metadata": {},
   "outputs": [],
   "source": [
    "browser = webdriver.Chrome()\n",
    "# browser = webdriver.Chrome()  # Make sure you have the ChromeDriver installed and in your PATH\n",
    "# or explicitly\n",
    "# browser = webdriver.Firefox(\n",
    "#     executable_path='C:/bin/geckodriver.exe', \n",
    "#     firefox_binary='C:/Program Files/Mozilla Firefox/firefox.exe'\n",
    "# )"
   ]
  },
  {
   "cell_type": "markdown",
   "id": "e09e3842",
   "metadata": {
    "id": "e09e3842"
   },
   "source": [
    "### Download the page ... again"
   ]
  },
  {
   "cell_type": "code",
   "execution_count": 22,
   "id": "b594e5be",
   "metadata": {
    "id": "b594e5be",
    "tags": []
   },
   "outputs": [],
   "source": [
    "from selenium.webdriver.common.by import By\n",
    "\n",
    "browser.get(\"https://www.ozon.ru/category/smartfony-15502/\")\n",
    "browser.implicitly_wait(5)  # wait for 10 seconds\n",
    "# element = browser.find_element_by_id(\"button\")\n",
    "# element.click()\n",
    "button = browser.find_element(By.ID, 'reload-button')  # Replace 'button-id' with the actual ID of the button\n",
    "\n",
    "# Click the button\n",
    "button.click()"
   ]
  },
  {
   "cell_type": "markdown",
   "id": "a738807e-8fca-4204-94da-79cb4f17e7d1",
   "metadata": {},
   "source": [
    "Now we have a browser that has downloaded the page for us!\n",
    "\n",
    "\n",
    "We want to know the price and the review score for some products (phone).\n",
    "First let's try selecting the elements that contains these phones."
   ]
  },
  {
   "cell_type": "code",
   "execution_count": 15,
   "id": "c8a9ef8f-6988-4aa6-b4cd-60e8a2b31976",
   "metadata": {},
   "outputs": [
    {
     "name": "stdout",
     "output_type": "stream",
     "text": [
      "No rating and review data is present\n",
      "6 999 ₽\n",
      "TechnoMiga Смартфон G24_ultra_черный_all Ростест (EAC) 2/32 ГБ, черный\n",
      "Rating:  4.9   Reviews:  1 581 отзыв\n",
      "9 699 ₽\n",
      "Tecno Смартфон Spark 20 8/128 ГБ, черный\n",
      "Rating:  4.9   Reviews:  627 отзывов\n",
      "14 029 ₽\n",
      "Tecno Смартфон TECNO POVA 6 Neo Speed Black Ростест (EAC) 8/128 ГБ, черный\n",
      "Rating:  4.9   Reviews:  37 201 отзыв\n",
      "7 469 ₽\n",
      "realme Смартфон Note 50 4/128 ГБ, голубой\n",
      "Rating:  4.8   Reviews:  2 046 отзывов\n",
      "7 646 ₽\n",
      "Xiaomi Смартфон Redmi A3 Global 4/128 ГБ, черный\n",
      "Rating:  4.9   Reviews:  9 550 отзывов\n",
      "11 340 ₽\n",
      "Infinix Смартфон Note 30i 8/256 ГБ, золотой\n",
      "Rating:  4.9   Reviews:  4 511 отзывов\n",
      "10 030 ₽\n",
      "Xiaomi Смартфон Redmi 13C 4/128 ГБ, синий\n",
      "Rating:  4.9   Reviews:  1 636 отзывов\n",
      "10 669 ₽\n",
      "Infinix Смартфон HOT 40i 8/256 ГБ, голубой\n",
      "Rating:  4.8   Reviews:  2 046 отзывов\n",
      "7 645 ₽\n",
      "Xiaomi Смартфон Redmi A3 Global 4/128 ГБ, голубой\n",
      "Rating:  4.9   Reviews:  2 347 отзывов\n",
      "10 799 ₽\n",
      "HUAWEI Смартфон nova Y91 8/128 ГБ, черный\n",
      "No rating and review data is present\n",
      "7 450 ₽\n",
      "GK Retail Смартфон SP2-10 Ростест (EAC) 16/1 ТБ, черный матовый\n",
      "No rating and review data is present\n",
      "22 417 ₽\n",
      "Tecno Смартфон POVA 6 Pro 5G Ростест (EAC) 12/256 ГБ, темно-зеленый\n",
      "Rating:  4.9   Reviews:  1 684 отзыва\n",
      "14 302 ₽\n",
      "Xiaomi Смартфон Redmi Note 13 8/128 ГБ, синий\n",
      "No rating and review data is present\n",
      "6 027 ₽\n",
      "Alex Galagurskiy Смартфон S24 Ultra Ростест (EAC) 16/1 ТБ, черный\n",
      "No rating and review data is present\n",
      "7 461 ₽\n",
      "ZUNYI Смартфон GT10 Plus, глобальная русская версия, сеть 4g, Android 14, две SIM-карты, 7,3 дюйма, подарок， ударопрочная и водонепроницаемая защита, мощные игровые функции, гибкая камера, длительное время автономной работы，Интерфейс Type-C Ростест (EAC) 8/256 ГБ, черный\n",
      "Rating:  5.0   Reviews:  20 отзывов\n",
      "48 510 ₽\n",
      "HUAWEI Смартфон Pura 70 12/256 ГБ, черный\n",
      "No rating and review data is present\n",
      "6 733 ₽\n",
      "ZUNYI Смартфон Note 12S Ростест (EAC) 6/256 ГБ, черный\n",
      "No rating and review data is present\n",
      "8 598 ₽\n",
      "ZUNYI Смартфон Note 30i，Note 13 Pro，X6 Neo，Смартфон русской версии，сеть 4g，6,8 дюйма，две SIM-карты，ударопрочная и водонепроницаемая защита，длительное время автономной работы，мощные игровые функции，большой HD экран，сенсорный телефон，быстрая зарядка，отличный подарок,используется для Ростест (EAC) 8/256 ГБ, белый\n",
      "Rating:  4.9   Reviews:  2 347 отзывов\n",
      "10 799 ₽\n",
      "HUAWEI Смартфон nova Y91 Ростест (EAC) 8/128 ГБ, серебристый\n",
      "No rating and review data is present\n",
      "7 012 ₽\n",
      "GK Retail Смартфон SP3-90 Ростест (EAC) 16/1 ТБ, черный матовый\n",
      "No rating and review data is present\n",
      "4 778 ₽\n",
      "ZUNYI Смартфон Note 30i Ростест (EAC) 3/64 ГБ, черный\n",
      "Rating:  4.9   Reviews:  436 отзывов\n",
      "18 720 ₽\n",
      "Tecno Смартфон Spark 20 Pro+ Ростест (EAC) 8/256 ГБ, черный матовый\n",
      "No rating and review data is present\n",
      "18 990 ₽\n",
      "Honor Смартфон X8b Ростест (EAC) 8/128 ГБ, зеленый\n",
      "No rating and review data is present\n",
      "8 361 ₽\n",
      "ZUNYI Смартфон Смартфон Note 12 S, Смартфон русской версии, сеть 4G, Двойная SIM-карта, 7,3 дюйма, ударопрочная и водонепроницаемая защита, мощные игровые функции, гибкая камера, длительное время работы от аккумулятора, используйте для развлечений, просмотра видео, Ростест (EAC) 6/128 ГБ, светло-серый, серебристый\n",
      "Rating:  4.9   Reviews:  108 отзывов\n",
      "14 549 ₽\n",
      "HUAWEI Смартфон nova 12i Ростест (EAC) 8/256 ГБ, зеленый\n",
      "No rating and review data is present\n",
      "5 185 ₽\n",
      "Tecno Смартфон POP 7+SIM-карта МегаФон 2/64 ГБ, черный\n",
      "No rating and review data is present\n",
      "14 774 ₽\n",
      "Tecno Смартфон POVA 6 Neo Ростест (EAC) 8/256 ГБ, черный\n",
      "Rating:  4.9   Reviews:  116 отзывов\n",
      "18 629 ₽\n",
      "Tecno Смартфон POVA 6 12/256 ГБ, серый\n",
      "No rating and review data is present\n",
      "9 379 ₽\n",
      "ZUNYI Смартфон Note 30i, глобальная русская версия, сеть 4g, две sim-карты и режим ожидания, 6,8 дюйма, HD-экран, бесплатный стилус, мощные игровые функции, гибкая камера, быстрая зарядка, используется для развлечений, офиса, дома, подарков, недорого, интерфейс Ростест (EAC) 8/256 ГБ, фиолетовый\n",
      "No rating and review data is present\n",
      "8 081 ₽\n",
      "Taplet Смартфон Смартфон S24 Ultra Dual SIM Dual Standby Ультра низкая цена Музыкальный мобильный телефон Игровой кинотеатр HP Большая память Большая батарея i13 pro max TAPLET Импортный чип Экстремальная работа Бренд мобильного телефо EU 12/512 ГБ Global 12/512 ГБ, светло-желтый\n",
      "No rating and review data is present\n",
      "20 243 ₽\n",
      "Tecno Смартфон CAMON 30 5G (8+256) Basaltic Dark Ростест (EAC) 8/256 ГБ, черный\n",
      "No rating and review data is present\n",
      "13 542 ₽\n",
      "Tecno Смартфон POVA 6 Neo Ростест (EAC) 8/128 ГБ, черный\n",
      "No rating and review data is present\n",
      "9 151 ₽\n",
      "SHOWJI Смартфон LLL@9S19 Pro-BK-01 Global 16/512 ГБ, черный матовый\n",
      "Rating:  4.8   Reviews:  437 отзывов\n",
      "8 540 ₽\n",
      "Samsung Смартфон Galaxy A05 4/64 ГБ, черный\n"
     ]
    }
   ],
   "source": [
    "browser.execute_script(\"window.scrollBy(0, document.body.scrollHeight);\")  # Scroll down by 400 pixels\n",
    "browser.implicitly_wait(3)  # wait for 3 seconds\n",
    "time.sleep(3)\n",
    "browser.execute_script(\"window.scrollBy(0, document.body.scrollHeight);\")  # Scroll down by 400 pixels\n",
    "\n",
    "# ToDo: Find the info for each phone\n",
    "\n",
    "elements = browser.find_elements(By.CSS_SELECTOR, '.j4n_23')\n",
    "\n",
    "# Loop through each element and find the nested <span> with class 'tsBody500Medium'\n"
   ]
  },
  {
   "cell_type": "markdown",
   "id": "e23d7303-2eed-45fd-872a-a924869de998",
   "metadata": {},
   "source": [
    "### Next task \n",
    "- Navigate through the second page in the list\n",
    "- Select the first product among retrieved products (navigate)\n",
    "- print information about the product (О товаре)"
   ]
  },
  {
   "cell_type": "code",
   "execution_count": 106,
   "id": "f3bc6e7e-21e8-433e-bf6c-1608b4b41114",
   "metadata": {},
   "outputs": [
    {
     "name": "stdout",
     "output_type": "stream",
     "text": [
      "Тип\n",
      "Смартфон\n",
      "Диагональ экрана, дюймы\n",
      "7.3\n",
      "Емкость аккумулятора, мАч\n",
      "5800\n",
      "Процессор\n",
      "Snapdragon 8 Gen2 (8 ядер), 3.2 ГГц\n",
      "Основной материал корпуса\n",
      "Металл, Стекло\n"
     ]
    }
   ],
   "source": [
    "# ToDo: Print information about first product in the second page"
   ]
  }
 ],
 "metadata": {
  "colab": {
   "provenance": []
  },
  "kernelspec": {
   "display_name": "Python 3 (ipykernel)",
   "language": "python",
   "name": "python3"
  },
  "language_info": {
   "codemirror_mode": {
    "name": "ipython",
    "version": 3
   },
   "file_extension": ".py",
   "mimetype": "text/x-python",
   "name": "python",
   "nbconvert_exporter": "python",
   "pygments_lexer": "ipython3",
   "version": "3.10.12"
  }
 },
 "nbformat": 4,
 "nbformat_minor": 5
}
