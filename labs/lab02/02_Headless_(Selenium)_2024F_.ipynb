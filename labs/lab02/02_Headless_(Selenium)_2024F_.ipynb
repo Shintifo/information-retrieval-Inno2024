{
 "cells": [
  {
   "cell_type": "markdown",
   "id": "24d56d6d",
   "metadata": {
    "id": "24d56d6d"
   },
   "source": [
    "# Ozon crawling!\n",
    "\n",
    "In this task we will crawl https://www.ozon.com/ website!\n",
    "\n",
    "**NB:** This lab is designed to be executed **locally** at your laptop, as it launches local application (browser). Indeed, headless mode can be used in colab, but this would also require specific browser installation steps. Thus, please use Anaconda."
   ]
  },
  {
   "cell_type": "markdown",
   "id": "0a1a041b",
   "metadata": {
    "id": "0a1a041b"
   },
   "source": [
    "## Dependency installation\n",
    "\n",
    "Let's try to load and parse the page the way we did before:"
   ]
  },
  {
   "cell_type": "code",
   "id": "19e77ae4",
   "metadata": {
    "id": "19e77ae4",
    "outputId": "a879bc02-f1a3-4c9a-c340-87edebfd039e",
    "tags": [],
    "ExecuteTime": {
     "end_time": "2024-09-03T11:46:46.513084Z",
     "start_time": "2024-09-03T11:46:46.293281Z"
    }
   },
   "source": [
    "import requests\n",
    "from bs4 import BeautifulSoup\n",
    "from selenium.common import NoSuchElementException\n",
    "\n",
    "resp = requests.get(\"https://www.ozon.ru/category/smartfony-15502/\")\n",
    "print(\"Status:\", resp.status_code)"
   ],
   "outputs": [
    {
     "name": "stdout",
     "output_type": "stream",
     "text": [
      "Status: 403\n"
     ]
    }
   ],
   "execution_count": 1
  },
  {
   "cell_type": "markdown",
   "id": "b7ccd713",
   "metadata": {
    "id": "b7ccd713"
   },
   "source": [
    "Wowowow! https://developer.mozilla.org/en-US/docs/Web/HTTP/Status/403\n",
    "```\n",
    "403 Forbidden – you don't have permission to access this resource is an HTTP status code that occurs when the web server understands the request but can't provide additional access. :\n",
    "```\n",
    "\n",
    "As we see, the output is not what we would expect. So, what can we do when a page is not being loaded right away, but is rather rendered by a script, and only in a valid browser? Browser engines can help us getting the data. Let's try to load the same web page, but do it in a different way: let's give a browser some time to load the scripts and run them. And then we will work with DOM (Document Object Model), but we will obtain this DOM from the browser engine itself, not via `BeautifulSoup`.\n",
    "\n",
    "Where do we get browser engine from? Simply installing a browser will do the thing. How do we send commands to it from the code, and retrieve the DOM? Service applications called `drivers` will interpret commands and translate them into browser actions.\n",
    "\n",
    "For each supported browser engine you will need to:\n",
    "1. install browser itself;\n",
    "2. download 'driver' - binary executable, which passed commands from selenium to browser. E.g. [Gecko = Firefox](https://github.com/mozilla/geckodriver/releases), [ChromeDriver](http://chromedriver.storage.googleapis.com/index.html);\n",
    "3. unpack driver into a folder under PATH environment variable. Or specify exact binary location when you write the code.\n",
    "\n",
    "### Download driver\n",
    "\n",
    "And place it in any folder or under PATH env. variable. [Firefox](https://github.com/mozilla/geckodriver/releases), [Chrome](http://chromedriver.storage.googleapis.com/index.html)\n",
    "\n",
    "**FireFox** is recommended for this lab\n",
    "\n",
    "### Install selenium\n",
    "\n",
    "Selenium is a powerful tool for automated UI testing. We will use it to emulate used actions with the website."
   ]
  },
  {
   "cell_type": "code",
   "execution_count": 9,
   "id": "4eea7c08-b96c-4a1b-8901-71e8e1e692a0",
   "metadata": {},
   "outputs": [
    {
     "name": "stdout",
     "output_type": "stream",
     "text": [
      "Requirement already satisfied: selenium in /Users/amirrezadarvishzadeh/miniconda3/lib/python3.11/site-packages (4.24.0)\n",
      "Requirement already satisfied: urllib3<3,>=1.26 in /Users/amirrezadarvishzadeh/miniconda3/lib/python3.11/site-packages (from urllib3[socks]<3,>=1.26->selenium) (1.26.18)\n",
      "Requirement already satisfied: trio~=0.17 in /Users/amirrezadarvishzadeh/miniconda3/lib/python3.11/site-packages (from selenium) (0.26.2)\n",
      "Requirement already satisfied: trio-websocket~=0.9 in /Users/amirrezadarvishzadeh/miniconda3/lib/python3.11/site-packages (from selenium) (0.11.1)\n",
      "Requirement already satisfied: certifi>=2021.10.8 in /Users/amirrezadarvishzadeh/miniconda3/lib/python3.11/site-packages (from selenium) (2023.11.17)\n",
      "Requirement already satisfied: typing_extensions~=4.9 in /Users/amirrezadarvishzadeh/miniconda3/lib/python3.11/site-packages (from selenium) (4.10.0)\n",
      "Requirement already satisfied: websocket-client~=1.8 in /Users/amirrezadarvishzadeh/miniconda3/lib/python3.11/site-packages (from selenium) (1.8.0)\n",
      "Requirement already satisfied: attrs>=23.2.0 in /Users/amirrezadarvishzadeh/miniconda3/lib/python3.11/site-packages (from trio~=0.17->selenium) (23.2.0)\n",
      "Requirement already satisfied: sortedcontainers in /Users/amirrezadarvishzadeh/miniconda3/lib/python3.11/site-packages (from trio~=0.17->selenium) (2.4.0)\n",
      "Requirement already satisfied: idna in /Users/amirrezadarvishzadeh/miniconda3/lib/python3.11/site-packages (from trio~=0.17->selenium) (3.4)\n",
      "Requirement already satisfied: outcome in /Users/amirrezadarvishzadeh/miniconda3/lib/python3.11/site-packages (from trio~=0.17->selenium) (1.3.0.post0)\n",
      "Requirement already satisfied: sniffio>=1.3.0 in /Users/amirrezadarvishzadeh/miniconda3/lib/python3.11/site-packages (from trio~=0.17->selenium) (1.3.1)\n",
      "Requirement already satisfied: wsproto>=0.14 in /Users/amirrezadarvishzadeh/miniconda3/lib/python3.11/site-packages (from trio-websocket~=0.9->selenium) (1.2.0)\n",
      "Requirement already satisfied: PySocks!=1.5.7,<2.0,>=1.5.6 in /Users/amirrezadarvishzadeh/miniconda3/lib/python3.11/site-packages (from urllib3[socks]<3,>=1.26->selenium) (1.7.1)\n",
      "Requirement already satisfied: h11<1,>=0.9.0 in /Users/amirrezadarvishzadeh/miniconda3/lib/python3.11/site-packages (from wsproto>=0.14->trio-websocket~=0.9->selenium) (0.14.0)\n",
      "\n",
      "\u001B[1m[\u001B[0m\u001B[34;49mnotice\u001B[0m\u001B[1;39;49m]\u001B[0m\u001B[39;49m A new release of pip is available: \u001B[0m\u001B[31;49m24.0\u001B[0m\u001B[39;49m -> \u001B[0m\u001B[32;49m24.2\u001B[0m\n",
      "\u001B[1m[\u001B[0m\u001B[34;49mnotice\u001B[0m\u001B[1;39;49m]\u001B[0m\u001B[39;49m To update, run: \u001B[0m\u001B[32;49mpip install --upgrade pip\u001B[0m\n"
     ]
    }
   ],
   "source": [
    "!pip install -U selenium"
   ]
  },
  {
   "cell_type": "markdown",
   "id": "87e50248-573f-4cde-8f53-0ba662d3fa99",
   "metadata": {},
   "source": [
    "Check it works"
   ]
  },
  {
   "cell_type": "markdown",
   "id": "d7ec84bc-ad3a-42f1-aaa1-078b051d967c",
   "metadata": {},
   "source": [
    "### Launch browser\n",
    "This will open a browser window"
   ]
  },
  {
   "cell_type": "code",
   "id": "6521014f-0e0e-4de1-b6f3-3cf75f63e7fc",
   "metadata": {
    "ExecuteTime": {
     "end_time": "2024-09-03T13:03:33.499018Z",
     "start_time": "2024-09-03T13:03:32.030176Z"
    }
   },
   "source": [
    "from selenium import webdriver\n",
    "browser = webdriver.Firefox()\n",
    "# browser = webdriver.Chrome()  # Make sure you have the ChromeDriver installed and in your PATH\n",
    "# or explicitly\n",
    "# browser = webdriver.Firefox(\n",
    "#     executable_path='C:/bin/geckodriver.exe', \n",
    "#     firefox_binary='C:/Program Files/Mozilla Firefox/firefox.exe'\n",
    "# )"
   ],
   "outputs": [],
   "execution_count": 69
  },
  {
   "cell_type": "markdown",
   "id": "e09e3842",
   "metadata": {
    "id": "e09e3842"
   },
   "source": [
    "### Download the page ... again"
   ]
  },
  {
   "cell_type": "code",
   "id": "b594e5be",
   "metadata": {
    "id": "b594e5be",
    "tags": [],
    "ExecuteTime": {
     "end_time": "2024-09-03T14:34:04.138721Z",
     "start_time": "2024-09-03T14:33:59.168410Z"
    }
   },
   "source": [
    "from selenium.webdriver.common.by import By\n",
    "from selenium import webdriver\n",
    "\n",
    "browser = webdriver.Firefox()\n",
    "browser.get(\"https://www.ozon.ru/category/smartfony-15502/\")\n",
    "browser.implicitly_wait(10)  # wait for 10 seconds\n",
    "# element = browser.find_element_by_id(\"button\")\n",
    "# element.click()\n",
    "button = browser.find_element(By.ID, 'reload-button')  # Replace 'button-id' with the actual ID of the button\n",
    "\n",
    "# Click the button\n",
    "button.click()"
   ],
   "outputs": [],
   "execution_count": 170
  },
  {
   "cell_type": "markdown",
   "id": "a738807e-8fca-4204-94da-79cb4f17e7d1",
   "metadata": {},
   "source": [
    "Now we have a browser that has downloaded the page for us!\n",
    "\n",
    "\n",
    "We want to know the price and the review score for some products (phone).\n",
    "First let's try selecting the elements that contains these phones."
   ]
  },
  {
   "cell_type": "code",
   "id": "c8a9ef8f-6988-4aa6-b4cd-60e8a2b31976",
   "metadata": {
    "ExecuteTime": {
     "end_time": "2024-09-03T14:08:18.251128Z",
     "start_time": "2024-09-03T14:08:14.338319Z"
    }
   },
   "source": [
    "import time\n",
    "browser.execute_script(\"window.scrollBy(0, document.body.scrollHeight);\")  # Scroll down by 400 pixels\n",
    "browser.implicitly_wait(3)  # wait for 3 seconds\n",
    "time.sleep(3)\n",
    "browser.execute_script(\"window.scrollBy(0, document.body.scrollHeight);\")\n",
    "browser.execute_script(\"window.scrollBy(100, document.body.scrollHeight);\")# Scroll down by 400 pixels\n",
    "\t\n",
    "elements = browser.find_elements(By.CSS_SELECTOR, '.j4n_23')\n",
    "for phone in elements:\t\n",
    "\tname = phone.find_element(By.CSS_SELECTOR, 'span.tsBody500Medium').text\n",
    "\tprice = phone.find_element(By.CSS_SELECTOR, 'span.tsHeadline500Medium').text\n",
    "\trateScore = phone.find_elements(By.CSS_SELECTOR, 'div.tsBodyMBold span.q2')\n",
    "\tif len(rateScore)!= 2:\n",
    "\t\tcontinue\n",
    "\trating = rateScore[0].text\n",
    "\tscores = rateScore[1].text\n",
    "\t\n",
    "\tprint(f\"Name: {name}\\n\"\n",
    "\t\t  f\"Price: {price}\\n\"\n",
    "\t\t  f\"Rating: {rating}\\n\"\n",
    "\t\t  f\"Scores: {scores}\\n------------\")"
   ],
   "outputs": [
    {
     "name": "stdout",
     "output_type": "stream",
     "text": [
      "Name: Tecno Смартфон Spark 20 8/128 ГБ, черный\n",
      "Price: 9 690 ₽\n",
      "Rating: 4.9  \n",
      "Scores: 1 586 отзывов\n",
      "------------\n",
      "Name: realme Смартфон Note 50 4/128 ГБ, голубой\n",
      "Price: 7 469 ₽\n",
      "Rating: 4.9  \n",
      "Scores: 37 245 отзывов\n",
      "------------\n",
      "Name: Xiaomi Смартфон Redmi A3 Global 4/128 ГБ, черный\n",
      "Price: 7 646 ₽\n",
      "Rating: 4.8  \n",
      "Scores: 2 049 отзывов\n",
      "------------\n",
      "Name: Infinix Смартфон HOT 40i 8/256 ГБ, голубой\n",
      "Price: 10 660 ₽\n",
      "Rating: 4.9  \n",
      "Scores: 1 639 отзывов\n",
      "------------\n",
      "Name: Infinix Смартфон NOTE 30i X6716 Ростест (EAC) 8/128 ГБ, черный\n",
      "Price: 10 589 ₽\n",
      "Rating: 4.9  \n",
      "Scores: 12 812 отзывов\n",
      "------------\n",
      "Name: HUAWEI Смартфон nova Y91 8/128 ГБ, черный\n",
      "Price: 10 799 ₽\n",
      "Rating: 4.9  \n",
      "Scores: 2 365 отзывов\n",
      "------------\n",
      "Name: Xiaomi Смартфон Redmi 13C 4/128 ГБ, синий\n",
      "Price: 10 030 ₽\n",
      "Rating: 4.9  \n",
      "Scores: 4 523 отзыва\n",
      "------------\n",
      "Name: Xiaomi Смартфон Redmi A3 Global 4/128 ГБ, голубой\n",
      "Price: 7 645 ₽\n",
      "Rating: 4.8  \n",
      "Scores: 2 049 отзывов\n",
      "------------\n",
      "Name: Xiaomi Смартфон Redmi Note 13 8/128 ГБ, синий\n",
      "Price: 14 302 ₽\n",
      "Rating: 4.9  \n",
      "Scores: 1 695 отзывов\n",
      "------------\n",
      "Name: Tecno Смартфон POVA 6 12/256 ГБ, серый\n",
      "Price: 18 629 ₽\n",
      "Rating: 4.9  \n",
      "Scores: 116 отзывов\n",
      "------------\n",
      "Name: HUAWEI Смартфон nova Y91 Ростест (EAC) 8/128 ГБ, серебристый\n",
      "Price: 10 799 ₽\n",
      "Rating: 4.9  \n",
      "Scores: 2 365 отзывов\n",
      "------------\n",
      "Name: Poco Смартфон M6 6/128 ГБ, черный\n",
      "Price: 11 017 ₽\n",
      "Rating: 4.8  \n",
      "Scores: 818 отзывов\n",
      "------------\n",
      "Name: GK Retail Смартфон SP2-10 Ростест (EAC) 16/1 ТБ, черный матовый\n",
      "Price: 7 450 ₽\n",
      "Rating: 4.8  \n",
      "Scores: 23 отзыва\n",
      "------------\n",
      "Name: Tecno Смартфон POVA 6 Pro 5G Ростест (EAC) 12/256 ГБ, темно-зеленый\n",
      "Price: 22 417 ₽\n",
      "Rating: 4.9  \n",
      "Scores: 188 отзывов\n",
      "------------\n",
      "Name: Tecno Смартфон Spark 20 Pro+ Ростест (EAC) 8/256 ГБ, черный матовый\n",
      "Price: 18 711 ₽\n",
      "Rating: 4.9  \n",
      "Scores: 438 отзывов\n",
      "------------\n",
      "Name: realme Смартфон С61 Ростест (EAC) 6/128 ГБ, золотой\n",
      "Price: 8 351 ₽\n",
      "Rating: 4.9  \n",
      "Scores: 138 отзывов\n",
      "------------\n",
      "Name: Alex Galagurskiy Смартфон S24 Ultra Ростест (EAC) 16/1 ТБ, черный\n",
      "Price: 6 027 ₽\n",
      "Rating: 5.0  \n",
      "Scores: 3 отзыва\n",
      "------------\n",
      "Name: HUAWEI Смартфон nova 12i Ростест (EAC) 8/256 ГБ, зеленый\n",
      "Price: 14 549 ₽\n",
      "Rating: 4.9  \n",
      "Scores: 108 отзывов\n",
      "------------\n"
     ]
    }
   ],
   "execution_count": 110
  },
  {
   "cell_type": "markdown",
   "id": "e23d7303-2eed-45fd-872a-a924869de998",
   "metadata": {},
   "source": [
    "### Next task \n",
    "- Navigate through the second page in the list\n",
    "- Select the first product among retrieved products (navigate)\n",
    "- print information about the product (О товаре)"
   ]
  },
  {
   "cell_type": "code",
   "id": "f3bc6e7e-21e8-433e-bf6c-1608b4b41114",
   "metadata": {
    "ExecuteTime": {
     "end_time": "2024-09-03T14:41:39.206574Z",
     "start_time": "2024-09-03T14:41:38.695454Z"
    }
   },
   "source": [
    "button = browser.find_element(By.CSS_SELECTOR, '.r2e .qe2')\n",
    "button.click()\n",
    "browser.execute_script(\"window.scrollBy(0, document.body.scrollHeight);\")  # Scroll down by 400 pixels\n",
    "browser.implicitly_wait(3)"
   ],
   "outputs": [],
   "execution_count": 184
  },
  {
   "metadata": {
    "ExecuteTime": {
     "end_time": "2024-09-03T14:51:12.864648Z",
     "start_time": "2024-09-03T14:51:09.032434Z"
    }
   },
   "cell_type": "code",
   "source": [
    "import json\n",
    "links = []\n",
    "buttons = browser.find_elements(By.CLASS_NAME, 'tile-hover-target')\n",
    "\n",
    "i = 0\n",
    "while len(links) != 5:\n",
    "\thref = buttons[i].get_attribute('href')\n",
    "\ti+=1\n",
    "\tif len(links) != 0 and href == links[-1]:\n",
    "\t\tcontinue\n",
    "\tlinks.append(href)\n",
    "\n",
    "for i, link in enumerate(links):\n",
    "\tbrowser.get(link)\n",
    "\tdata = {}\n",
    "\tinfoS = browser.find_elements(By.CLASS_NAME, 'm5u_27')\n",
    "\tfor element in infoS:\n",
    "\t\tname = element.find_element(By.CSS_SELECTOR, 'span.tsBodyM').text\n",
    "\t\tvalue = element.find_element(By.CLASS_NAME, 'tsBody400Small').text\n",
    "\t\tdata[name] = value\n",
    "\t\t\n",
    "\twith open(f'{i}.json', 'w') as f:\n",
    "\t\tjson.dump(data, f, indent=4, ensure_ascii=False)\n",
    "\t"
   ],
   "id": "8cbaf99a3509709b",
   "outputs": [
    {
     "name": "stdout",
     "output_type": "stream",
     "text": [
      "<class 'str'>\n",
      "<class 'str'>\n",
      "<class 'str'>\n",
      "<class 'str'>\n",
      "<class 'str'>\n",
      "{'Тип': 'Смартфон', 'Диагональ экрана, дюймы': '6.7', 'Емкость аккумулятора, мАч': '4500', 'Процессор': 'Snapdragon 680 (8 ядер), 2.4 ГГц', 'Беспроводные интерфейсы': 'NFC,'}\n",
      "<class 'str'>\n",
      "<class 'str'>\n",
      "<class 'str'>\n",
      "<class 'str'>\n",
      "<class 'str'>\n",
      "{'Тип': 'Смартфон', 'Диагональ экрана, дюймы': '6.6', 'Емкость аккумулятора, мАч': '5000', 'Основной материал корпуса': 'Пластик', 'Беспроводные интерфейсы': 'Wi-Fi,'}\n",
      "<class 'str'>\n",
      "<class 'str'>\n",
      "<class 'str'>\n",
      "<class 'str'>\n",
      "<class 'str'>\n",
      "{'Тип': 'Смартфон', 'Диагональ экрана, дюймы': '6.78', 'Емкость аккумулятора, мАч': '5500', 'Процессор': 'Dimensity 1000 Plus (8 ядер), 2.6 ГГц', 'Основной материал корпуса': 'Пластик'}\n",
      "<class 'str'>\n",
      "<class 'str'>\n",
      "<class 'str'>\n",
      "<class 'str'>\n",
      "<class 'str'>\n",
      "{'Тип': 'Смартфон', 'Диагональ экрана, дюймы': '6.56', 'Емкость аккумулятора, мАч': '5000', 'Процессор': 'Helio G36 (8 ядер), 2.2 ГГц', 'Основной материал корпуса': 'Пластик'}\n",
      "<class 'str'>\n",
      "<class 'str'>\n",
      "<class 'str'>\n",
      "<class 'str'>\n",
      "<class 'str'>\n",
      "{'Тип': 'Смартфон', 'Диагональ экрана, дюймы': '6.6', 'Емкость аккумулятора, мАч': '4900', 'Процессор': 'Kirin 9000S1 (8 ядер)', 'Основной материал корпуса': 'Металл,'}\n"
     ]
    }
   ],
   "execution_count": 197
  },
  {
   "metadata": {},
   "cell_type": "code",
   "outputs": [],
   "execution_count": null,
   "source": "",
   "id": "de231734573ddd32"
  }
 ],
 "metadata": {
  "colab": {
   "provenance": []
  },
  "kernelspec": {
   "display_name": "Python 3 (ipykernel)",
   "language": "python",
   "name": "python3"
  },
  "language_info": {
   "codemirror_mode": {
    "name": "ipython",
    "version": 3
   },
   "file_extension": ".py",
   "mimetype": "text/x-python",
   "name": "python",
   "nbconvert_exporter": "python",
   "pygments_lexer": "ipython3",
   "version": "3.11.5"
  }
 },
 "nbformat": 4,
 "nbformat_minor": 5
}
