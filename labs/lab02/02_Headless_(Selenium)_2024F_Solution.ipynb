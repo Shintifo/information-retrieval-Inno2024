{
 "cells": [
  {
   "cell_type": "markdown",
   "id": "24d56d6d",
   "metadata": {
    "id": "24d56d6d"
   },
   "source": [
    "# Ozon crawling!\n",
    "\n",
    "In this task we will crawl https://www.ozon.com/ website!\n",
    "\n",
    "**NB:** This lab is designed to be executed **locally** at your laptop, as it launches local application (browser). Indeed, headless mode can be used in colab, but this would also require specific browser installation steps. Thus, please use Anaconda."
   ]
  },
  {
   "cell_type": "markdown",
   "id": "0a1a041b",
   "metadata": {
    "id": "0a1a041b"
   },
   "source": [
    "## Dependency installation\n",
    "\n",
    "Let's try to load and parse the page the way we did before:"
   ]
  },
  {
   "cell_type": "code",
   "execution_count": 137,
   "id": "19e77ae4",
   "metadata": {
    "id": "19e77ae4",
    "outputId": "a879bc02-f1a3-4c9a-c340-87edebfd039e",
    "tags": []
   },
   "outputs": [
    {
     "name": "stdout",
     "output_type": "stream",
     "text": [
      "Status: 403\n"
     ]
    }
   ],
   "source": [
    "import requests\n",
    "from bs4 import BeautifulSoup\n",
    "resp = requests.get(\"https://www.ozon.ru/category/smartfony-15502/\")\n",
    "print(\"Status:\", resp.status_code)"
   ]
  },
  {
   "cell_type": "markdown",
   "id": "b7ccd713",
   "metadata": {
    "id": "b7ccd713"
   },
   "source": [
    "Wowowow! https://developer.mozilla.org/en-US/docs/Web/HTTP/Status/403\n",
    "```\n",
    "403 Forbidden – you don't have permission to access this resource is an HTTP status code that occurs when the web server understands the request but can't provide additional access. :\n",
    "```\n",
    "\n",
    "As we see, the output is not what we would expect. So, what can we do when a page is not being loaded right away, but is rather rendered by a script, and only in a valid browser? Browser engines can help us getting the data. Let's try to load the same web page, but do it in a different way: let's give a browser some time to load the scripts and run them. And then we will work with DOM (Document Object Model), but we will obtain this DOM from the browser engine itself, not via `BeautifulSoup`.\n",
    "\n",
    "Where do we get browser engine from? Simply installing a browser will do the thing. How do we send commands to it from the code, and retrieve the DOM? Service applications called `drivers` will interpret commands and translate them into browser actions.\n",
    "\n",
    "For each supported browser engine you will need to:\n",
    "1. install browser itself;\n",
    "2. download 'driver' - binary executable, which passed commands from selenium to browser. E.g. [Gecko = Firefox](https://github.com/mozilla/geckodriver/releases), [ChromeDriver](http://chromedriver.storage.googleapis.com/index.html);\n",
    "3. unpack driver into a folder under PATH environment variable. Or specify exact binary location when you write the code.\n",
    "\n",
    "### Download driver\n",
    "\n",
    "And place it in any folder or under PATH env. variable. [Firefox](https://github.com/mozilla/geckodriver/releases), [Chrome](http://chromedriver.storage.googleapis.com/index.html)\n",
    "\n",
    "**FireFox** is recommended for this lab\n",
    "\n",
    "### Install selenium\n",
    "\n",
    "Selenium is a powerful tool for automated UI testing. We will use it to emulate used actions with the website."
   ]
  },
  {
   "cell_type": "code",
   "execution_count": 9,
   "id": "4eea7c08-b96c-4a1b-8901-71e8e1e692a0",
   "metadata": {},
   "outputs": [
    {
     "name": "stdout",
     "output_type": "stream",
     "text": [
      "Requirement already satisfied: selenium in /Users/amirrezadarvishzadeh/miniconda3/lib/python3.11/site-packages (4.24.0)\n",
      "Requirement already satisfied: urllib3<3,>=1.26 in /Users/amirrezadarvishzadeh/miniconda3/lib/python3.11/site-packages (from urllib3[socks]<3,>=1.26->selenium) (1.26.18)\n",
      "Requirement already satisfied: trio~=0.17 in /Users/amirrezadarvishzadeh/miniconda3/lib/python3.11/site-packages (from selenium) (0.26.2)\n",
      "Requirement already satisfied: trio-websocket~=0.9 in /Users/amirrezadarvishzadeh/miniconda3/lib/python3.11/site-packages (from selenium) (0.11.1)\n",
      "Requirement already satisfied: certifi>=2021.10.8 in /Users/amirrezadarvishzadeh/miniconda3/lib/python3.11/site-packages (from selenium) (2023.11.17)\n",
      "Requirement already satisfied: typing_extensions~=4.9 in /Users/amirrezadarvishzadeh/miniconda3/lib/python3.11/site-packages (from selenium) (4.10.0)\n",
      "Requirement already satisfied: websocket-client~=1.8 in /Users/amirrezadarvishzadeh/miniconda3/lib/python3.11/site-packages (from selenium) (1.8.0)\n",
      "Requirement already satisfied: attrs>=23.2.0 in /Users/amirrezadarvishzadeh/miniconda3/lib/python3.11/site-packages (from trio~=0.17->selenium) (23.2.0)\n",
      "Requirement already satisfied: sortedcontainers in /Users/amirrezadarvishzadeh/miniconda3/lib/python3.11/site-packages (from trio~=0.17->selenium) (2.4.0)\n",
      "Requirement already satisfied: idna in /Users/amirrezadarvishzadeh/miniconda3/lib/python3.11/site-packages (from trio~=0.17->selenium) (3.4)\n",
      "Requirement already satisfied: outcome in /Users/amirrezadarvishzadeh/miniconda3/lib/python3.11/site-packages (from trio~=0.17->selenium) (1.3.0.post0)\n",
      "Requirement already satisfied: sniffio>=1.3.0 in /Users/amirrezadarvishzadeh/miniconda3/lib/python3.11/site-packages (from trio~=0.17->selenium) (1.3.1)\n",
      "Requirement already satisfied: wsproto>=0.14 in /Users/amirrezadarvishzadeh/miniconda3/lib/python3.11/site-packages (from trio-websocket~=0.9->selenium) (1.2.0)\n",
      "Requirement already satisfied: PySocks!=1.5.7,<2.0,>=1.5.6 in /Users/amirrezadarvishzadeh/miniconda3/lib/python3.11/site-packages (from urllib3[socks]<3,>=1.26->selenium) (1.7.1)\n",
      "Requirement already satisfied: h11<1,>=0.9.0 in /Users/amirrezadarvishzadeh/miniconda3/lib/python3.11/site-packages (from wsproto>=0.14->trio-websocket~=0.9->selenium) (0.14.0)\n",
      "\n",
      "\u001b[1m[\u001b[0m\u001b[34;49mnotice\u001b[0m\u001b[1;39;49m]\u001b[0m\u001b[39;49m A new release of pip is available: \u001b[0m\u001b[31;49m24.0\u001b[0m\u001b[39;49m -> \u001b[0m\u001b[32;49m24.2\u001b[0m\n",
      "\u001b[1m[\u001b[0m\u001b[34;49mnotice\u001b[0m\u001b[1;39;49m]\u001b[0m\u001b[39;49m To update, run: \u001b[0m\u001b[32;49mpip install --upgrade pip\u001b[0m\n"
     ]
    }
   ],
   "source": [
    "!pip install -U selenium"
   ]
  },
  {
   "cell_type": "markdown",
   "id": "87e50248-573f-4cde-8f53-0ba662d3fa99",
   "metadata": {},
   "source": [
    "Check it works"
   ]
  },
  {
   "cell_type": "code",
   "execution_count": 129,
   "id": "fcfb22dd-fbd2-4ca7-a23c-83b01cbb7020",
   "metadata": {},
   "outputs": [],
   "source": [
    "from selenium import webdriver"
   ]
  },
  {
   "cell_type": "markdown",
   "id": "d7ec84bc-ad3a-42f1-aaa1-078b051d967c",
   "metadata": {},
   "source": [
    "### Launch browser\n",
    "This will open a browser window"
   ]
  },
  {
   "cell_type": "code",
   "execution_count": 138,
   "id": "6521014f-0e0e-4de1-b6f3-3cf75f63e7fc",
   "metadata": {},
   "outputs": [],
   "source": [
    "browser = webdriver.Firefox()\n",
    "# browser = webdriver.Chrome()  # Make sure you have the ChromeDriver installed and in your PATH\n",
    "# or explicitly\n",
    "# browser = webdriver.Firefox(\n",
    "#     executable_path='C:/bin/geckodriver.exe', \n",
    "#     firefox_binary='C:/Program Files/Mozilla Firefox/firefox.exe'\n",
    "# )"
   ]
  },
  {
   "cell_type": "markdown",
   "id": "e09e3842",
   "metadata": {
    "id": "e09e3842"
   },
   "source": [
    "### Download the page ... again"
   ]
  },
  {
   "cell_type": "code",
   "execution_count": 139,
   "id": "b594e5be",
   "metadata": {
    "id": "b594e5be",
    "tags": []
   },
   "outputs": [],
   "source": [
    "from selenium.webdriver.common.by import By\n",
    "\n",
    "browser.get(\"https://www.ozon.ru/category/smartfony-15502/\")\n",
    "browser.implicitly_wait(5)  # wait for 10 seconds\n",
    "# element = browser.find_element_by_id(\"button\")\n",
    "# element.click()\n",
    "button = browser.find_element(By.ID, 'reload-button')  # Replace 'button-id' with the actual ID of the button\n",
    "\n",
    "# Click the button\n",
    "button.click()"
   ]
  },
  {
   "cell_type": "markdown",
   "id": "a738807e-8fca-4204-94da-79cb4f17e7d1",
   "metadata": {},
   "source": [
    "Now we have a browser that has downloaded the page for us!\n",
    "\n",
    "\n",
    "We want to know the price and the review score for some products (phone).\n",
    "First let's try selecting the elements that contains these phones."
   ]
  },
  {
   "cell_type": "code",
   "execution_count": 140,
   "id": "c8a9ef8f-6988-4aa6-b4cd-60e8a2b31976",
   "metadata": {},
   "outputs": [
    {
     "name": "stdout",
     "output_type": "stream",
     "text": [
      "36\n",
      "TechnoMiga Смартфон g24_ultra_серый_all Ростест (EAC) 2/32 ГБ, серебристый\n",
      "6 999 ₽\n",
      "5.0  35 отзывов\n",
      "\n",
      "TechnoMiga Смартфон G24_ultra_черный_all Ростест (EAC) 2/32 ГБ, черный\n",
      "6 899 ₽\n",
      "5.0  36 отзывов\n",
      "\n",
      "Xiaomi Смартфон Redmi Note 13 8/256 ГБ, синий\n",
      "16 019 ₽\n",
      "4.9  1 701 отзыв\n",
      "\n",
      "Tecno Смартфон Spark Go 2024 4/128 ГБ, черный\n",
      "7 294 ₽\n",
      "4.9  3 066 отзывов\n",
      "\n",
      "Tecno Смартфон Spark 20 8/128 ГБ, черный\n",
      "9 690 ₽\n",
      "4.9  1 588 отзывов\n",
      "\n",
      "Xiaomi Смартфон Redmi A3x 3/64 ГБ, черный\n",
      "5 917 ₽\n",
      "4.9  417 отзывов\n",
      "\n",
      "realme Смартфон Note 50 4/128 ГБ, голубой\n",
      "7 469 ₽\n",
      "4.9  37 275 отзывов\n",
      "\n",
      "Xiaomi Смартфон Redmi A3 Global 4/128 ГБ, черный\n",
      "7 646 ₽\n",
      "4.8  2 051 отзыв\n",
      "\n",
      "realme Смартфон Note 50 3/64 ГБ, черный\n",
      "6 208 ₽\n",
      "4.9  37 275 отзывов\n",
      "\n",
      "Infinix Смартфон NOTE 30i X6716 Ростест (EAC) 8/128 ГБ, черный\n",
      "10 148 ₽\n",
      "4.9  12 816 отзывов\n",
      "\n",
      "Xiaomi Смартфон Redmi 13C 4/128 ГБ, синий\n",
      "10 030 ₽\n",
      "4.9  4 536 отзывов\n",
      "\n",
      "Infinix Смартфон HOT 40i 8/256 ГБ, голубой\n",
      "10 660 ₽\n",
      "4.9  1 640 отзывов\n",
      "\n",
      "GK Retail Смартфон SP2-10 Ростест (EAC) 16/1 ТБ, черный матовый\n",
      "7 450 ₽\n",
      "4.8  23 отзыва\n",
      "\n",
      "ZUNYI Смартфон Note 30i, русская версия, сеть 4g, 7.3 дюйма, большой HD экран, противоударная и водонепроницаемая защита, мощный процессор, плавная игровая функция, гибкая фото функция, длительное время автономной работы, быстрая зарядка, отличный подарок, сенсорный телефон, порт Type-C, Ростест (EAC) 6/128 ГБ, черный\n",
      "7 461 ₽\n",
      "rating not found\n",
      "\n",
      "HUAWEI Смартфон nova Y91 8/128 ГБ, черный\n",
      "10 699 ₽\n",
      "4.9  2 378 отзывов\n",
      "\n",
      "Tecno Смартфон POVA 6 Pro 5G Ростест (EAC) 12/256 ГБ, темно-зеленый\n",
      "22 417 ₽\n",
      "4.9  188 отзывов\n",
      "\n",
      "realme Смартфон С61 Ростест (EAC) 6/128 ГБ, золотой\n",
      "8 351 ₽\n",
      "4.9  140 отзывов\n",
      "\n",
      "Xiaomi Смартфон Redmi Note 13 8/128 ГБ, синий\n",
      "14 302 ₽\n",
      "4.9  1 701 отзыв\n",
      "\n",
      "Alex Galagurskiy Смартфон S24 Ultra Ростест (EAC) 16/1 ТБ, черный\n",
      "6 027 ₽\n",
      "5.0  3 отзыва\n",
      "\n",
      "Смартфон GUSJI15-Black CN 16/1 ТБ, черный\n",
      "7 069 ₽\n",
      "rating not found\n",
      "\n",
      "HUAWEI Смартфон nova Y91 Ростест (EAC) 8/128 ГБ, серебристый\n",
      "10 699 ₽\n",
      "4.9  2 378 отзывов\n",
      "\n",
      "realme Смартфон C67 8/256 ГБ, черный\n",
      "14 917 ₽\n",
      "4.9  188 отзывов\n",
      "\n",
      "realme Смартфон С61 Ростест (EAC) 6/128 ГБ, зеленый, темно-зеленый\n",
      "8 351 ₽\n",
      "4.9  140 отзывов\n",
      "\n",
      "Tecno Смартфон Spark 20 Pro+ Ростест (EAC) 8/256 ГБ, черный матовый\n",
      "18 711 ₽\n",
      "4.9  438 отзывов\n",
      "\n",
      "Смартфон GUSJI15-Black CN 16/1 ТБ, черный\n",
      "9 366 ₽\n",
      "rating not found\n",
      "\n",
      "SHOWJI Смартфон LLL@9S19 Pro-BK-01 Global 16/512 ГБ, черный матовый\n",
      "9 151 ₽\n",
      "rating not found\n",
      "\n",
      "Tecno Смартфон POVA 6 12/256 ГБ, серый\n",
      "18 624 ₽\n",
      "4.9  116 отзывов\n",
      "\n",
      "Смартфон GUSJI15-Black CN 16/1 ТБ, черный\n",
      "7 069 ₽\n",
      "rating not found\n",
      "\n",
      "Taplet Смартфон Смартфон S24 Ultra Dual SIM Dual Standby Ультра низкая цена Музыкальный мобильный телефон Игровой кинотеатр HP Большая память Большая батарея i13 pro max TAPLET Импортный чип Экстремальная работа Бренд мобильного телефо EU 12/512 ГБ Global 12/512 ГБ, светло-желтый\n",
      "8 081 ₽\n",
      "rating not found\n",
      "\n",
      "Samsung Смартфон Galaxy A15 6/128 ГБ, голубой\n",
      "14 744 ₽\n",
      "4.9  237 отзывов\n",
      "\n",
      "ZUNYI Смартфон GT10 Plus, глобальная русская версия, сеть 4g, Android 14, две SIM-карты, 7,3 дюйма, подарок， ударопрочная и водонепроницаемая защита, мощные игровые функции, гибкая камера, длительное время автономной работы，Интерфейс Type-C Ростест (EAC) 8/256 ГБ, черный\n",
      "7 461 ₽\n",
      "rating not found\n",
      "\n",
      "SHOWJI Смартфон LCG@10S19 Pro-BK-01 Global 16/512 ГБ, белый, бежевый\n",
      "9 192 ₽\n",
      "rating not found\n",
      "\n",
      "Infinix Смартфон NOTE 40 PRO 8/256 ГБ, золотой\n",
      "19 884 ₽\n",
      "5.0  101 отзыв\n",
      "\n",
      "GK Retail Смартфон SP3-90 Ростест (EAC) 16/1 ТБ, черный матовый\n",
      "7 012 ₽\n",
      "4.7  260 отзывов\n",
      "\n",
      "realme Смартфон C61 Ростест (EAC) 8/256 ГБ, золотой\n",
      "10 857 ₽\n",
      "4.9  140 отзывов\n",
      "\n",
      "HUAWEI Смартфон nova 12i Ростест (EAC) 8/256 ГБ, зеленый\n",
      "14 549 ₽\n",
      "4.9  109 отзывов\n",
      "\n"
     ]
    }
   ],
   "source": [
    "browser.execute_script(\"window.scrollBy(0, document.body.scrollHeight);\")  # Scroll down by 400 pixels\n",
    "browser.implicitly_wait(3)  # wait for 3 seconds\n",
    "time.sleep(3)\n",
    "browser.execute_script(\"window.scrollBy(0, document.body.scrollHeight);\")  # Scroll down by 400 pixels\n",
    "\n",
    "# ToDo: Find the info for each phone\n",
    "\n",
    "elements = browser.find_elements(By.CSS_SELECTOR, '.j4n_23')\n",
    "\n",
    "# Loop through each element and find the nested <span> with class 'tsBody500Medium'\n",
    "elements = browser.find_elements(By.CSS_SELECTOR, '.j4n_23')\n",
    "\n",
    "# Loop through each element and find the nested <span> with class 'tsBody500Medium'\n",
    "print(len(elements))\n",
    "for element in elements:\n",
    "    try:\n",
    "        span_element = element.find_element(By.CSS_SELECTOR, \".tsBody500Medium\")\n",
    "        print(span_element.text)\n",
    "    except:\n",
    "        print(\"Span element with class 'tsBody500Medium' not found in this element.\")\n",
    "    try:\n",
    "        span_element = element.find_element(By.CSS_SELECTOR, \".c3015-a1\")\n",
    "        print(span_element.text)\n",
    "    except:\n",
    "        print(\"price not found\")\n",
    "    try:\n",
    "        span_element = element.find_element(By.CSS_SELECTOR, \".tsBodyMBold\")\n",
    "        # span_element = span_element.find_element(By.CSS_SELECTOR, '.q2')\n",
    "        print(span_element.text)\n",
    "    except:\n",
    "        print(\"rating not found\")\n",
    "    print()"
   ]
  },
  {
   "cell_type": "markdown",
   "id": "e23d7303-2eed-45fd-872a-a924869de998",
   "metadata": {},
   "source": [
    "### Next task \n",
    "- Navigate through the second page in the list\n",
    "- Select the first product among retrieved products (navigate)\n",
    "- print information about the product (О товаре)"
   ]
  },
  {
   "cell_type": "code",
   "execution_count": null,
   "id": "f3bc6e7e-21e8-433e-bf6c-1608b4b41114",
   "metadata": {},
   "outputs": [],
   "source": [
    "# ToDo: Print information about first product in the second page\n",
    "next_button = browser.find_element(By.CSS_SELECTOR, '.qe2')\n",
    "next_button.click()\n",
    "browser.implicitly_wait(5) \n",
    "\n",
    "element = browser.find_element(By.CSS_SELECTOR, '.j4n_23')\n",
    "link = element.find_element(By.CSS_SELECTOR, '.jl0_23')\n",
    "link.click()\n",
    "browser.implicitly_wait(5) \n",
    "\n",
    "about_phone= browser.find_element(By.CSS_SELECTOR, '.mu5_27')\n",
    "print(about_phone.text)"
   ]
  },
  {
   "cell_type": "code",
   "execution_count": null,
   "id": "ef5daddb-00b7-4bb3-8a63-d93897790b3c",
   "metadata": {},
   "outputs": [],
   "source": []
  }
 ],
 "metadata": {
  "colab": {
   "provenance": []
  },
  "kernelspec": {
   "display_name": "Python 3 (ipykernel)",
   "language": "python",
   "name": "python3"
  },
  "language_info": {
   "codemirror_mode": {
    "name": "ipython",
    "version": 3
   },
   "file_extension": ".py",
   "mimetype": "text/x-python",
   "name": "python",
   "nbconvert_exporter": "python",
   "pygments_lexer": "ipython3",
   "version": "3.11.5"
  }
 },
 "nbformat": 4,
 "nbformat_minor": 5
}
